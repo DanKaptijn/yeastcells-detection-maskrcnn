{
 "cells": [
  {
   "cell_type": "markdown",
   "metadata": {},
   "source": [
    "# Yeast cells detection evaluation notebook"
   ]
  },
  {
   "cell_type": "code",
   "execution_count": 1,
   "metadata": {},
   "outputs": [],
   "source": [
    "import sys\n",
    "sys.path.append('../')\n",
    "#sys.path.append('%HOMEPATH%/detectron2') #insert local path to detecron2\n",
    "import numpy as np\n",
    "\n",
    "import yeastcells.clustering as clustering\n",
    "import yeastcells.features as features\n",
    "import yeastcells.data as data\n",
    "import yeastcells.model as model\n",
    "import yeastcells.output as output\n",
    "import yeastcells.visualize as visualize\n",
    "import yeastcells.evaluation as evaluation\n",
    "# import yeastcells.fp as fp\n",
    "\n",
    "import matplotlib.pyplot as pyplot\n",
    "%matplotlib notebook"
   ]
  },
  {
   "cell_type": "code",
   "execution_count": 2,
   "metadata": {},
   "outputs": [
    {
     "name": "stdout",
     "output_type": "stream",
     "text": [
      "/home/p301081\n"
     ]
    }
   ],
   "source": [
    "cd ~"
   ]
  },
  {
   "cell_type": "markdown",
   "metadata": {},
   "source": [
    "### Load data"
   ]
  },
  {
   "cell_type": "code",
   "execution_count": 3,
   "metadata": {},
   "outputs": [],
   "source": [
    "TS = 'TestSet4' #choose YIT test set\n",
    "path = f'../../slow-data/yeastcells/data/cellstar_benchmark/{TS}'\n",
    "filenames = data.load_data(path)"
   ]
  },
  {
   "cell_type": "code",
   "execution_count": 4,
   "metadata": {},
   "outputs": [
    {
     "data": {
      "text/plain": [
       "(20, 512, 512, 3)"
      ]
     },
     "execution_count": 4,
     "metadata": {},
     "output_type": "execute_result"
    }
   ],
   "source": [
    "image = data.read_images_cat(filenames)\n",
    "np.shape(image)"
   ]
  },
  {
   "cell_type": "markdown",
   "metadata": {},
   "source": [
    "### Load and run model on data for segmentation"
   ]
  },
  {
   "cell_type": "code",
   "execution_count": 14,
   "metadata": {},
   "outputs": [
    {
     "name": "stderr",
     "output_type": "stream",
     "text": [
      "/home/p301081/.virtualenvs/yeastcells/lib/python3.7/site-packages/sklearn/neighbors/_base.py:168: EfficiencyWarning: Precomputed sparse input was not sorted by data.\n",
      "  EfficiencyWarning)\n",
      "/home/p301081/.virtualenvs/yeastcells/lib/python3.7/site-packages/sklearn/neighbors/_base.py:168: EfficiencyWarning: Precomputed sparse input was not sorted by data.\n",
      "  EfficiencyWarning)\n",
      "/home/p301081/.virtualenvs/yeastcells/lib/python3.7/site-packages/sklearn/neighbors/_base.py:168: EfficiencyWarning: Precomputed sparse input was not sorted by data.\n",
      "  EfficiencyWarning)\n",
      "/home/p301081/.virtualenvs/yeastcells/lib/python3.7/site-packages/sklearn/neighbors/_base.py:168: EfficiencyWarning: Precomputed sparse input was not sorted by data.\n",
      "  EfficiencyWarning)\n",
      "/home/p301081/.virtualenvs/yeastcells/lib/python3.7/site-packages/sklearn/neighbors/_base.py:168: EfficiencyWarning: Precomputed sparse input was not sorted by data.\n",
      "  EfficiencyWarning)\n",
      "/home/p301081/.virtualenvs/yeastcells/lib/python3.7/site-packages/sklearn/neighbors/_base.py:168: EfficiencyWarning: Precomputed sparse input was not sorted by data.\n",
      "  EfficiencyWarning)\n",
      "/home/p301081/.virtualenvs/yeastcells/lib/python3.7/site-packages/sklearn/neighbors/_base.py:168: EfficiencyWarning: Precomputed sparse input was not sorted by data.\n",
      "  EfficiencyWarning)\n",
      "/home/p301081/.virtualenvs/yeastcells/lib/python3.7/site-packages/sklearn/neighbors/_base.py:168: EfficiencyWarning: Precomputed sparse input was not sorted by data.\n",
      "  EfficiencyWarning)\n",
      "/home/p301081/.virtualenvs/yeastcells/lib/python3.7/site-packages/sklearn/neighbors/_base.py:168: EfficiencyWarning: Precomputed sparse input was not sorted by data.\n",
      "  EfficiencyWarning)\n",
      "/home/p301081/.virtualenvs/yeastcells/lib/python3.7/site-packages/sklearn/neighbors/_base.py:168: EfficiencyWarning: Precomputed sparse input was not sorted by data.\n",
      "  EfficiencyWarning)\n"
     ]
    }
   ],
   "source": [
    "precision_s = []\n",
    "recall_s = []\n",
    "accuracy_s = []\n",
    "F_s = []\n",
    "precision_t = []\n",
    "recall_t = []\n",
    "accuracy_t = []\n",
    "F_t = []\n",
    "\n",
    "s_path = f'{path}/GroundTruth_Segmentation.csv'\n",
    "t_path = f'{path}/GroundTruth_Tracking.csv'\n",
    "gt_s, gt_t = data.get_gt_yit(seg_path=s_path, track_path=t_path)\n",
    "\n",
    "#set path to model_final.pth\n",
    "model_path = '/var/tensorflow-logs/p253591/yeast-cell-detection-run-4'\n",
    "\n",
    "sts = [.9,.91,.92,.93,.94,.95,.96,.97,.98,.99]\n",
    "\n",
    "for i in range(len(sts)):\n",
    "#load model\n",
    "    predictor = model.load_model(model_path, seg_thresh=sts[i], device='cuda:0') #set GPU if available otherwise use 'cpu'\n",
    "\n",
    "    output = [\n",
    "      {'instances': predictor(frame)['instances'].to('cpu')}\n",
    "      for frame in image\n",
    "    ]\n",
    "\n",
    "    labels, coordinates = clustering.cluster_cells(output, dmax=5, min_samples=3, eps=0.6, progress=False)\n",
    "\n",
    "    pred_s, pred_t, _ = data.get_pred(output, labels, coordinates)\n",
    "\n",
    "    pred_s_, results_s = evaluation.get_seg_performance(pred_s, gt_s, output, pipeline='maskrcnn') \n",
    "    pred_t_, results_t = evaluation.get_track_performance(pred_t, gt_t, output, pipeline='maskrcnn')\n",
    "\n",
    "    metrics_s = evaluation.calculate_metrics(results_s, pred_s_, gt_s)\n",
    "    metrics_t = evaluation.calculate_metrics(results_t, pred_t_, gt_t)\n",
    "    \n",
    "    precision_s.append(metrics_s['Precision'])\n",
    "    recall_s.append(metrics_s['Recall'])\n",
    "    accuracy_s.append(metrics_s['Accuracy'])\n",
    "    F_s.append(metrics_s['F1-score'])\n",
    "    precision_t.append(metrics_t['Precision'])\n",
    "    recall_t.append(metrics_t['Recall'])\n",
    "    accuracy_t.append(metrics_t['Accuracy'])\n",
    "    F_t.append(metrics_t['F1-score'])"
   ]
  },
  {
   "cell_type": "code",
   "execution_count": null,
   "metadata": {},
   "outputs": [],
   "source": [
    "pyplot.figure()\n",
    "pyplot.title(f'Segmentation performance Mask RCNN {TS}')\n",
    "pyplot.xlabel('Segmentation threshold')\n",
    "pyplot.ylabel('Metrics')\n",
    "pyplot.plot(sts, F_s, label='F1-score')\n",
    "pyplot.plot(sts, accuracy_s, label='accuracy')\n",
    "pyplot.plot(sts, precision_s, label='precision')\n",
    "pyplot.plot(sts, recall_s, label='recall')\n",
    "pyplot.legend()"
   ]
  },
  {
   "cell_type": "code",
   "execution_count": null,
   "metadata": {},
   "outputs": [],
   "source": [
    "pyplot.figure()\n",
    "pyplot.title(f'Tracking performance Mask RCNN {TS}')\n",
    "pyplot.xlabel('Segmentation threshold')\n",
    "pyplot.ylabel('Metrics')\n",
    "pyplot.plot(sts, F_t, label='F1-score')\n",
    "pyplot.plot(sts, accuracy_t, label='accuracy')\n",
    "pyplot.plot(sts, precision_t, label='precision')\n",
    "pyplot.plot(sts, recall_t, label='recall')\n",
    "pyplot.legend()"
   ]
  },
  {
   "cell_type": "code",
   "execution_count": 17,
   "metadata": {},
   "outputs": [
    {
     "name": "stderr",
     "output_type": "stream",
     "text": [
      "/home/p301081/.virtualenvs/yeastcells/lib/python3.7/site-packages/sklearn/neighbors/_base.py:168: EfficiencyWarning: Precomputed sparse input was not sorted by data.\n",
      "  EfficiencyWarning)\n"
     ]
    },
    {
     "name": "stdout",
     "output_type": "stream",
     "text": [
      "0.9995\n",
      "0.4791\n",
      "0.4790\n",
      "0.6478\n",
      "0.8890\n",
      "0.3999\n",
      "0.3809\n",
      "0.5517\n"
     ]
    }
   ],
   "source": [
    "# rerun pipeline with optimized sts\n",
    "predictor = model.load_model(model_path, seg_thresh=0.9, device='cuda:0') #set GPU if available otherwise use 'cpu'\n",
    "output = [\n",
    "      {'instances': predictor(frame)['instances'].to('cpu')}\n",
    "      for frame in image\n",
    "    ]\n",
    "labels, coordinates = clustering.cluster_cells(output, dmax=5, min_samples=3, eps=0.6, progress=False)\n",
    "pred_s, pred_t, _ = data.get_pred(output, labels, coordinates)\n",
    "pred_s_, results_s = evaluation.get_seg_performance(pred_s, gt_s, output, pipeline='maskrcnn') \n",
    "pred_t_, results_t = evaluation.get_track_performance(pred_t, gt_t, output, pipeline='maskrcnn')\n",
    "metrics_s = evaluation.calculate_metrics(results_s, pred_s_, gt_s)\n",
    "metrics_t = evaluation.calculate_metrics(results_t, pred_t_, gt_t) \n",
    "\n",
    "print(\"%.4f\" % metrics_s['Precision'])\n",
    "print(\"%.4f\" % metrics_s['Recall'])\n",
    "print(\"%.4f\" % metrics_s['Accuracy'])\n",
    "print(\"%.4f\" % metrics_s['F1-score'])\n",
    "print(\"%.4f\" % metrics_t['Precision'])\n",
    "print(\"%.4f\" % metrics_t['Recall'])\n",
    "print(\"%.4f\" % metrics_t['Accuracy'])\n",
    "print(\"%.4f\" % metrics_t['F1-score'])"
   ]
  },
  {
   "cell_type": "code",
   "execution_count": null,
   "metadata": {},
   "outputs": [],
   "source": []
  }
 ],
 "metadata": {
  "kernelspec": {
   "display_name": "Yeast Cells",
   "language": "python",
   "name": "yeastcells"
  },
  "language_info": {
   "codemirror_mode": {
    "name": "ipython",
    "version": 3
   },
   "file_extension": ".py",
   "mimetype": "text/x-python",
   "name": "python",
   "nbconvert_exporter": "python",
   "pygments_lexer": "ipython3",
   "version": "3.7.8"
  }
 },
 "nbformat": 4,
 "nbformat_minor": 4
}
