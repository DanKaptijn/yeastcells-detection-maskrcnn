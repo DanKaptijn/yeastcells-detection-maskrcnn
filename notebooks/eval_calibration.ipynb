{
  "nbformat": 4,
  "nbformat_minor": 0,
  "metadata": {
    "kernelspec": {
      "name": "python3",
      "display_name": "Python 3"
    },
    "colab": {
      "name": "eval_calibration.ipynb",
      "provenance": [],
      "collapsed_sections": []
    },
    "accelerator": "GPU",
    "language_info": {
      "name": "python"
    },
    "widgets": {
      "application/vnd.jupyter.widget-state+json": {
        "07c1feda92b44fc297f352c29afc469e": {
          "model_module": "@jupyter-widgets/controls",
          "model_name": "HBoxModel",
          "state": {
            "_view_name": "HBoxView",
            "_dom_classes": [],
            "_model_name": "HBoxModel",
            "_view_module": "@jupyter-widgets/controls",
            "_model_module_version": "1.5.0",
            "_view_count": null,
            "_view_module_version": "1.5.0",
            "box_style": "",
            "layout": "IPY_MODEL_3533539281bb4926934389ce705fb732",
            "_model_module": "@jupyter-widgets/controls",
            "children": [
              "IPY_MODEL_b6c770b3dd364eedbb43609f6f63d7a8",
              "IPY_MODEL_a86aad9cbf8a4f28820c66dbae532056"
            ]
          }
        },
        "3533539281bb4926934389ce705fb732": {
          "model_module": "@jupyter-widgets/base",
          "model_name": "LayoutModel",
          "state": {
            "_view_name": "LayoutView",
            "grid_template_rows": null,
            "right": null,
            "justify_content": null,
            "_view_module": "@jupyter-widgets/base",
            "overflow": null,
            "_model_module_version": "1.2.0",
            "_view_count": null,
            "flex_flow": null,
            "width": null,
            "min_width": null,
            "border": null,
            "align_items": null,
            "bottom": null,
            "_model_module": "@jupyter-widgets/base",
            "top": null,
            "grid_column": null,
            "overflow_y": null,
            "overflow_x": null,
            "grid_auto_flow": null,
            "grid_area": null,
            "grid_template_columns": null,
            "flex": null,
            "_model_name": "LayoutModel",
            "justify_items": null,
            "grid_row": null,
            "max_height": null,
            "align_content": null,
            "visibility": null,
            "align_self": null,
            "height": null,
            "min_height": null,
            "padding": null,
            "grid_auto_rows": null,
            "grid_gap": null,
            "max_width": null,
            "order": null,
            "_view_module_version": "1.2.0",
            "grid_template_areas": null,
            "object_position": null,
            "object_fit": null,
            "grid_auto_columns": null,
            "margin": null,
            "display": null,
            "left": null
          }
        },
        "b6c770b3dd364eedbb43609f6f63d7a8": {
          "model_module": "@jupyter-widgets/controls",
          "model_name": "FloatProgressModel",
          "state": {
            "_view_name": "ProgressView",
            "style": "IPY_MODEL_e04452ef27c248fb94fcc4e28d23c8f3",
            "_dom_classes": [],
            "description": "100%",
            "_model_name": "FloatProgressModel",
            "bar_style": "success",
            "max": 60,
            "_view_module": "@jupyter-widgets/controls",
            "_model_module_version": "1.5.0",
            "value": 60,
            "_view_count": null,
            "_view_module_version": "1.5.0",
            "orientation": "horizontal",
            "min": 0,
            "description_tooltip": null,
            "_model_module": "@jupyter-widgets/controls",
            "layout": "IPY_MODEL_ad3e8ba0cc414f23a48daa26559bd86a"
          }
        },
        "a86aad9cbf8a4f28820c66dbae532056": {
          "model_module": "@jupyter-widgets/controls",
          "model_name": "HTMLModel",
          "state": {
            "_view_name": "HTMLView",
            "style": "IPY_MODEL_5f8a2dc757154989bfb1268a6b3ab573",
            "_dom_classes": [],
            "description": "",
            "_model_name": "HTMLModel",
            "placeholder": "​",
            "_view_module": "@jupyter-widgets/controls",
            "_model_module_version": "1.5.0",
            "value": " 60/60 [00:27&lt;00:00,  2.22it/s]",
            "_view_count": null,
            "_view_module_version": "1.5.0",
            "description_tooltip": null,
            "_model_module": "@jupyter-widgets/controls",
            "layout": "IPY_MODEL_81e8cd0035e845dd91643e4108b4aaae"
          }
        },
        "e04452ef27c248fb94fcc4e28d23c8f3": {
          "model_module": "@jupyter-widgets/controls",
          "model_name": "ProgressStyleModel",
          "state": {
            "_view_name": "StyleView",
            "_model_name": "ProgressStyleModel",
            "description_width": "initial",
            "_view_module": "@jupyter-widgets/base",
            "_model_module_version": "1.5.0",
            "_view_count": null,
            "_view_module_version": "1.2.0",
            "bar_color": null,
            "_model_module": "@jupyter-widgets/controls"
          }
        },
        "ad3e8ba0cc414f23a48daa26559bd86a": {
          "model_module": "@jupyter-widgets/base",
          "model_name": "LayoutModel",
          "state": {
            "_view_name": "LayoutView",
            "grid_template_rows": null,
            "right": null,
            "justify_content": null,
            "_view_module": "@jupyter-widgets/base",
            "overflow": null,
            "_model_module_version": "1.2.0",
            "_view_count": null,
            "flex_flow": null,
            "width": null,
            "min_width": null,
            "border": null,
            "align_items": null,
            "bottom": null,
            "_model_module": "@jupyter-widgets/base",
            "top": null,
            "grid_column": null,
            "overflow_y": null,
            "overflow_x": null,
            "grid_auto_flow": null,
            "grid_area": null,
            "grid_template_columns": null,
            "flex": null,
            "_model_name": "LayoutModel",
            "justify_items": null,
            "grid_row": null,
            "max_height": null,
            "align_content": null,
            "visibility": null,
            "align_self": null,
            "height": null,
            "min_height": null,
            "padding": null,
            "grid_auto_rows": null,
            "grid_gap": null,
            "max_width": null,
            "order": null,
            "_view_module_version": "1.2.0",
            "grid_template_areas": null,
            "object_position": null,
            "object_fit": null,
            "grid_auto_columns": null,
            "margin": null,
            "display": null,
            "left": null
          }
        },
        "5f8a2dc757154989bfb1268a6b3ab573": {
          "model_module": "@jupyter-widgets/controls",
          "model_name": "DescriptionStyleModel",
          "state": {
            "_view_name": "StyleView",
            "_model_name": "DescriptionStyleModel",
            "description_width": "",
            "_view_module": "@jupyter-widgets/base",
            "_model_module_version": "1.5.0",
            "_view_count": null,
            "_view_module_version": "1.2.0",
            "_model_module": "@jupyter-widgets/controls"
          }
        },
        "81e8cd0035e845dd91643e4108b4aaae": {
          "model_module": "@jupyter-widgets/base",
          "model_name": "LayoutModel",
          "state": {
            "_view_name": "LayoutView",
            "grid_template_rows": null,
            "right": null,
            "justify_content": null,
            "_view_module": "@jupyter-widgets/base",
            "overflow": null,
            "_model_module_version": "1.2.0",
            "_view_count": null,
            "flex_flow": null,
            "width": null,
            "min_width": null,
            "border": null,
            "align_items": null,
            "bottom": null,
            "_model_module": "@jupyter-widgets/base",
            "top": null,
            "grid_column": null,
            "overflow_y": null,
            "overflow_x": null,
            "grid_auto_flow": null,
            "grid_area": null,
            "grid_template_columns": null,
            "flex": null,
            "_model_name": "LayoutModel",
            "justify_items": null,
            "grid_row": null,
            "max_height": null,
            "align_content": null,
            "visibility": null,
            "align_self": null,
            "height": null,
            "min_height": null,
            "padding": null,
            "grid_auto_rows": null,
            "grid_gap": null,
            "max_width": null,
            "order": null,
            "_view_module_version": "1.2.0",
            "grid_template_areas": null,
            "object_position": null,
            "object_fit": null,
            "grid_auto_columns": null,
            "margin": null,
            "display": null,
            "left": null
          }
        },
        "2481c23e4b5d46919a14670dd4d5f697": {
          "model_module": "@jupyter-widgets/controls",
          "model_name": "HBoxModel",
          "state": {
            "_view_name": "HBoxView",
            "_dom_classes": [],
            "_model_name": "HBoxModel",
            "_view_module": "@jupyter-widgets/controls",
            "_model_module_version": "1.5.0",
            "_view_count": null,
            "_view_module_version": "1.5.0",
            "box_style": "",
            "layout": "IPY_MODEL_dfb194397900485484b6fcdb34019cb7",
            "_model_module": "@jupyter-widgets/controls",
            "children": [
              "IPY_MODEL_a4c17e23b19a439187ab72839c87e26c",
              "IPY_MODEL_271f1741e42647b88a45c7f7ac669e15"
            ]
          }
        },
        "dfb194397900485484b6fcdb34019cb7": {
          "model_module": "@jupyter-widgets/base",
          "model_name": "LayoutModel",
          "state": {
            "_view_name": "LayoutView",
            "grid_template_rows": null,
            "right": null,
            "justify_content": null,
            "_view_module": "@jupyter-widgets/base",
            "overflow": null,
            "_model_module_version": "1.2.0",
            "_view_count": null,
            "flex_flow": null,
            "width": null,
            "min_width": null,
            "border": null,
            "align_items": null,
            "bottom": null,
            "_model_module": "@jupyter-widgets/base",
            "top": null,
            "grid_column": null,
            "overflow_y": null,
            "overflow_x": null,
            "grid_auto_flow": null,
            "grid_area": null,
            "grid_template_columns": null,
            "flex": null,
            "_model_name": "LayoutModel",
            "justify_items": null,
            "grid_row": null,
            "max_height": null,
            "align_content": null,
            "visibility": null,
            "align_self": null,
            "height": null,
            "min_height": null,
            "padding": null,
            "grid_auto_rows": null,
            "grid_gap": null,
            "max_width": null,
            "order": null,
            "_view_module_version": "1.2.0",
            "grid_template_areas": null,
            "object_position": null,
            "object_fit": null,
            "grid_auto_columns": null,
            "margin": null,
            "display": null,
            "left": null
          }
        },
        "a4c17e23b19a439187ab72839c87e26c": {
          "model_module": "@jupyter-widgets/controls",
          "model_name": "FloatProgressModel",
          "state": {
            "_view_name": "ProgressView",
            "style": "IPY_MODEL_ce78950c52bc45ca974cdaeb624c8733",
            "_dom_classes": [],
            "description": "100%",
            "_model_name": "FloatProgressModel",
            "bar_style": "success",
            "max": 60,
            "_view_module": "@jupyter-widgets/controls",
            "_model_module_version": "1.5.0",
            "value": 60,
            "_view_count": null,
            "_view_module_version": "1.5.0",
            "orientation": "horizontal",
            "min": 0,
            "description_tooltip": null,
            "_model_module": "@jupyter-widgets/controls",
            "layout": "IPY_MODEL_a0e1f68ceb314f59a0f840d342266b77"
          }
        },
        "271f1741e42647b88a45c7f7ac669e15": {
          "model_module": "@jupyter-widgets/controls",
          "model_name": "HTMLModel",
          "state": {
            "_view_name": "HTMLView",
            "style": "IPY_MODEL_195a62b506ec4536ae6d401a1a757561",
            "_dom_classes": [],
            "description": "",
            "_model_name": "HTMLModel",
            "placeholder": "​",
            "_view_module": "@jupyter-widgets/controls",
            "_model_module_version": "1.5.0",
            "value": " 60/60 [00:20&lt;00:00,  2.95it/s]",
            "_view_count": null,
            "_view_module_version": "1.5.0",
            "description_tooltip": null,
            "_model_module": "@jupyter-widgets/controls",
            "layout": "IPY_MODEL_1f53bfeb55174707a2cde9d3ce2d42ef"
          }
        },
        "ce78950c52bc45ca974cdaeb624c8733": {
          "model_module": "@jupyter-widgets/controls",
          "model_name": "ProgressStyleModel",
          "state": {
            "_view_name": "StyleView",
            "_model_name": "ProgressStyleModel",
            "description_width": "initial",
            "_view_module": "@jupyter-widgets/base",
            "_model_module_version": "1.5.0",
            "_view_count": null,
            "_view_module_version": "1.2.0",
            "bar_color": null,
            "_model_module": "@jupyter-widgets/controls"
          }
        },
        "a0e1f68ceb314f59a0f840d342266b77": {
          "model_module": "@jupyter-widgets/base",
          "model_name": "LayoutModel",
          "state": {
            "_view_name": "LayoutView",
            "grid_template_rows": null,
            "right": null,
            "justify_content": null,
            "_view_module": "@jupyter-widgets/base",
            "overflow": null,
            "_model_module_version": "1.2.0",
            "_view_count": null,
            "flex_flow": null,
            "width": null,
            "min_width": null,
            "border": null,
            "align_items": null,
            "bottom": null,
            "_model_module": "@jupyter-widgets/base",
            "top": null,
            "grid_column": null,
            "overflow_y": null,
            "overflow_x": null,
            "grid_auto_flow": null,
            "grid_area": null,
            "grid_template_columns": null,
            "flex": null,
            "_model_name": "LayoutModel",
            "justify_items": null,
            "grid_row": null,
            "max_height": null,
            "align_content": null,
            "visibility": null,
            "align_self": null,
            "height": null,
            "min_height": null,
            "padding": null,
            "grid_auto_rows": null,
            "grid_gap": null,
            "max_width": null,
            "order": null,
            "_view_module_version": "1.2.0",
            "grid_template_areas": null,
            "object_position": null,
            "object_fit": null,
            "grid_auto_columns": null,
            "margin": null,
            "display": null,
            "left": null
          }
        },
        "195a62b506ec4536ae6d401a1a757561": {
          "model_module": "@jupyter-widgets/controls",
          "model_name": "DescriptionStyleModel",
          "state": {
            "_view_name": "StyleView",
            "_model_name": "DescriptionStyleModel",
            "description_width": "",
            "_view_module": "@jupyter-widgets/base",
            "_model_module_version": "1.5.0",
            "_view_count": null,
            "_view_module_version": "1.2.0",
            "_model_module": "@jupyter-widgets/controls"
          }
        },
        "1f53bfeb55174707a2cde9d3ce2d42ef": {
          "model_module": "@jupyter-widgets/base",
          "model_name": "LayoutModel",
          "state": {
            "_view_name": "LayoutView",
            "grid_template_rows": null,
            "right": null,
            "justify_content": null,
            "_view_module": "@jupyter-widgets/base",
            "overflow": null,
            "_model_module_version": "1.2.0",
            "_view_count": null,
            "flex_flow": null,
            "width": null,
            "min_width": null,
            "border": null,
            "align_items": null,
            "bottom": null,
            "_model_module": "@jupyter-widgets/base",
            "top": null,
            "grid_column": null,
            "overflow_y": null,
            "overflow_x": null,
            "grid_auto_flow": null,
            "grid_area": null,
            "grid_template_columns": null,
            "flex": null,
            "_model_name": "LayoutModel",
            "justify_items": null,
            "grid_row": null,
            "max_height": null,
            "align_content": null,
            "visibility": null,
            "align_self": null,
            "height": null,
            "min_height": null,
            "padding": null,
            "grid_auto_rows": null,
            "grid_gap": null,
            "max_width": null,
            "order": null,
            "_view_module_version": "1.2.0",
            "grid_template_areas": null,
            "object_position": null,
            "object_fit": null,
            "grid_auto_columns": null,
            "margin": null,
            "display": null,
            "left": null
          }
        },
        "27256516bd3b4edf924cd960e90b9c73": {
          "model_module": "@jupyter-widgets/controls",
          "model_name": "HBoxModel",
          "state": {
            "_view_name": "HBoxView",
            "_dom_classes": [],
            "_model_name": "HBoxModel",
            "_view_module": "@jupyter-widgets/controls",
            "_model_module_version": "1.5.0",
            "_view_count": null,
            "_view_module_version": "1.5.0",
            "box_style": "",
            "layout": "IPY_MODEL_4c6724d6933a4319a62ccb1d51251502",
            "_model_module": "@jupyter-widgets/controls",
            "children": [
              "IPY_MODEL_fde955cd6c4d4f5cb72ee90982880b8e",
              "IPY_MODEL_90eb7c99b9a14f14910942eaa1b61fc9"
            ]
          }
        },
        "4c6724d6933a4319a62ccb1d51251502": {
          "model_module": "@jupyter-widgets/base",
          "model_name": "LayoutModel",
          "state": {
            "_view_name": "LayoutView",
            "grid_template_rows": null,
            "right": null,
            "justify_content": null,
            "_view_module": "@jupyter-widgets/base",
            "overflow": null,
            "_model_module_version": "1.2.0",
            "_view_count": null,
            "flex_flow": null,
            "width": null,
            "min_width": null,
            "border": null,
            "align_items": null,
            "bottom": null,
            "_model_module": "@jupyter-widgets/base",
            "top": null,
            "grid_column": null,
            "overflow_y": null,
            "overflow_x": null,
            "grid_auto_flow": null,
            "grid_area": null,
            "grid_template_columns": null,
            "flex": null,
            "_model_name": "LayoutModel",
            "justify_items": null,
            "grid_row": null,
            "max_height": null,
            "align_content": null,
            "visibility": null,
            "align_self": null,
            "height": null,
            "min_height": null,
            "padding": null,
            "grid_auto_rows": null,
            "grid_gap": null,
            "max_width": null,
            "order": null,
            "_view_module_version": "1.2.0",
            "grid_template_areas": null,
            "object_position": null,
            "object_fit": null,
            "grid_auto_columns": null,
            "margin": null,
            "display": null,
            "left": null
          }
        },
        "fde955cd6c4d4f5cb72ee90982880b8e": {
          "model_module": "@jupyter-widgets/controls",
          "model_name": "FloatProgressModel",
          "state": {
            "_view_name": "ProgressView",
            "style": "IPY_MODEL_37fb46763c1d4b9f9a6c69b2f3b684e9",
            "_dom_classes": [],
            "description": "100%",
            "_model_name": "FloatProgressModel",
            "bar_style": "success",
            "max": 60,
            "_view_module": "@jupyter-widgets/controls",
            "_model_module_version": "1.5.0",
            "value": 60,
            "_view_count": null,
            "_view_module_version": "1.5.0",
            "orientation": "horizontal",
            "min": 0,
            "description_tooltip": null,
            "_model_module": "@jupyter-widgets/controls",
            "layout": "IPY_MODEL_e0c3d69ed7094b24bff376e16c3f6a87"
          }
        },
        "90eb7c99b9a14f14910942eaa1b61fc9": {
          "model_module": "@jupyter-widgets/controls",
          "model_name": "HTMLModel",
          "state": {
            "_view_name": "HTMLView",
            "style": "IPY_MODEL_20a2eb206e5d4b42998128a54186ba6a",
            "_dom_classes": [],
            "description": "",
            "_model_name": "HTMLModel",
            "placeholder": "​",
            "_view_module": "@jupyter-widgets/controls",
            "_model_module_version": "1.5.0",
            "value": " 60/60 [00:19&lt;00:00,  3.06it/s]",
            "_view_count": null,
            "_view_module_version": "1.5.0",
            "description_tooltip": null,
            "_model_module": "@jupyter-widgets/controls",
            "layout": "IPY_MODEL_95e2a1db5a424969af05b978a2edbecd"
          }
        },
        "37fb46763c1d4b9f9a6c69b2f3b684e9": {
          "model_module": "@jupyter-widgets/controls",
          "model_name": "ProgressStyleModel",
          "state": {
            "_view_name": "StyleView",
            "_model_name": "ProgressStyleModel",
            "description_width": "initial",
            "_view_module": "@jupyter-widgets/base",
            "_model_module_version": "1.5.0",
            "_view_count": null,
            "_view_module_version": "1.2.0",
            "bar_color": null,
            "_model_module": "@jupyter-widgets/controls"
          }
        },
        "e0c3d69ed7094b24bff376e16c3f6a87": {
          "model_module": "@jupyter-widgets/base",
          "model_name": "LayoutModel",
          "state": {
            "_view_name": "LayoutView",
            "grid_template_rows": null,
            "right": null,
            "justify_content": null,
            "_view_module": "@jupyter-widgets/base",
            "overflow": null,
            "_model_module_version": "1.2.0",
            "_view_count": null,
            "flex_flow": null,
            "width": null,
            "min_width": null,
            "border": null,
            "align_items": null,
            "bottom": null,
            "_model_module": "@jupyter-widgets/base",
            "top": null,
            "grid_column": null,
            "overflow_y": null,
            "overflow_x": null,
            "grid_auto_flow": null,
            "grid_area": null,
            "grid_template_columns": null,
            "flex": null,
            "_model_name": "LayoutModel",
            "justify_items": null,
            "grid_row": null,
            "max_height": null,
            "align_content": null,
            "visibility": null,
            "align_self": null,
            "height": null,
            "min_height": null,
            "padding": null,
            "grid_auto_rows": null,
            "grid_gap": null,
            "max_width": null,
            "order": null,
            "_view_module_version": "1.2.0",
            "grid_template_areas": null,
            "object_position": null,
            "object_fit": null,
            "grid_auto_columns": null,
            "margin": null,
            "display": null,
            "left": null
          }
        },
        "20a2eb206e5d4b42998128a54186ba6a": {
          "model_module": "@jupyter-widgets/controls",
          "model_name": "DescriptionStyleModel",
          "state": {
            "_view_name": "StyleView",
            "_model_name": "DescriptionStyleModel",
            "description_width": "",
            "_view_module": "@jupyter-widgets/base",
            "_model_module_version": "1.5.0",
            "_view_count": null,
            "_view_module_version": "1.2.0",
            "_model_module": "@jupyter-widgets/controls"
          }
        },
        "95e2a1db5a424969af05b978a2edbecd": {
          "model_module": "@jupyter-widgets/base",
          "model_name": "LayoutModel",
          "state": {
            "_view_name": "LayoutView",
            "grid_template_rows": null,
            "right": null,
            "justify_content": null,
            "_view_module": "@jupyter-widgets/base",
            "overflow": null,
            "_model_module_version": "1.2.0",
            "_view_count": null,
            "flex_flow": null,
            "width": null,
            "min_width": null,
            "border": null,
            "align_items": null,
            "bottom": null,
            "_model_module": "@jupyter-widgets/base",
            "top": null,
            "grid_column": null,
            "overflow_y": null,
            "overflow_x": null,
            "grid_auto_flow": null,
            "grid_area": null,
            "grid_template_columns": null,
            "flex": null,
            "_model_name": "LayoutModel",
            "justify_items": null,
            "grid_row": null,
            "max_height": null,
            "align_content": null,
            "visibility": null,
            "align_self": null,
            "height": null,
            "min_height": null,
            "padding": null,
            "grid_auto_rows": null,
            "grid_gap": null,
            "max_width": null,
            "order": null,
            "_view_module_version": "1.2.0",
            "grid_template_areas": null,
            "object_position": null,
            "object_fit": null,
            "grid_auto_columns": null,
            "margin": null,
            "display": null,
            "left": null
          }
        },
        "38a10f69fd59415486187792b4daadd7": {
          "model_module": "@jupyter-widgets/controls",
          "model_name": "HBoxModel",
          "state": {
            "_view_name": "HBoxView",
            "_dom_classes": [],
            "_model_name": "HBoxModel",
            "_view_module": "@jupyter-widgets/controls",
            "_model_module_version": "1.5.0",
            "_view_count": null,
            "_view_module_version": "1.5.0",
            "box_style": "",
            "layout": "IPY_MODEL_ab75372f3ef44597b1289e959bb402dc",
            "_model_module": "@jupyter-widgets/controls",
            "children": [
              "IPY_MODEL_e36ab4c8ea90466d956897c10f6d0829",
              "IPY_MODEL_773a44958be94a26bad3205b310826e8"
            ]
          }
        },
        "ab75372f3ef44597b1289e959bb402dc": {
          "model_module": "@jupyter-widgets/base",
          "model_name": "LayoutModel",
          "state": {
            "_view_name": "LayoutView",
            "grid_template_rows": null,
            "right": null,
            "justify_content": null,
            "_view_module": "@jupyter-widgets/base",
            "overflow": null,
            "_model_module_version": "1.2.0",
            "_view_count": null,
            "flex_flow": null,
            "width": null,
            "min_width": null,
            "border": null,
            "align_items": null,
            "bottom": null,
            "_model_module": "@jupyter-widgets/base",
            "top": null,
            "grid_column": null,
            "overflow_y": null,
            "overflow_x": null,
            "grid_auto_flow": null,
            "grid_area": null,
            "grid_template_columns": null,
            "flex": null,
            "_model_name": "LayoutModel",
            "justify_items": null,
            "grid_row": null,
            "max_height": null,
            "align_content": null,
            "visibility": null,
            "align_self": null,
            "height": null,
            "min_height": null,
            "padding": null,
            "grid_auto_rows": null,
            "grid_gap": null,
            "max_width": null,
            "order": null,
            "_view_module_version": "1.2.0",
            "grid_template_areas": null,
            "object_position": null,
            "object_fit": null,
            "grid_auto_columns": null,
            "margin": null,
            "display": null,
            "left": null
          }
        },
        "e36ab4c8ea90466d956897c10f6d0829": {
          "model_module": "@jupyter-widgets/controls",
          "model_name": "FloatProgressModel",
          "state": {
            "_view_name": "ProgressView",
            "style": "IPY_MODEL_3eda1778c8954086bd6ee41e3838e7fe",
            "_dom_classes": [],
            "description": "100%",
            "_model_name": "FloatProgressModel",
            "bar_style": "success",
            "max": 40,
            "_view_module": "@jupyter-widgets/controls",
            "_model_module_version": "1.5.0",
            "value": 40,
            "_view_count": null,
            "_view_module_version": "1.5.0",
            "orientation": "horizontal",
            "min": 0,
            "description_tooltip": null,
            "_model_module": "@jupyter-widgets/controls",
            "layout": "IPY_MODEL_1cf61fc83e654f128932552623c3efe0"
          }
        },
        "773a44958be94a26bad3205b310826e8": {
          "model_module": "@jupyter-widgets/controls",
          "model_name": "HTMLModel",
          "state": {
            "_view_name": "HTMLView",
            "style": "IPY_MODEL_ad0d93f905b2496590a4db24369960d0",
            "_dom_classes": [],
            "description": "",
            "_model_name": "HTMLModel",
            "placeholder": "​",
            "_view_module": "@jupyter-widgets/controls",
            "_model_module_version": "1.5.0",
            "value": " 40/40 [02:25&lt;00:00,  3.64s/it]",
            "_view_count": null,
            "_view_module_version": "1.5.0",
            "description_tooltip": null,
            "_model_module": "@jupyter-widgets/controls",
            "layout": "IPY_MODEL_8ec709728d1a48fc92ea06c5d8592cdb"
          }
        },
        "3eda1778c8954086bd6ee41e3838e7fe": {
          "model_module": "@jupyter-widgets/controls",
          "model_name": "ProgressStyleModel",
          "state": {
            "_view_name": "StyleView",
            "_model_name": "ProgressStyleModel",
            "description_width": "initial",
            "_view_module": "@jupyter-widgets/base",
            "_model_module_version": "1.5.0",
            "_view_count": null,
            "_view_module_version": "1.2.0",
            "bar_color": null,
            "_model_module": "@jupyter-widgets/controls"
          }
        },
        "1cf61fc83e654f128932552623c3efe0": {
          "model_module": "@jupyter-widgets/base",
          "model_name": "LayoutModel",
          "state": {
            "_view_name": "LayoutView",
            "grid_template_rows": null,
            "right": null,
            "justify_content": null,
            "_view_module": "@jupyter-widgets/base",
            "overflow": null,
            "_model_module_version": "1.2.0",
            "_view_count": null,
            "flex_flow": null,
            "width": null,
            "min_width": null,
            "border": null,
            "align_items": null,
            "bottom": null,
            "_model_module": "@jupyter-widgets/base",
            "top": null,
            "grid_column": null,
            "overflow_y": null,
            "overflow_x": null,
            "grid_auto_flow": null,
            "grid_area": null,
            "grid_template_columns": null,
            "flex": null,
            "_model_name": "LayoutModel",
            "justify_items": null,
            "grid_row": null,
            "max_height": null,
            "align_content": null,
            "visibility": null,
            "align_self": null,
            "height": null,
            "min_height": null,
            "padding": null,
            "grid_auto_rows": null,
            "grid_gap": null,
            "max_width": null,
            "order": null,
            "_view_module_version": "1.2.0",
            "grid_template_areas": null,
            "object_position": null,
            "object_fit": null,
            "grid_auto_columns": null,
            "margin": null,
            "display": null,
            "left": null
          }
        },
        "ad0d93f905b2496590a4db24369960d0": {
          "model_module": "@jupyter-widgets/controls",
          "model_name": "DescriptionStyleModel",
          "state": {
            "_view_name": "StyleView",
            "_model_name": "DescriptionStyleModel",
            "description_width": "",
            "_view_module": "@jupyter-widgets/base",
            "_model_module_version": "1.5.0",
            "_view_count": null,
            "_view_module_version": "1.2.0",
            "_model_module": "@jupyter-widgets/controls"
          }
        },
        "8ec709728d1a48fc92ea06c5d8592cdb": {
          "model_module": "@jupyter-widgets/base",
          "model_name": "LayoutModel",
          "state": {
            "_view_name": "LayoutView",
            "grid_template_rows": null,
            "right": null,
            "justify_content": null,
            "_view_module": "@jupyter-widgets/base",
            "overflow": null,
            "_model_module_version": "1.2.0",
            "_view_count": null,
            "flex_flow": null,
            "width": null,
            "min_width": null,
            "border": null,
            "align_items": null,
            "bottom": null,
            "_model_module": "@jupyter-widgets/base",
            "top": null,
            "grid_column": null,
            "overflow_y": null,
            "overflow_x": null,
            "grid_auto_flow": null,
            "grid_area": null,
            "grid_template_columns": null,
            "flex": null,
            "_model_name": "LayoutModel",
            "justify_items": null,
            "grid_row": null,
            "max_height": null,
            "align_content": null,
            "visibility": null,
            "align_self": null,
            "height": null,
            "min_height": null,
            "padding": null,
            "grid_auto_rows": null,
            "grid_gap": null,
            "max_width": null,
            "order": null,
            "_view_module_version": "1.2.0",
            "grid_template_areas": null,
            "object_position": null,
            "object_fit": null,
            "grid_auto_columns": null,
            "margin": null,
            "display": null,
            "left": null
          }
        },
        "ea9d097d1bee4ee1be387740aabc9790": {
          "model_module": "@jupyter-widgets/controls",
          "model_name": "HBoxModel",
          "state": {
            "_view_name": "HBoxView",
            "_dom_classes": [],
            "_model_name": "HBoxModel",
            "_view_module": "@jupyter-widgets/controls",
            "_model_module_version": "1.5.0",
            "_view_count": null,
            "_view_module_version": "1.5.0",
            "box_style": "",
            "layout": "IPY_MODEL_f9c62bb4753b4b118a6d65e027c46902",
            "_model_module": "@jupyter-widgets/controls",
            "children": [
              "IPY_MODEL_96f76c2398764ff8ad37300db9105042",
              "IPY_MODEL_67ad505727ce4047b9865edf523d5d32"
            ]
          }
        },
        "f9c62bb4753b4b118a6d65e027c46902": {
          "model_module": "@jupyter-widgets/base",
          "model_name": "LayoutModel",
          "state": {
            "_view_name": "LayoutView",
            "grid_template_rows": null,
            "right": null,
            "justify_content": null,
            "_view_module": "@jupyter-widgets/base",
            "overflow": null,
            "_model_module_version": "1.2.0",
            "_view_count": null,
            "flex_flow": null,
            "width": null,
            "min_width": null,
            "border": null,
            "align_items": null,
            "bottom": null,
            "_model_module": "@jupyter-widgets/base",
            "top": null,
            "grid_column": null,
            "overflow_y": null,
            "overflow_x": null,
            "grid_auto_flow": null,
            "grid_area": null,
            "grid_template_columns": null,
            "flex": null,
            "_model_name": "LayoutModel",
            "justify_items": null,
            "grid_row": null,
            "max_height": null,
            "align_content": null,
            "visibility": null,
            "align_self": null,
            "height": null,
            "min_height": null,
            "padding": null,
            "grid_auto_rows": null,
            "grid_gap": null,
            "max_width": null,
            "order": null,
            "_view_module_version": "1.2.0",
            "grid_template_areas": null,
            "object_position": null,
            "object_fit": null,
            "grid_auto_columns": null,
            "margin": null,
            "display": null,
            "left": null
          }
        },
        "96f76c2398764ff8ad37300db9105042": {
          "model_module": "@jupyter-widgets/controls",
          "model_name": "FloatProgressModel",
          "state": {
            "_view_name": "ProgressView",
            "style": "IPY_MODEL_0842e7afd1ce4ccf834a027adfd4f604",
            "_dom_classes": [],
            "description": "100%",
            "_model_name": "FloatProgressModel",
            "bar_style": "success",
            "max": 60,
            "_view_module": "@jupyter-widgets/controls",
            "_model_module_version": "1.5.0",
            "value": 60,
            "_view_count": null,
            "_view_module_version": "1.5.0",
            "orientation": "horizontal",
            "min": 0,
            "description_tooltip": null,
            "_model_module": "@jupyter-widgets/controls",
            "layout": "IPY_MODEL_7e99b2a8623b451c857fa6e9e70acfb8"
          }
        },
        "67ad505727ce4047b9865edf523d5d32": {
          "model_module": "@jupyter-widgets/controls",
          "model_name": "HTMLModel",
          "state": {
            "_view_name": "HTMLView",
            "style": "IPY_MODEL_9dbe4fbd50d74934ae5446b0ce0d1071",
            "_dom_classes": [],
            "description": "",
            "_model_name": "HTMLModel",
            "placeholder": "​",
            "_view_module": "@jupyter-widgets/controls",
            "_model_module_version": "1.5.0",
            "value": " 60/60 [00:31&lt;00:00,  1.91it/s]",
            "_view_count": null,
            "_view_module_version": "1.5.0",
            "description_tooltip": null,
            "_model_module": "@jupyter-widgets/controls",
            "layout": "IPY_MODEL_b369a2a30eae417e94d72e9ed1db4638"
          }
        },
        "0842e7afd1ce4ccf834a027adfd4f604": {
          "model_module": "@jupyter-widgets/controls",
          "model_name": "ProgressStyleModel",
          "state": {
            "_view_name": "StyleView",
            "_model_name": "ProgressStyleModel",
            "description_width": "initial",
            "_view_module": "@jupyter-widgets/base",
            "_model_module_version": "1.5.0",
            "_view_count": null,
            "_view_module_version": "1.2.0",
            "bar_color": null,
            "_model_module": "@jupyter-widgets/controls"
          }
        },
        "7e99b2a8623b451c857fa6e9e70acfb8": {
          "model_module": "@jupyter-widgets/base",
          "model_name": "LayoutModel",
          "state": {
            "_view_name": "LayoutView",
            "grid_template_rows": null,
            "right": null,
            "justify_content": null,
            "_view_module": "@jupyter-widgets/base",
            "overflow": null,
            "_model_module_version": "1.2.0",
            "_view_count": null,
            "flex_flow": null,
            "width": null,
            "min_width": null,
            "border": null,
            "align_items": null,
            "bottom": null,
            "_model_module": "@jupyter-widgets/base",
            "top": null,
            "grid_column": null,
            "overflow_y": null,
            "overflow_x": null,
            "grid_auto_flow": null,
            "grid_area": null,
            "grid_template_columns": null,
            "flex": null,
            "_model_name": "LayoutModel",
            "justify_items": null,
            "grid_row": null,
            "max_height": null,
            "align_content": null,
            "visibility": null,
            "align_self": null,
            "height": null,
            "min_height": null,
            "padding": null,
            "grid_auto_rows": null,
            "grid_gap": null,
            "max_width": null,
            "order": null,
            "_view_module_version": "1.2.0",
            "grid_template_areas": null,
            "object_position": null,
            "object_fit": null,
            "grid_auto_columns": null,
            "margin": null,
            "display": null,
            "left": null
          }
        },
        "9dbe4fbd50d74934ae5446b0ce0d1071": {
          "model_module": "@jupyter-widgets/controls",
          "model_name": "DescriptionStyleModel",
          "state": {
            "_view_name": "StyleView",
            "_model_name": "DescriptionStyleModel",
            "description_width": "",
            "_view_module": "@jupyter-widgets/base",
            "_model_module_version": "1.5.0",
            "_view_count": null,
            "_view_module_version": "1.2.0",
            "_model_module": "@jupyter-widgets/controls"
          }
        },
        "b369a2a30eae417e94d72e9ed1db4638": {
          "model_module": "@jupyter-widgets/base",
          "model_name": "LayoutModel",
          "state": {
            "_view_name": "LayoutView",
            "grid_template_rows": null,
            "right": null,
            "justify_content": null,
            "_view_module": "@jupyter-widgets/base",
            "overflow": null,
            "_model_module_version": "1.2.0",
            "_view_count": null,
            "flex_flow": null,
            "width": null,
            "min_width": null,
            "border": null,
            "align_items": null,
            "bottom": null,
            "_model_module": "@jupyter-widgets/base",
            "top": null,
            "grid_column": null,
            "overflow_y": null,
            "overflow_x": null,
            "grid_auto_flow": null,
            "grid_area": null,
            "grid_template_columns": null,
            "flex": null,
            "_model_name": "LayoutModel",
            "justify_items": null,
            "grid_row": null,
            "max_height": null,
            "align_content": null,
            "visibility": null,
            "align_self": null,
            "height": null,
            "min_height": null,
            "padding": null,
            "grid_auto_rows": null,
            "grid_gap": null,
            "max_width": null,
            "order": null,
            "_view_module_version": "1.2.0",
            "grid_template_areas": null,
            "object_position": null,
            "object_fit": null,
            "grid_auto_columns": null,
            "margin": null,
            "display": null,
            "left": null
          }
        },
        "6aad8565faa7465180aa7598b728688a": {
          "model_module": "@jupyter-widgets/controls",
          "model_name": "HBoxModel",
          "state": {
            "_view_name": "HBoxView",
            "_dom_classes": [],
            "_model_name": "HBoxModel",
            "_view_module": "@jupyter-widgets/controls",
            "_model_module_version": "1.5.0",
            "_view_count": null,
            "_view_module_version": "1.5.0",
            "box_style": "",
            "layout": "IPY_MODEL_f01fab6fc4374d7bb4dfd43d89611197",
            "_model_module": "@jupyter-widgets/controls",
            "children": [
              "IPY_MODEL_3d0ad9512bfd4757b2e76d6cf7f83910",
              "IPY_MODEL_99409955985d4c33b5a6dfd339623e81"
            ]
          }
        },
        "f01fab6fc4374d7bb4dfd43d89611197": {
          "model_module": "@jupyter-widgets/base",
          "model_name": "LayoutModel",
          "state": {
            "_view_name": "LayoutView",
            "grid_template_rows": null,
            "right": null,
            "justify_content": null,
            "_view_module": "@jupyter-widgets/base",
            "overflow": null,
            "_model_module_version": "1.2.0",
            "_view_count": null,
            "flex_flow": null,
            "width": null,
            "min_width": null,
            "border": null,
            "align_items": null,
            "bottom": null,
            "_model_module": "@jupyter-widgets/base",
            "top": null,
            "grid_column": null,
            "overflow_y": null,
            "overflow_x": null,
            "grid_auto_flow": null,
            "grid_area": null,
            "grid_template_columns": null,
            "flex": null,
            "_model_name": "LayoutModel",
            "justify_items": null,
            "grid_row": null,
            "max_height": null,
            "align_content": null,
            "visibility": null,
            "align_self": null,
            "height": null,
            "min_height": null,
            "padding": null,
            "grid_auto_rows": null,
            "grid_gap": null,
            "max_width": null,
            "order": null,
            "_view_module_version": "1.2.0",
            "grid_template_areas": null,
            "object_position": null,
            "object_fit": null,
            "grid_auto_columns": null,
            "margin": null,
            "display": null,
            "left": null
          }
        },
        "3d0ad9512bfd4757b2e76d6cf7f83910": {
          "model_module": "@jupyter-widgets/controls",
          "model_name": "FloatProgressModel",
          "state": {
            "_view_name": "ProgressView",
            "style": "IPY_MODEL_de3aa3baeecc4ffba22e56d026d3480f",
            "_dom_classes": [],
            "description": "100%",
            "_model_name": "FloatProgressModel",
            "bar_style": "success",
            "max": 60,
            "_view_module": "@jupyter-widgets/controls",
            "_model_module_version": "1.5.0",
            "value": 60,
            "_view_count": null,
            "_view_module_version": "1.5.0",
            "orientation": "horizontal",
            "min": 0,
            "description_tooltip": null,
            "_model_module": "@jupyter-widgets/controls",
            "layout": "IPY_MODEL_6118ac7da870408dbd4e8029ea876df7"
          }
        },
        "99409955985d4c33b5a6dfd339623e81": {
          "model_module": "@jupyter-widgets/controls",
          "model_name": "HTMLModel",
          "state": {
            "_view_name": "HTMLView",
            "style": "IPY_MODEL_6c035a572f1f4aa59681daa8e6fcf640",
            "_dom_classes": [],
            "description": "",
            "_model_name": "HTMLModel",
            "placeholder": "​",
            "_view_module": "@jupyter-widgets/controls",
            "_model_module_version": "1.5.0",
            "value": " 60/60 [00:14&lt;00:00,  4.21it/s]",
            "_view_count": null,
            "_view_module_version": "1.5.0",
            "description_tooltip": null,
            "_model_module": "@jupyter-widgets/controls",
            "layout": "IPY_MODEL_938d90e2f43a42fb8d83c8ee781e53e0"
          }
        },
        "de3aa3baeecc4ffba22e56d026d3480f": {
          "model_module": "@jupyter-widgets/controls",
          "model_name": "ProgressStyleModel",
          "state": {
            "_view_name": "StyleView",
            "_model_name": "ProgressStyleModel",
            "description_width": "initial",
            "_view_module": "@jupyter-widgets/base",
            "_model_module_version": "1.5.0",
            "_view_count": null,
            "_view_module_version": "1.2.0",
            "bar_color": null,
            "_model_module": "@jupyter-widgets/controls"
          }
        },
        "6118ac7da870408dbd4e8029ea876df7": {
          "model_module": "@jupyter-widgets/base",
          "model_name": "LayoutModel",
          "state": {
            "_view_name": "LayoutView",
            "grid_template_rows": null,
            "right": null,
            "justify_content": null,
            "_view_module": "@jupyter-widgets/base",
            "overflow": null,
            "_model_module_version": "1.2.0",
            "_view_count": null,
            "flex_flow": null,
            "width": null,
            "min_width": null,
            "border": null,
            "align_items": null,
            "bottom": null,
            "_model_module": "@jupyter-widgets/base",
            "top": null,
            "grid_column": null,
            "overflow_y": null,
            "overflow_x": null,
            "grid_auto_flow": null,
            "grid_area": null,
            "grid_template_columns": null,
            "flex": null,
            "_model_name": "LayoutModel",
            "justify_items": null,
            "grid_row": null,
            "max_height": null,
            "align_content": null,
            "visibility": null,
            "align_self": null,
            "height": null,
            "min_height": null,
            "padding": null,
            "grid_auto_rows": null,
            "grid_gap": null,
            "max_width": null,
            "order": null,
            "_view_module_version": "1.2.0",
            "grid_template_areas": null,
            "object_position": null,
            "object_fit": null,
            "grid_auto_columns": null,
            "margin": null,
            "display": null,
            "left": null
          }
        },
        "6c035a572f1f4aa59681daa8e6fcf640": {
          "model_module": "@jupyter-widgets/controls",
          "model_name": "DescriptionStyleModel",
          "state": {
            "_view_name": "StyleView",
            "_model_name": "DescriptionStyleModel",
            "description_width": "",
            "_view_module": "@jupyter-widgets/base",
            "_model_module_version": "1.5.0",
            "_view_count": null,
            "_view_module_version": "1.2.0",
            "_model_module": "@jupyter-widgets/controls"
          }
        },
        "938d90e2f43a42fb8d83c8ee781e53e0": {
          "model_module": "@jupyter-widgets/base",
          "model_name": "LayoutModel",
          "state": {
            "_view_name": "LayoutView",
            "grid_template_rows": null,
            "right": null,
            "justify_content": null,
            "_view_module": "@jupyter-widgets/base",
            "overflow": null,
            "_model_module_version": "1.2.0",
            "_view_count": null,
            "flex_flow": null,
            "width": null,
            "min_width": null,
            "border": null,
            "align_items": null,
            "bottom": null,
            "_model_module": "@jupyter-widgets/base",
            "top": null,
            "grid_column": null,
            "overflow_y": null,
            "overflow_x": null,
            "grid_auto_flow": null,
            "grid_area": null,
            "grid_template_columns": null,
            "flex": null,
            "_model_name": "LayoutModel",
            "justify_items": null,
            "grid_row": null,
            "max_height": null,
            "align_content": null,
            "visibility": null,
            "align_self": null,
            "height": null,
            "min_height": null,
            "padding": null,
            "grid_auto_rows": null,
            "grid_gap": null,
            "max_width": null,
            "order": null,
            "_view_module_version": "1.2.0",
            "grid_template_areas": null,
            "object_position": null,
            "object_fit": null,
            "grid_auto_columns": null,
            "margin": null,
            "display": null,
            "left": null
          }
        },
        "35a54bab99404a15b1b19e93decea0ae": {
          "model_module": "@jupyter-widgets/controls",
          "model_name": "HBoxModel",
          "state": {
            "_view_name": "HBoxView",
            "_dom_classes": [],
            "_model_name": "HBoxModel",
            "_view_module": "@jupyter-widgets/controls",
            "_model_module_version": "1.5.0",
            "_view_count": null,
            "_view_module_version": "1.5.0",
            "box_style": "",
            "layout": "IPY_MODEL_8676e500f63a44ed8ca68442cf83d7ff",
            "_model_module": "@jupyter-widgets/controls",
            "children": [
              "IPY_MODEL_0e83f6dc988c4ecdb8454e7e93a3415d",
              "IPY_MODEL_85451f27a1ac400e9490689edebe18f8"
            ]
          }
        },
        "8676e500f63a44ed8ca68442cf83d7ff": {
          "model_module": "@jupyter-widgets/base",
          "model_name": "LayoutModel",
          "state": {
            "_view_name": "LayoutView",
            "grid_template_rows": null,
            "right": null,
            "justify_content": null,
            "_view_module": "@jupyter-widgets/base",
            "overflow": null,
            "_model_module_version": "1.2.0",
            "_view_count": null,
            "flex_flow": null,
            "width": null,
            "min_width": null,
            "border": null,
            "align_items": null,
            "bottom": null,
            "_model_module": "@jupyter-widgets/base",
            "top": null,
            "grid_column": null,
            "overflow_y": null,
            "overflow_x": null,
            "grid_auto_flow": null,
            "grid_area": null,
            "grid_template_columns": null,
            "flex": null,
            "_model_name": "LayoutModel",
            "justify_items": null,
            "grid_row": null,
            "max_height": null,
            "align_content": null,
            "visibility": null,
            "align_self": null,
            "height": null,
            "min_height": null,
            "padding": null,
            "grid_auto_rows": null,
            "grid_gap": null,
            "max_width": null,
            "order": null,
            "_view_module_version": "1.2.0",
            "grid_template_areas": null,
            "object_position": null,
            "object_fit": null,
            "grid_auto_columns": null,
            "margin": null,
            "display": null,
            "left": null
          }
        },
        "0e83f6dc988c4ecdb8454e7e93a3415d": {
          "model_module": "@jupyter-widgets/controls",
          "model_name": "FloatProgressModel",
          "state": {
            "_view_name": "ProgressView",
            "style": "IPY_MODEL_d33adf3bc50648179bb10242cbac7ebe",
            "_dom_classes": [],
            "description": "100%",
            "_model_name": "FloatProgressModel",
            "bar_style": "success",
            "max": 60,
            "_view_module": "@jupyter-widgets/controls",
            "_model_module_version": "1.5.0",
            "value": 60,
            "_view_count": null,
            "_view_module_version": "1.5.0",
            "orientation": "horizontal",
            "min": 0,
            "description_tooltip": null,
            "_model_module": "@jupyter-widgets/controls",
            "layout": "IPY_MODEL_7b1ac5c7954340a6bae0e2bfcb10a646"
          }
        },
        "85451f27a1ac400e9490689edebe18f8": {
          "model_module": "@jupyter-widgets/controls",
          "model_name": "HTMLModel",
          "state": {
            "_view_name": "HTMLView",
            "style": "IPY_MODEL_1c5411cc829940b5a5228aecc909ca3c",
            "_dom_classes": [],
            "description": "",
            "_model_name": "HTMLModel",
            "placeholder": "​",
            "_view_module": "@jupyter-widgets/controls",
            "_model_module_version": "1.5.0",
            "value": " 60/60 [00:13&lt;00:00,  4.30it/s]",
            "_view_count": null,
            "_view_module_version": "1.5.0",
            "description_tooltip": null,
            "_model_module": "@jupyter-widgets/controls",
            "layout": "IPY_MODEL_410d7afb28824cc7be8a8c5317f9c1af"
          }
        },
        "d33adf3bc50648179bb10242cbac7ebe": {
          "model_module": "@jupyter-widgets/controls",
          "model_name": "ProgressStyleModel",
          "state": {
            "_view_name": "StyleView",
            "_model_name": "ProgressStyleModel",
            "description_width": "initial",
            "_view_module": "@jupyter-widgets/base",
            "_model_module_version": "1.5.0",
            "_view_count": null,
            "_view_module_version": "1.2.0",
            "bar_color": null,
            "_model_module": "@jupyter-widgets/controls"
          }
        },
        "7b1ac5c7954340a6bae0e2bfcb10a646": {
          "model_module": "@jupyter-widgets/base",
          "model_name": "LayoutModel",
          "state": {
            "_view_name": "LayoutView",
            "grid_template_rows": null,
            "right": null,
            "justify_content": null,
            "_view_module": "@jupyter-widgets/base",
            "overflow": null,
            "_model_module_version": "1.2.0",
            "_view_count": null,
            "flex_flow": null,
            "width": null,
            "min_width": null,
            "border": null,
            "align_items": null,
            "bottom": null,
            "_model_module": "@jupyter-widgets/base",
            "top": null,
            "grid_column": null,
            "overflow_y": null,
            "overflow_x": null,
            "grid_auto_flow": null,
            "grid_area": null,
            "grid_template_columns": null,
            "flex": null,
            "_model_name": "LayoutModel",
            "justify_items": null,
            "grid_row": null,
            "max_height": null,
            "align_content": null,
            "visibility": null,
            "align_self": null,
            "height": null,
            "min_height": null,
            "padding": null,
            "grid_auto_rows": null,
            "grid_gap": null,
            "max_width": null,
            "order": null,
            "_view_module_version": "1.2.0",
            "grid_template_areas": null,
            "object_position": null,
            "object_fit": null,
            "grid_auto_columns": null,
            "margin": null,
            "display": null,
            "left": null
          }
        },
        "1c5411cc829940b5a5228aecc909ca3c": {
          "model_module": "@jupyter-widgets/controls",
          "model_name": "DescriptionStyleModel",
          "state": {
            "_view_name": "StyleView",
            "_model_name": "DescriptionStyleModel",
            "description_width": "",
            "_view_module": "@jupyter-widgets/base",
            "_model_module_version": "1.5.0",
            "_view_count": null,
            "_view_module_version": "1.2.0",
            "_model_module": "@jupyter-widgets/controls"
          }
        },
        "410d7afb28824cc7be8a8c5317f9c1af": {
          "model_module": "@jupyter-widgets/base",
          "model_name": "LayoutModel",
          "state": {
            "_view_name": "LayoutView",
            "grid_template_rows": null,
            "right": null,
            "justify_content": null,
            "_view_module": "@jupyter-widgets/base",
            "overflow": null,
            "_model_module_version": "1.2.0",
            "_view_count": null,
            "flex_flow": null,
            "width": null,
            "min_width": null,
            "border": null,
            "align_items": null,
            "bottom": null,
            "_model_module": "@jupyter-widgets/base",
            "top": null,
            "grid_column": null,
            "overflow_y": null,
            "overflow_x": null,
            "grid_auto_flow": null,
            "grid_area": null,
            "grid_template_columns": null,
            "flex": null,
            "_model_name": "LayoutModel",
            "justify_items": null,
            "grid_row": null,
            "max_height": null,
            "align_content": null,
            "visibility": null,
            "align_self": null,
            "height": null,
            "min_height": null,
            "padding": null,
            "grid_auto_rows": null,
            "grid_gap": null,
            "max_width": null,
            "order": null,
            "_view_module_version": "1.2.0",
            "grid_template_areas": null,
            "object_position": null,
            "object_fit": null,
            "grid_auto_columns": null,
            "margin": null,
            "display": null,
            "left": null
          }
        },
        "7c9b0caea44340e4bee8c1927a9ef5ca": {
          "model_module": "@jupyter-widgets/controls",
          "model_name": "HBoxModel",
          "state": {
            "_view_name": "HBoxView",
            "_dom_classes": [],
            "_model_name": "HBoxModel",
            "_view_module": "@jupyter-widgets/controls",
            "_model_module_version": "1.5.0",
            "_view_count": null,
            "_view_module_version": "1.5.0",
            "box_style": "",
            "layout": "IPY_MODEL_c6c75e6bcc704aa08202c8512af1af81",
            "_model_module": "@jupyter-widgets/controls",
            "children": [
              "IPY_MODEL_c5efd3038e3842aca333d0c254b946de",
              "IPY_MODEL_a26025fe9b2c4412b88a5755e608212a"
            ]
          }
        },
        "c6c75e6bcc704aa08202c8512af1af81": {
          "model_module": "@jupyter-widgets/base",
          "model_name": "LayoutModel",
          "state": {
            "_view_name": "LayoutView",
            "grid_template_rows": null,
            "right": null,
            "justify_content": null,
            "_view_module": "@jupyter-widgets/base",
            "overflow": null,
            "_model_module_version": "1.2.0",
            "_view_count": null,
            "flex_flow": null,
            "width": null,
            "min_width": null,
            "border": null,
            "align_items": null,
            "bottom": null,
            "_model_module": "@jupyter-widgets/base",
            "top": null,
            "grid_column": null,
            "overflow_y": null,
            "overflow_x": null,
            "grid_auto_flow": null,
            "grid_area": null,
            "grid_template_columns": null,
            "flex": null,
            "_model_name": "LayoutModel",
            "justify_items": null,
            "grid_row": null,
            "max_height": null,
            "align_content": null,
            "visibility": null,
            "align_self": null,
            "height": null,
            "min_height": null,
            "padding": null,
            "grid_auto_rows": null,
            "grid_gap": null,
            "max_width": null,
            "order": null,
            "_view_module_version": "1.2.0",
            "grid_template_areas": null,
            "object_position": null,
            "object_fit": null,
            "grid_auto_columns": null,
            "margin": null,
            "display": null,
            "left": null
          }
        },
        "c5efd3038e3842aca333d0c254b946de": {
          "model_module": "@jupyter-widgets/controls",
          "model_name": "FloatProgressModel",
          "state": {
            "_view_name": "ProgressView",
            "style": "IPY_MODEL_2e0f599a6d2248359df8953f5e3a09ad",
            "_dom_classes": [],
            "description": "100%",
            "_model_name": "FloatProgressModel",
            "bar_style": "success",
            "max": 60,
            "_view_module": "@jupyter-widgets/controls",
            "_model_module_version": "1.5.0",
            "value": 60,
            "_view_count": null,
            "_view_module_version": "1.5.0",
            "orientation": "horizontal",
            "min": 0,
            "description_tooltip": null,
            "_model_module": "@jupyter-widgets/controls",
            "layout": "IPY_MODEL_09e04a2eac7a4c159541e8ef4ee5af99"
          }
        },
        "a26025fe9b2c4412b88a5755e608212a": {
          "model_module": "@jupyter-widgets/controls",
          "model_name": "HTMLModel",
          "state": {
            "_view_name": "HTMLView",
            "style": "IPY_MODEL_1de2210afa284d40bd0abab3d73cd158",
            "_dom_classes": [],
            "description": "",
            "_model_name": "HTMLModel",
            "placeholder": "​",
            "_view_module": "@jupyter-widgets/controls",
            "_model_module_version": "1.5.0",
            "value": " 60/60 [01:48&lt;00:00,  1.81s/it]",
            "_view_count": null,
            "_view_module_version": "1.5.0",
            "description_tooltip": null,
            "_model_module": "@jupyter-widgets/controls",
            "layout": "IPY_MODEL_0d279552c0fb4adca935cddf65aac6fa"
          }
        },
        "2e0f599a6d2248359df8953f5e3a09ad": {
          "model_module": "@jupyter-widgets/controls",
          "model_name": "ProgressStyleModel",
          "state": {
            "_view_name": "StyleView",
            "_model_name": "ProgressStyleModel",
            "description_width": "initial",
            "_view_module": "@jupyter-widgets/base",
            "_model_module_version": "1.5.0",
            "_view_count": null,
            "_view_module_version": "1.2.0",
            "bar_color": null,
            "_model_module": "@jupyter-widgets/controls"
          }
        },
        "09e04a2eac7a4c159541e8ef4ee5af99": {
          "model_module": "@jupyter-widgets/base",
          "model_name": "LayoutModel",
          "state": {
            "_view_name": "LayoutView",
            "grid_template_rows": null,
            "right": null,
            "justify_content": null,
            "_view_module": "@jupyter-widgets/base",
            "overflow": null,
            "_model_module_version": "1.2.0",
            "_view_count": null,
            "flex_flow": null,
            "width": null,
            "min_width": null,
            "border": null,
            "align_items": null,
            "bottom": null,
            "_model_module": "@jupyter-widgets/base",
            "top": null,
            "grid_column": null,
            "overflow_y": null,
            "overflow_x": null,
            "grid_auto_flow": null,
            "grid_area": null,
            "grid_template_columns": null,
            "flex": null,
            "_model_name": "LayoutModel",
            "justify_items": null,
            "grid_row": null,
            "max_height": null,
            "align_content": null,
            "visibility": null,
            "align_self": null,
            "height": null,
            "min_height": null,
            "padding": null,
            "grid_auto_rows": null,
            "grid_gap": null,
            "max_width": null,
            "order": null,
            "_view_module_version": "1.2.0",
            "grid_template_areas": null,
            "object_position": null,
            "object_fit": null,
            "grid_auto_columns": null,
            "margin": null,
            "display": null,
            "left": null
          }
        },
        "1de2210afa284d40bd0abab3d73cd158": {
          "model_module": "@jupyter-widgets/controls",
          "model_name": "DescriptionStyleModel",
          "state": {
            "_view_name": "StyleView",
            "_model_name": "DescriptionStyleModel",
            "description_width": "",
            "_view_module": "@jupyter-widgets/base",
            "_model_module_version": "1.5.0",
            "_view_count": null,
            "_view_module_version": "1.2.0",
            "_model_module": "@jupyter-widgets/controls"
          }
        },
        "0d279552c0fb4adca935cddf65aac6fa": {
          "model_module": "@jupyter-widgets/base",
          "model_name": "LayoutModel",
          "state": {
            "_view_name": "LayoutView",
            "grid_template_rows": null,
            "right": null,
            "justify_content": null,
            "_view_module": "@jupyter-widgets/base",
            "overflow": null,
            "_model_module_version": "1.2.0",
            "_view_count": null,
            "flex_flow": null,
            "width": null,
            "min_width": null,
            "border": null,
            "align_items": null,
            "bottom": null,
            "_model_module": "@jupyter-widgets/base",
            "top": null,
            "grid_column": null,
            "overflow_y": null,
            "overflow_x": null,
            "grid_auto_flow": null,
            "grid_area": null,
            "grid_template_columns": null,
            "flex": null,
            "_model_name": "LayoutModel",
            "justify_items": null,
            "grid_row": null,
            "max_height": null,
            "align_content": null,
            "visibility": null,
            "align_self": null,
            "height": null,
            "min_height": null,
            "padding": null,
            "grid_auto_rows": null,
            "grid_gap": null,
            "max_width": null,
            "order": null,
            "_view_module_version": "1.2.0",
            "grid_template_areas": null,
            "object_position": null,
            "object_fit": null,
            "grid_auto_columns": null,
            "margin": null,
            "display": null,
            "left": null
          }
        }
      }
    }
  },
  "cells": [
    {
      "cell_type": "markdown",
      "metadata": {
        "id": "8dAKhIc9hMiN"
      },
      "source": [
        "# Yeast cells detection evaluation notebook\n",
        "\n",
        "Evaluates the performance of segmentation and tracking on the YIT ground truth data set. \n",
        "\n",
        "Performances are displayed as calibration curves over the `segmentation_threshold`, and as a calibration heatmap over the tracking hyperparameters `dmax` and `epsilon`."
      ]
    },
    {
      "cell_type": "code",
      "metadata": {
        "id": "nvZa8Wu9hMiT"
      },
      "source": [
        "import os\n",
        "import numpy as np\n",
        "import pandas as pd\n",
        "import seaborn as sns\n",
        "from google.colab import files \n",
        "import matplotlib.pyplot as plt\n",
        "from skimage.io import imread\n",
        "from tqdm.auto import tqdm\n",
        "from scipy.sparse import coo_matrix\n",
        "from itertools import product\n",
        "import warnings\n",
        "from sklearn.exceptions import EfficiencyWarning\n",
        "%matplotlib notebook\n",
        "\n",
        "# Install detectron2 based on the installed version of torch,\n",
        "# we assume torchvision is already installed as is the case on Google Colab.\n",
        "try:\n",
        "    import torch\n",
        "    import detectron2\n",
        "except ImportError:\n",
        "    torch_version, cuda_version = torch.__version__.split('+cu')\n",
        "    torch_version = '.'.join(torch_version.split('.')[:2])\n",
        "    !pip3 install -U pyyaml\n",
        "    !pip3 install detectron2 -f \"https://dl.fbaipublicfiles.com/detectron2/wheels/cu{cuda_version}/torch{torch_version}/index.html\"\n",
        "    import detectron2\n",
        "\n",
        "try:\n",
        "  from download import download\n",
        "except ImportError:\n",
        "  !pip3 install download\n",
        "  from download import download\n",
        "\n",
        "try:\n",
        "    from yeastcells import data, model, clustering, features, visualize, evaluation\n",
        "    # raise ImportError() # force a new checkout from the repository\n",
        "except ImportError:\n",
        "    !test -e yeastcells-detection-maskrcnn || git clone https://github.com/ymzayek/yeastcells-detection-maskrcnn.git\n",
        "    !cd yeastcells-detection-maskrcnn; git pull origin main\n",
        "    !pip3 install ./yeastcells-detection-maskrcnn\n",
        "    from yeastcells import data, model, clustering, features, visualize, evaluation"
      ],
      "execution_count": 1,
      "outputs": []
    },
    {
      "cell_type": "code",
      "metadata": {
        "id": "pXMwg9hmpc4F"
      },
      "source": [
        "# Tested thresholds\n",
        "thresholds = np.arange(.8, 1, 0.005)\n",
        "\n",
        "# Tested hyperparameter values for tracking\n",
        "dmaxs = np.arange(2, 7, 1)\n",
        "epsilons = np.arange(0.35, 0.91, 0.05)\n",
        "\n",
        "# Selected threshold\n",
        "segmentation_threshold=0.955"
      ],
      "execution_count": 2,
      "outputs": []
    },
    {
      "cell_type": "markdown",
      "metadata": {
        "id": "4kggFe9GhMiV"
      },
      "source": [
        "## Download model and data"
      ]
    },
    {
      "cell_type": "code",
      "metadata": {
        "id": "IJ3pMERThMiW",
        "colab": {
          "base_uri": "https://localhost:8080/"
        },
        "outputId": "8e612412-e975-4bae-efa5-816c734f38db"
      },
      "source": [
        "pipeline_path = f'/content/yeastcells-detection-maskrcnn'\n",
        "\n",
        "download(\n",
        "    'https://datascience.web.rug.nl/models/yeast-cells/mask-rcnn/v1/model_final.pth',\n",
        "    f'{pipeline_path}/model_final.pth'\n",
        ")\n",
        "\n",
        "download(\n",
        "    'https://datascience.web.rug.nl/YIT-Benchmark2.zip', \n",
        "    f'{pipeline_path}/YIT-Benchmark2/YIT-Benchmark2.zip'\n",
        ")\n",
        "\n",
        "# Extract the YIT-Benchmark2.zip if the folder doesn't exist or the content is\n",
        "# smaller than 500MB (heuristic).\n",
        "extracted_size = !du -s '{pipeline_path}/YIT-Benchmark2/'\n",
        "if not os.path.exists(f'{pipeline_path}/YIT-Benchmark2/') or \\\n",
        "   int(''.join(extracted_size).split()[0]) < 500*1024: \n",
        "  !cd '{pipeline_path}' && unzip -o 'YIT-Benchmark2/YIT-Benchmark2.zip' -d YIT-Benchmark2\n",
        "else:\n",
        "  print('It seems the YIT-Benchmark2 data set is extracted alread extracted')\n",
        "\n",
        "testset = 'TestSet1'\n",
        "filenames = data.load_data(f'{pipeline_path}/YIT-Benchmark2/{testset}/RawData', ff = '.tif')"
      ],
      "execution_count": 3,
      "outputs": [
        {
          "output_type": "stream",
          "text": [
            "Replace is False and data exists, so doing nothing. Use replace=True to re-download the data.\n",
            "Replace is False and data exists, so doing nothing. Use replace=True to re-download the data.\n",
            "It seems the YIT-Benchmark2 data set is extracted alread extracted\n"
          ],
          "name": "stdout"
        }
      ]
    },
    {
      "cell_type": "code",
      "metadata": {
        "id": "hvZ9L9qshMiW",
        "colab": {
          "base_uri": "https://localhost:8080/"
        },
        "outputId": "13f71d8b-7a5e-4d47-f4a7-953559699534"
      },
      "source": [
        "assert len(filenames) > 0, \"No images were found\"\n",
        "\n",
        "image = [imread(filename) for filename in filenames]\n",
        "\n",
        "assert len({im.shape for im in image}) == 1, (\n",
        "    f\"Images have inconsistent shapes: \"\n",
        "    f\"{', '.join({'x'.join(map(str, im.shape)) for im in image})}\")\n",
        "\n",
        "image = np.concatenate([frame[None, ..., None] * [[[1.,1.,1.]]] for frame in image])\n",
        "image = (255 * image / image.max()).astype(np.uint8)\n",
        "image.shape #(frames, length, width, channels)"
      ],
      "execution_count": 4,
      "outputs": [
        {
          "output_type": "execute_result",
          "data": {
            "text/plain": [
              "(60, 512, 512, 3)"
            ]
          },
          "metadata": {
            "tags": []
          },
          "execution_count": 4
        }
      ]
    },
    {
      "cell_type": "markdown",
      "metadata": {
        "id": "uca7Spw2hMiX"
      },
      "source": [
        "## Ground truth\n",
        "\n",
        "The ground truth consists of annotations of\n",
        " * `frame`: frame number starting at 1,\n",
        " * `cell`: tracks cells over frames, and\n",
        " * `x`, `y`: cell position."
      ]
    },
    {
      "cell_type": "code",
      "metadata": {
        "id": "Q5Dd5CHzhMiX",
        "colab": {
          "base_uri": "https://localhost:8080/"
        },
        "outputId": "b6ae6e20-d29e-4d61-f5a0-5845fe6acd44"
      },
      "source": [
        "ground_truth = pd.read_csv(\n",
        "    f'{pipeline_path}/YIT-Benchmark2/{testset}/GroundTruth/GroundTruth_Segmentation.csv',\n",
        "    sep=', ' # there's an awkward space next to the commas\n",
        ").drop('Cell_colour', axis=1).rename(\n",
        "    {'Frame_number': 'frame',\t'Cell_number': 'cell',\n",
        "     'Position_X' :'x', 'Position_Y': 'y'}, axis=1).reindex()\n",
        "\n",
        "# detections start counting at 0, ground truths at 1. rectify:\n",
        "ground_truth['frame'] = ground_truth['frame'] - 1"
      ],
      "execution_count": 5,
      "outputs": [
        {
          "output_type": "stream",
          "text": [
            "/usr/local/lib/python3.7/dist-packages/ipykernel_launcher.py:3: ParserWarning: Falling back to the 'python' engine because the 'c' engine does not support regex separators (separators > 1 char and different from '\\s+' are interpreted as regex); you can avoid this warning by specifying engine='python'.\n",
            "  This is separate from the ipykernel package so we can avoid doing imports until\n"
          ],
          "name": "stderr"
        }
      ]
    },
    {
      "cell_type": "markdown",
      "metadata": {
        "id": "kbmmqvPRolH2"
      },
      "source": [
        "## Segmentation theshold optimization"
      ]
    },
    {
      "cell_type": "markdown",
      "metadata": {
        "id": "28z5YtbThMiX"
      },
      "source": [
        "### Preparation\n",
        "\n",
        "Calculate intermediate results, that are independent of the thresholds and can be filtered by the threshold.\n",
        "\n",
        "This includes the all detections, the IoU distances between pairwise detections close enough in time and the centroid coordinates of each detection."
      ]
    },
    {
      "cell_type": "code",
      "metadata": {
        "id": "Z17NjPoldcO6",
        "colab": {
          "base_uri": "https://localhost:8080/",
          "height": 164,
          "referenced_widgets": [
            "07c1feda92b44fc297f352c29afc469e",
            "3533539281bb4926934389ce705fb732",
            "b6c770b3dd364eedbb43609f6f63d7a8",
            "a86aad9cbf8a4f28820c66dbae532056",
            "e04452ef27c248fb94fcc4e28d23c8f3",
            "ad3e8ba0cc414f23a48daa26559bd86a",
            "5f8a2dc757154989bfb1268a6b3ab573",
            "81e8cd0035e845dd91643e4108b4aaae",
            "2481c23e4b5d46919a14670dd4d5f697",
            "dfb194397900485484b6fcdb34019cb7",
            "a4c17e23b19a439187ab72839c87e26c",
            "271f1741e42647b88a45c7f7ac669e15",
            "ce78950c52bc45ca974cdaeb624c8733",
            "a0e1f68ceb314f59a0f840d342266b77",
            "195a62b506ec4536ae6d401a1a757561",
            "1f53bfeb55174707a2cde9d3ce2d42ef",
            "27256516bd3b4edf924cd960e90b9c73",
            "4c6724d6933a4319a62ccb1d51251502",
            "fde955cd6c4d4f5cb72ee90982880b8e",
            "90eb7c99b9a14f14910942eaa1b61fc9",
            "37fb46763c1d4b9f9a6c69b2f3b684e9",
            "e0c3d69ed7094b24bff376e16c3f6a87",
            "20a2eb206e5d4b42998128a54186ba6a",
            "95e2a1db5a424969af05b978a2edbecd"
          ]
        },
        "outputId": "665ab8b8-8c35-40fb-c2b7-6e4779795b7a"
      },
      "source": [
        "predictor = model.load_model(\n",
        "    f'{pipeline_path}/model_final.pth', seg_thresh=float(thresholds.min()), device='cuda:0') \n",
        "\n",
        "# Detection output from the Mask-RCNN\n",
        "output = [{'instances': predictor(frame)['instances'].to('cpu')} for frame in tqdm(image)]\n",
        "\n",
        "# IoU distances between detections, stored sparsely\n",
        "distances = clustering.get_distances(output, dmax=5, progress=True)"
      ],
      "execution_count": 6,
      "outputs": [
        {
          "output_type": "display_data",
          "data": {
            "application/vnd.jupyter.widget-view+json": {
              "model_id": "07c1feda92b44fc297f352c29afc469e",
              "version_minor": 0,
              "version_major": 2
            },
            "text/plain": [
              "HBox(children=(FloatProgress(value=0.0, max=60.0), HTML(value='')))"
            ]
          },
          "metadata": {
            "tags": []
          }
        },
        {
          "output_type": "stream",
          "text": [
            "\n"
          ],
          "name": "stdout"
        },
        {
          "output_type": "display_data",
          "data": {
            "application/vnd.jupyter.widget-view+json": {
              "model_id": "2481c23e4b5d46919a14670dd4d5f697",
              "version_minor": 0,
              "version_major": 2
            },
            "text/plain": [
              "HBox(children=(FloatProgress(value=0.0, max=60.0), HTML(value='')))"
            ]
          },
          "metadata": {
            "tags": []
          }
        },
        {
          "output_type": "stream",
          "text": [
            "\n"
          ],
          "name": "stdout"
        },
        {
          "output_type": "display_data",
          "data": {
            "application/vnd.jupyter.widget-view+json": {
              "model_id": "27256516bd3b4edf924cd960e90b9c73",
              "version_minor": 0,
              "version_major": 2
            },
            "text/plain": [
              "HBox(children=(FloatProgress(value=0.0, max=60.0), HTML(value='')))"
            ]
          },
          "metadata": {
            "tags": []
          }
        },
        {
          "output_type": "stream",
          "text": [
            "\n"
          ],
          "name": "stdout"
        }
      ]
    },
    {
      "cell_type": "markdown",
      "metadata": {
        "id": "VLeVBrGEk22Z"
      },
      "source": [
        "### Evaluation\n",
        "\n",
        "Filters out intermediate results based on different threshold values, and reapplies tracking (DBScan clustering)."
      ]
    },
    {
      "cell_type": "code",
      "metadata": {
        "id": "UlM0fgVBhMiX",
        "colab": {
          "base_uri": "https://localhost:8080/",
          "height": 66,
          "referenced_widgets": [
            "38a10f69fd59415486187792b4daadd7",
            "ab75372f3ef44597b1289e959bb402dc",
            "e36ab4c8ea90466d956897c10f6d0829",
            "773a44958be94a26bad3205b310826e8",
            "3eda1778c8954086bd6ee41e3838e7fe",
            "1cf61fc83e654f128932552623c3efe0",
            "ad0d93f905b2496590a4db24369960d0",
            "8ec709728d1a48fc92ea06c5d8592cdb"
          ]
        },
        "outputId": "a77cbea6-3b7c-4961-df60-218a0990c0f1"
      },
      "source": [
        "metrics = []\n",
        "\n",
        "for i, threshold in enumerate(tqdm(thresholds)):\n",
        "  # remove insufficiently certain detections based on threshold\n",
        "  output_ = [\n",
        "      {'instances': frame['instances'][frame['instances'].scores > threshold]}\n",
        "      for frame in output\n",
        "  ]\n",
        "\n",
        "  # remove insufficiently certain detections from distance matrix based on threshold\n",
        "  above_threshold = np.concatenate([\n",
        "    frame['instances'].scores > threshold for frame in output])\n",
        "  distances_ = distances.tocsr()[above_threshold].tocsc()[:, above_threshold].tocoo()\n",
        "\n",
        "  # Cluster detections (e.g. tracking)\n",
        "  with warnings.catch_warnings():\n",
        "    warnings.filterwarnings(\"ignore\", category=EfficiencyWarning)\n",
        "    labels = clustering.DBSCAN(\n",
        "        eps=0.6, min_samples=3, metric='precomputed'\n",
        "    ).fit(distances_).labels_\n",
        "\n",
        "  masks = np.concatenate([frame['instances'].pred_masks for frame in output_])\n",
        "  detections = pd.DataFrame({\n",
        "      'frame': [frame for frame, o in enumerate(output_)\n",
        "                      for _ in range(len(o['instances']))],\n",
        "      'cell': labels, 'mask': np.arange(len(masks)),\n",
        "  }).reindex()\n",
        "\n",
        "  segmentation_metrics = evaluation.calculate_metrics(\n",
        "      evaluation.get_segmention_metrics(ground_truth, detections, masks))\n",
        "  tracking_metrics = evaluation.calculate_metrics(\n",
        "      evaluation.get_tracking_metrics(ground_truth, detections, masks))\n",
        "\n",
        "  metrics.extend([\n",
        "      {'task': task, 'metric': metric, 'value': value, 'threshold': threshold}\n",
        "      for task, result in {\n",
        "          'tracking': tracking_metrics,\n",
        "          'segmentation': segmentation_metrics}.items()\n",
        "      for metric, value in result.items()\n",
        "  ])\n",
        "results = pd.DataFrame(metrics)"
      ],
      "execution_count": 7,
      "outputs": [
        {
          "output_type": "display_data",
          "data": {
            "application/vnd.jupyter.widget-view+json": {
              "model_id": "38a10f69fd59415486187792b4daadd7",
              "version_minor": 0,
              "version_major": 2
            },
            "text/plain": [
              "HBox(children=(FloatProgress(value=0.0, max=40.0), HTML(value='')))"
            ]
          },
          "metadata": {
            "tags": []
          }
        },
        {
          "output_type": "stream",
          "text": [
            "\n"
          ],
          "name": "stdout"
        }
      ]
    },
    {
      "cell_type": "markdown",
      "metadata": {
        "id": "0d5yin7xos85"
      },
      "source": [
        "### Results\n",
        "\n",
        "The performance of segmentation and tracking shown as calibration curves with respect to the threshold"
      ]
    },
    {
      "cell_type": "markdown",
      "metadata": {
        "id": "NHPtYE-zwitT"
      },
      "source": [
        "#### Calibration curves"
      ]
    },
    {
      "cell_type": "code",
      "metadata": {
        "id": "IX8rpwiKlu4s",
        "colab": {
          "base_uri": "https://localhost:8080/",
          "height": 350
        },
        "outputId": "06757b35-f231-4726-8afb-73bc71531870"
      },
      "source": [
        "axes = plt.subplots(1, 2, figsize=(20, 5))[1].ravel()\n",
        "for (task, task_results), axis in zip(results.groupby('task'), axes):\n",
        "  axis.vlines(segmentation_threshold, 0, 1, label='selected threshold')\n",
        "  sns.lineplot(data=results, x='threshold', y='value', hue='metric', ax=axis)\n",
        "  axis.set_title(task); axis.set_ylim(0, 1)"
      ],
      "execution_count": 8,
      "outputs": [
        {
          "output_type": "display_data",
          "data": {
            "image/png": "[encoded data removed]",
            "text/plain": [
              "<Figure size 1440x360 with 2 Axes>"
            ]
          },
          "metadata": {
            "tags": [],
            "needs_background": "light"
          }
        }
      ]
    },
    {
      "cell_type": "markdown",
      "metadata": {
        "id": "9l8lyQ4LwllV"
      },
      "source": [
        "#### Performance at selected threshold"
      ]
    },
    {
      "cell_type": "code",
      "metadata": {
        "id": "4ueuapdOwfHP",
        "colab": {
          "base_uri": "https://localhost:8080/",
          "height": 142
        },
        "outputId": "cb57fc6f-ea71-47af-bcbe-cbe364511158"
      },
      "source": [
        "results[(results['threshold'] - 0.955)**2 < 1e-6].pivot('task', columns='metric', values='value')"
      ],
      "execution_count": 9,
      "outputs": [
        {
          "output_type": "execute_result",
          "data": {
            "text/html": [
              "<div>\n",
              "<style scoped>\n",
              "    .dataframe tbody tr th:only-of-type {\n",
              "        vertical-align: middle;\n",
              "    }\n",
              "\n",
              "    .dataframe tbody tr th {\n",
              "        vertical-align: top;\n",
              "    }\n",
              "\n",
              "    .dataframe thead th {\n",
              "        text-align: right;\n",
              "    }\n",
              "</style>\n",
              "<table border=\"1\" class=\"dataframe\">\n",
              "  <thead>\n",
              "    <tr style=\"text-align: right;\">\n",
              "      <th>metric</th>\n",
              "      <th>Accuracy</th>\n",
              "      <th>F1-score</th>\n",
              "      <th>Precision</th>\n",
              "      <th>Recall</th>\n",
              "    </tr>\n",
              "    <tr>\n",
              "      <th>task</th>\n",
              "      <th></th>\n",
              "      <th></th>\n",
              "      <th></th>\n",
              "      <th></th>\n",
              "    </tr>\n",
              "  </thead>\n",
              "  <tbody>\n",
              "    <tr>\n",
              "      <th>segmentation</th>\n",
              "      <td>0.843725</td>\n",
              "      <td>0.915240</td>\n",
              "      <td>0.913675</td>\n",
              "      <td>0.916810</td>\n",
              "    </tr>\n",
              "    <tr>\n",
              "      <th>tracking</th>\n",
              "      <td>0.863787</td>\n",
              "      <td>0.926916</td>\n",
              "      <td>0.941176</td>\n",
              "      <td>0.913082</td>\n",
              "    </tr>\n",
              "  </tbody>\n",
              "</table>\n",
              "</div>"
            ],
            "text/plain": [
              "metric        Accuracy  F1-score  Precision    Recall\n",
              "task                                                 \n",
              "segmentation  0.843725  0.915240   0.913675  0.916810\n",
              "tracking      0.863787  0.926916   0.941176  0.913082"
            ]
          },
          "metadata": {
            "tags": []
          },
          "execution_count": 9
        }
      ]
    },
    {
      "cell_type": "markdown",
      "metadata": {
        "id": "dIpUOXAA9sHz"
      },
      "source": [
        "### Export\n",
        "\n",
        "Export as spreadsheet."
      ]
    },
    {
      "cell_type": "code",
      "metadata": {
        "id": "riQ3wWUG9qZ2",
        "colab": {
          "base_uri": "https://localhost:8080/",
          "height": 17
        },
        "outputId": "8660d26a-d688-42cf-8ea5-91923dfeba80"
      },
      "source": [
        "results.pivot(index=['threshold'], columns=['task', 'metric'], values='value').to_excel('threshold-tuning-results.xlsx')\n",
        "\n",
        "try:\n",
        "  from google.colab.files import download\n",
        "  download('threshold-tuning-results.xlsx')\n",
        "except ImportError:\n",
        "  print('Not on Google Colab, won\\'t start download')"
      ],
      "execution_count": 10,
      "outputs": [
        {
          "output_type": "display_data",
          "data": {
            "application/javascript": [
              "\n",
              "    async function download(id, filename, size) {\n",
              "      if (!google.colab.kernel.accessAllowed) {\n",
              "        return;\n",
              "      }\n",
              "      const div = document.createElement('div');\n",
              "      const label = document.createElement('label');\n",
              "      label.textContent = `Downloading \"${filename}\": `;\n",
              "      div.appendChild(label);\n",
              "      const progress = document.createElement('progress');\n",
              "      progress.max = size;\n",
              "      div.appendChild(progress);\n",
              "      document.body.appendChild(div);\n",
              "\n",
              "      const buffers = [];\n",
              "      let downloaded = 0;\n",
              "\n",
              "      const channel = await google.colab.kernel.comms.open(id);\n",
              "      // Send a message to notify the kernel that we're ready.\n",
              "      channel.send({})\n",
              "\n",
              "      for await (const message of channel.messages) {\n",
              "        // Send a message to notify the kernel that we're ready.\n",
              "        channel.send({})\n",
              "        if (message.buffers) {\n",
              "          for (const buffer of message.buffers) {\n",
              "            buffers.push(buffer);\n",
              "            downloaded += buffer.byteLength;\n",
              "            progress.value = downloaded;\n",
              "          }\n",
              "        }\n",
              "      }\n",
              "      const blob = new Blob(buffers, {type: 'application/binary'});\n",
              "      const a = document.createElement('a');\n",
              "      a.href = window.URL.createObjectURL(blob);\n",
              "      a.download = filename;\n",
              "      div.appendChild(a);\n",
              "      a.click();\n",
              "      div.remove();\n",
              "    }\n",
              "  "
            ],
            "text/plain": [
              "<IPython.core.display.Javascript object>"
            ]
          },
          "metadata": {
            "tags": []
          }
        },
        {
          "output_type": "display_data",
          "data": {
            "application/javascript": [
              "download(\"download_d100991d-fc2c-4d96-a53d-cddb5a42d813\", \"threshold-tuning-results.xlsx\", 9090)"
            ],
            "text/plain": [
              "<IPython.core.display.Javascript object>"
            ]
          },
          "metadata": {
            "tags": []
          }
        }
      ]
    },
    {
      "cell_type": "markdown",
      "metadata": {
        "id": "aguMv1e6hMiZ"
      },
      "source": [
        "## Tuning `dmax` and `epsilon` hyperparameters for tracking"
      ]
    },
    {
      "cell_type": "markdown",
      "metadata": {
        "id": "heEdI4F02O9l"
      },
      "source": [
        "### Preparation\n",
        "\n",
        "IoU distances used for clustering are stored for the most generous (higest) maximum frame (time) different considered. For testing, distances for detections too far appart are removed, such that DBScan assumes they are infinite."
      ]
    },
    {
      "cell_type": "code",
      "metadata": {
        "id": "qWQI5m_Oxj10",
        "colab": {
          "base_uri": "https://localhost:8080/",
          "height": 164,
          "referenced_widgets": [
            "ea9d097d1bee4ee1be387740aabc9790",
            "f9c62bb4753b4b118a6d65e027c46902",
            "96f76c2398764ff8ad37300db9105042",
            "67ad505727ce4047b9865edf523d5d32",
            "0842e7afd1ce4ccf834a027adfd4f604",
            "7e99b2a8623b451c857fa6e9e70acfb8",
            "9dbe4fbd50d74934ae5446b0ce0d1071",
            "b369a2a30eae417e94d72e9ed1db4638",
            "6aad8565faa7465180aa7598b728688a",
            "f01fab6fc4374d7bb4dfd43d89611197",
            "3d0ad9512bfd4757b2e76d6cf7f83910",
            "99409955985d4c33b5a6dfd339623e81",
            "de3aa3baeecc4ffba22e56d026d3480f",
            "6118ac7da870408dbd4e8029ea876df7",
            "6c035a572f1f4aa59681daa8e6fcf640",
            "938d90e2f43a42fb8d83c8ee781e53e0",
            "35a54bab99404a15b1b19e93decea0ae",
            "8676e500f63a44ed8ca68442cf83d7ff",
            "0e83f6dc988c4ecdb8454e7e93a3415d",
            "85451f27a1ac400e9490689edebe18f8",
            "d33adf3bc50648179bb10242cbac7ebe",
            "7b1ac5c7954340a6bae0e2bfcb10a646",
            "1c5411cc829940b5a5228aecc909ca3c",
            "410d7afb28824cc7be8a8c5317f9c1af"
          ]
        },
        "outputId": "cf862968-090b-42fc-d484-8184c953de74"
      },
      "source": [
        "predictor = model.load_model(\n",
        "    f'{pipeline_path}/model_final.pth', seg_thresh=segmentation_threshold, device='cuda:0') \n",
        "\n",
        "# Detection output from the Mask-RCNN\n",
        "output = [{'instances': predictor(frame)['instances'].to('cpu')} for frame in tqdm(image)]\n",
        "\n",
        "# IoU distances between detections, stored sparsely\n",
        "distances = clustering.get_distances(output, dmax=dmaxs.max(), progress=True)\n",
        "\n",
        "# Segmentation masks to be aligned with the `detections` dataframe below.\n",
        "masks = np.concatenate([frame['instances'].pred_masks for frame in output])\n",
        "\n",
        "# detection ground truths, the `cell` column will be updated each\n",
        "# iteration in the cell below, as it represents the result of tracking,\n",
        "# of which the hyperparameters are tuned.\n",
        "detections = pd.DataFrame({\n",
        "    'frame': [frame for frame, o in enumerate(output)\n",
        "                    for _ in range(len(o['instances']))],\n",
        "    'cell': -1, 'mask': np.arange(len(masks)),\n",
        "}).reindex()\n",
        "frames = detections['frame'].values"
      ],
      "execution_count": 11,
      "outputs": [
        {
          "output_type": "display_data",
          "data": {
            "application/vnd.jupyter.widget-view+json": {
              "model_id": "ea9d097d1bee4ee1be387740aabc9790",
              "version_minor": 0,
              "version_major": 2
            },
            "text/plain": [
              "HBox(children=(FloatProgress(value=0.0, max=60.0), HTML(value='')))"
            ]
          },
          "metadata": {
            "tags": []
          }
        },
        {
          "output_type": "stream",
          "text": [
            "\n"
          ],
          "name": "stdout"
        },
        {
          "output_type": "display_data",
          "data": {
            "application/vnd.jupyter.widget-view+json": {
              "model_id": "6aad8565faa7465180aa7598b728688a",
              "version_minor": 0,
              "version_major": 2
            },
            "text/plain": [
              "HBox(children=(FloatProgress(value=0.0, max=60.0), HTML(value='')))"
            ]
          },
          "metadata": {
            "tags": []
          }
        },
        {
          "output_type": "stream",
          "text": [
            "\n"
          ],
          "name": "stdout"
        },
        {
          "output_type": "display_data",
          "data": {
            "application/vnd.jupyter.widget-view+json": {
              "model_id": "35a54bab99404a15b1b19e93decea0ae",
              "version_minor": 0,
              "version_major": 2
            },
            "text/plain": [
              "HBox(children=(FloatProgress(value=0.0, max=60.0), HTML(value='')))"
            ]
          },
          "metadata": {
            "tags": []
          }
        },
        {
          "output_type": "stream",
          "text": [
            "\n"
          ],
          "name": "stdout"
        }
      ]
    },
    {
      "cell_type": "markdown",
      "metadata": {
        "id": "aIZtaPmg7U7S"
      },
      "source": [
        "### Evaluation"
      ]
    },
    {
      "cell_type": "code",
      "metadata": {
        "id": "FMqGXE_whMia",
        "colab": {
          "base_uri": "https://localhost:8080/",
          "height": 66,
          "referenced_widgets": [
            "7c9b0caea44340e4bee8c1927a9ef5ca",
            "c6c75e6bcc704aa08202c8512af1af81",
            "c5efd3038e3842aca333d0c254b946de",
            "a26025fe9b2c4412b88a5755e608212a",
            "2e0f599a6d2248359df8953f5e3a09ad",
            "09e04a2eac7a4c159541e8ef4ee5af99",
            "1de2210afa284d40bd0abab3d73cd158",
            "0d279552c0fb4adca935cddf65aac6fa"
          ]
        },
        "outputId": "a00e17f2-6108-47b0-97cd-488a2315b941"
      },
      "source": [
        "metrics = []\n",
        "\n",
        "for dmax, epsilon in tqdm(list(product(dmaxs, epsilons))):\n",
        "    # Remove distances that where from detections too many frames appart\n",
        "    at_most_dmax = np.abs(frames[distances.col] - frames[distances.row]) < dmax\n",
        "    distances_ = coo_matrix(\n",
        "        (distances.data[at_most_dmax],\n",
        "         (distances.row[at_most_dmax], distances.col[at_most_dmax])),\n",
        "        shape=distances.shape\n",
        "    )\n",
        "    # sanity check, should always hold\n",
        "    assert (distances.nnz - distances_.nnz - (distances - distances_).nnz) == 0, (\n",
        "        \"Insane, distances_ differs from distances on non-zero items\")\n",
        "\n",
        "    # Cluster detections (e.g. tracking)\n",
        "    with warnings.catch_warnings():\n",
        "      warnings.filterwarnings(\"ignore\", category=EfficiencyWarning)\n",
        "      labels = clustering.DBSCAN(\n",
        "          eps=epsilon, min_samples=3, metric='precomputed'\n",
        "      ).fit(distances_).labels_\n",
        "    detections['cell'] = labels\n",
        "\n",
        "\n",
        "    tracking_metrics = evaluation.calculate_metrics(\n",
        "      evaluation.get_tracking_metrics(ground_truth, detections, masks))\n",
        "\n",
        "    metrics.extend([\n",
        "        {'metric': metric, 'value': value, 'epsilon': epsilon, 'dmax': dmax}\n",
        "        for metric, value in tracking_metrics.items()\n",
        "    ])\n",
        "tracking_results = pd.DataFrame(metrics)"
      ],
      "execution_count": 12,
      "outputs": [
        {
          "output_type": "display_data",
          "data": {
            "application/vnd.jupyter.widget-view+json": {
              "model_id": "7c9b0caea44340e4bee8c1927a9ef5ca",
              "version_minor": 0,
              "version_major": 2
            },
            "text/plain": [
              "HBox(children=(FloatProgress(value=0.0, max=60.0), HTML(value='')))"
            ]
          },
          "metadata": {
            "tags": []
          }
        },
        {
          "output_type": "stream",
          "text": [
            "\n"
          ],
          "name": "stdout"
        }
      ]
    },
    {
      "cell_type": "markdown",
      "metadata": {
        "id": "Fn5NSGy97Wov"
      },
      "source": [
        "### Results\n",
        "\n",
        "Several performance metric represented by bars or a heatmap for different `eps` and `dmax` values."
      ]
    },
    {
      "cell_type": "code",
      "metadata": {
        "id": "BYKFkeyq4TM2",
        "colab": {
          "base_uri": "https://localhost:8080/",
          "height": 729
        },
        "outputId": "fe0e9f7d-4522-4be3-8a92-d22663ee64e4"
      },
      "source": [
        "axes = plt.subplots(2, 4, figsize=(20, 10))[1].T\n",
        "\n",
        "for (metric, rows), (ax0, ax1) in zip(tracking_results.groupby('metric'), axes):\n",
        "  rows = rows.rename({'value': metric}, axis=1)\n",
        "  sns.barplot(data=rows.rename({'value': metric}, axis=1),\n",
        "              hue='dmax', x='epsilon', y=metric, palette='rainbow', ax=ax0)\n",
        "  ax0.set_xticklabels([f'{eps:0.2f}' for eps in epsilons], rotation=90)\n",
        "  ax1.set_ylim(0, 1)\n",
        "\n",
        "  # Show as pecentages\n",
        "  rows = (100 * rows.pivot('dmax', columns=['epsilon'], values=metric)).astype(int)\n",
        "  sns.heatmap(data=rows, annot=True, ax=ax1, vmin=80, vmax=100, fmt='d')\n",
        "  ax1.set_xticklabels([f'{eps:0.2f}' for eps in epsilons], rotation=90)\n",
        "  ax1.set_title(metric)\n",
        "plt.tight_layout()"
      ],
      "execution_count": 13,
      "outputs": [
        {
          "output_type": "display_data",
          "data": {
            "image/png": "[encoded data removed]",
            "text/plain": [
              "<Figure size 1440x720 with 12 Axes>"
            ]
          },
          "metadata": {
            "tags": [],
            "needs_background": "light"
          }
        }
      ]
    },
    {
      "cell_type": "markdown",
      "metadata": {
        "id": "k8vmjJ8C7tu6"
      },
      "source": [
        "### Export\n",
        "\n",
        "Save and download these results as a spreadsheets."
      ]
    },
    {
      "cell_type": "code",
      "metadata": {
        "id": "k4luCG867sl9",
        "colab": {
          "base_uri": "https://localhost:8080/",
          "height": 17
        },
        "outputId": "49e38cbe-bdbd-4f44-aac0-8ae66ad27537"
      },
      "source": [
        "tracking_results.pivot(index=['dmax', 'epsilon'], columns=['metric'], values='value').to_excel('tracking-tuning-results.xlsx')\n",
        "\n",
        "try:\n",
        "  from google.colab.files import download\n",
        "  download('tracking-tuning-results.xlsx')\n",
        "except ImportError:\n",
        "  print('Not on Google Colab, won\\'t start download')"
      ],
      "execution_count": 14,
      "outputs": [
        {
          "output_type": "display_data",
          "data": {
            "application/javascript": [
              "\n",
              "    async function download(id, filename, size) {\n",
              "      if (!google.colab.kernel.accessAllowed) {\n",
              "        return;\n",
              "      }\n",
              "      const div = document.createElement('div');\n",
              "      const label = document.createElement('label');\n",
              "      label.textContent = `Downloading \"${filename}\": `;\n",
              "      div.appendChild(label);\n",
              "      const progress = document.createElement('progress');\n",
              "      progress.max = size;\n",
              "      div.appendChild(progress);\n",
              "      document.body.appendChild(div);\n",
              "\n",
              "      const buffers = [];\n",
              "      let downloaded = 0;\n",
              "\n",
              "      const channel = await google.colab.kernel.comms.open(id);\n",
              "      // Send a message to notify the kernel that we're ready.\n",
              "      channel.send({})\n",
              "\n",
              "      for await (const message of channel.messages) {\n",
              "        // Send a message to notify the kernel that we're ready.\n",
              "        channel.send({})\n",
              "        if (message.buffers) {\n",
              "          for (const buffer of message.buffers) {\n",
              "            buffers.push(buffer);\n",
              "            downloaded += buffer.byteLength;\n",
              "            progress.value = downloaded;\n",
              "          }\n",
              "        }\n",
              "      }\n",
              "      const blob = new Blob(buffers, {type: 'application/binary'});\n",
              "      const a = document.createElement('a');\n",
              "      a.href = window.URL.createObjectURL(blob);\n",
              "      a.download = filename;\n",
              "      div.appendChild(a);\n",
              "      a.click();\n",
              "      div.remove();\n",
              "    }\n",
              "  "
            ],
            "text/plain": [
              "<IPython.core.display.Javascript object>"
            ]
          },
          "metadata": {
            "tags": []
          }
        },
        {
          "output_type": "display_data",
          "data": {
            "application/javascript": [
              "download(\"download_bf285dca-041c-435d-8e8a-b9c2b67bd325\", \"tracking-tuning-results.xlsx\", 7422)"
            ],
            "text/plain": [
              "<IPython.core.display.Javascript object>"
            ]
          },
          "metadata": {
            "tags": []
          }
        }
      ]
    }
  ]
}