{
 "cells": [
  {
   "cell_type": "markdown",
   "metadata": {},
   "source": [
    "# Yeast cells detection evaluation notebook"
   ]
  },
  {
   "cell_type": "code",
   "execution_count": 1,
   "metadata": {},
   "outputs": [],
   "source": [
    "import sys\n",
    "sys.path.append('../')\n",
    "#sys.path.append('%HOMEPATH%/detectron2') #insert local path to detecron2\n",
    "import numpy as np\n",
    "\n",
    "import yeastcells.clustering as clustering\n",
    "import yeastcells.features as features\n",
    "import yeastcells.data as data\n",
    "import yeastcells.model as model\n",
    "import yeastcells.output as output\n",
    "import yeastcells.remove_false_pos as remove_fp\n",
    "import yeastcells.visualize as visualize"
   ]
  },
  {
   "cell_type": "code",
   "execution_count": 2,
   "metadata": {},
   "outputs": [
    {
     "name": "stdout",
     "output_type": "stream",
     "text": [
      "/home/p301081\n"
     ]
    }
   ],
   "source": [
    "cd ~"
   ]
  },
  {
   "cell_type": "markdown",
   "metadata": {},
   "source": [
    "### Load data"
   ]
  },
  {
   "cell_type": "code",
   "execution_count": 3,
   "metadata": {},
   "outputs": [
    {
     "name": "stdout",
     "output_type": "stream",
     "text": [
      "['../../slow-data/yeastcells/data/cellstar_benchmark/TestSet1/BF_frame001.tif'\n",
      " '../../slow-data/yeastcells/data/cellstar_benchmark/TestSet1/BF_frame002.tif'\n",
      " '../../slow-data/yeastcells/data/cellstar_benchmark/TestSet1/BF_frame003.tif'\n",
      " '../../slow-data/yeastcells/data/cellstar_benchmark/TestSet1/BF_frame004.tif'\n",
      " '../../slow-data/yeastcells/data/cellstar_benchmark/TestSet1/BF_frame005.tif'\n",
      " '../../slow-data/yeastcells/data/cellstar_benchmark/TestSet1/BF_frame006.tif'\n",
      " '../../slow-data/yeastcells/data/cellstar_benchmark/TestSet1/BF_frame007.tif'\n",
      " '../../slow-data/yeastcells/data/cellstar_benchmark/TestSet1/BF_frame008.tif'\n",
      " '../../slow-data/yeastcells/data/cellstar_benchmark/TestSet1/BF_frame009.tif'\n",
      " '../../slow-data/yeastcells/data/cellstar_benchmark/TestSet1/BF_frame010.tif'\n",
      " '../../slow-data/yeastcells/data/cellstar_benchmark/TestSet1/BF_frame011.tif'\n",
      " '../../slow-data/yeastcells/data/cellstar_benchmark/TestSet1/BF_frame012.tif'\n",
      " '../../slow-data/yeastcells/data/cellstar_benchmark/TestSet1/BF_frame013.tif'\n",
      " '../../slow-data/yeastcells/data/cellstar_benchmark/TestSet1/BF_frame014.tif'\n",
      " '../../slow-data/yeastcells/data/cellstar_benchmark/TestSet1/BF_frame015.tif'\n",
      " '../../slow-data/yeastcells/data/cellstar_benchmark/TestSet1/BF_frame016.tif'\n",
      " '../../slow-data/yeastcells/data/cellstar_benchmark/TestSet1/BF_frame017.tif'\n",
      " '../../slow-data/yeastcells/data/cellstar_benchmark/TestSet1/BF_frame018.tif'\n",
      " '../../slow-data/yeastcells/data/cellstar_benchmark/TestSet1/BF_frame019.tif'\n",
      " '../../slow-data/yeastcells/data/cellstar_benchmark/TestSet1/BF_frame020.tif'\n",
      " '../../slow-data/yeastcells/data/cellstar_benchmark/TestSet1/BF_frame021.tif'\n",
      " '../../slow-data/yeastcells/data/cellstar_benchmark/TestSet1/BF_frame022.tif'\n",
      " '../../slow-data/yeastcells/data/cellstar_benchmark/TestSet1/BF_frame023.tif'\n",
      " '../../slow-data/yeastcells/data/cellstar_benchmark/TestSet1/BF_frame024.tif'\n",
      " '../../slow-data/yeastcells/data/cellstar_benchmark/TestSet1/BF_frame025.tif'\n",
      " '../../slow-data/yeastcells/data/cellstar_benchmark/TestSet1/BF_frame026.tif'\n",
      " '../../slow-data/yeastcells/data/cellstar_benchmark/TestSet1/BF_frame027.tif'\n",
      " '../../slow-data/yeastcells/data/cellstar_benchmark/TestSet1/BF_frame028.tif'\n",
      " '../../slow-data/yeastcells/data/cellstar_benchmark/TestSet1/BF_frame029.tif'\n",
      " '../../slow-data/yeastcells/data/cellstar_benchmark/TestSet1/BF_frame030.tif'\n",
      " '../../slow-data/yeastcells/data/cellstar_benchmark/TestSet1/BF_frame031.tif'\n",
      " '../../slow-data/yeastcells/data/cellstar_benchmark/TestSet1/BF_frame032.tif'\n",
      " '../../slow-data/yeastcells/data/cellstar_benchmark/TestSet1/BF_frame033.tif'\n",
      " '../../slow-data/yeastcells/data/cellstar_benchmark/TestSet1/BF_frame034.tif'\n",
      " '../../slow-data/yeastcells/data/cellstar_benchmark/TestSet1/BF_frame035.tif'\n",
      " '../../slow-data/yeastcells/data/cellstar_benchmark/TestSet1/BF_frame036.tif'\n",
      " '../../slow-data/yeastcells/data/cellstar_benchmark/TestSet1/BF_frame037.tif'\n",
      " '../../slow-data/yeastcells/data/cellstar_benchmark/TestSet1/BF_frame038.tif'\n",
      " '../../slow-data/yeastcells/data/cellstar_benchmark/TestSet1/BF_frame039.tif'\n",
      " '../../slow-data/yeastcells/data/cellstar_benchmark/TestSet1/BF_frame040.tif'\n",
      " '../../slow-data/yeastcells/data/cellstar_benchmark/TestSet1/BF_frame041.tif'\n",
      " '../../slow-data/yeastcells/data/cellstar_benchmark/TestSet1/BF_frame042.tif'\n",
      " '../../slow-data/yeastcells/data/cellstar_benchmark/TestSet1/BF_frame043.tif'\n",
      " '../../slow-data/yeastcells/data/cellstar_benchmark/TestSet1/BF_frame044.tif'\n",
      " '../../slow-data/yeastcells/data/cellstar_benchmark/TestSet1/BF_frame045.tif'\n",
      " '../../slow-data/yeastcells/data/cellstar_benchmark/TestSet1/BF_frame046.tif'\n",
      " '../../slow-data/yeastcells/data/cellstar_benchmark/TestSet1/BF_frame047.tif'\n",
      " '../../slow-data/yeastcells/data/cellstar_benchmark/TestSet1/BF_frame048.tif'\n",
      " '../../slow-data/yeastcells/data/cellstar_benchmark/TestSet1/BF_frame049.tif'\n",
      " '../../slow-data/yeastcells/data/cellstar_benchmark/TestSet1/BF_frame050.tif'\n",
      " '../../slow-data/yeastcells/data/cellstar_benchmark/TestSet1/BF_frame051.tif'\n",
      " '../../slow-data/yeastcells/data/cellstar_benchmark/TestSet1/BF_frame052.tif'\n",
      " '../../slow-data/yeastcells/data/cellstar_benchmark/TestSet1/BF_frame053.tif'\n",
      " '../../slow-data/yeastcells/data/cellstar_benchmark/TestSet1/BF_frame054.tif'\n",
      " '../../slow-data/yeastcells/data/cellstar_benchmark/TestSet1/BF_frame055.tif'\n",
      " '../../slow-data/yeastcells/data/cellstar_benchmark/TestSet1/BF_frame056.tif'\n",
      " '../../slow-data/yeastcells/data/cellstar_benchmark/TestSet1/BF_frame057.tif'\n",
      " '../../slow-data/yeastcells/data/cellstar_benchmark/TestSet1/BF_frame058.tif'\n",
      " '../../slow-data/yeastcells/data/cellstar_benchmark/TestSet1/BF_frame059.tif'\n",
      " '../../slow-data/yeastcells/data/cellstar_benchmark/TestSet1/BF_frame060.tif']\n"
     ]
    }
   ],
   "source": [
    "path = '../../slow-data/yeastcells/data/cellstar_benchmark/TestSet1'\n",
    "filenames = data.load_data(path)\n",
    "print(filenames)"
   ]
  },
  {
   "cell_type": "code",
   "execution_count": 4,
   "metadata": {},
   "outputs": [
    {
     "data": {
      "text/plain": [
       "(60, 512, 512, 3)"
      ]
     },
     "execution_count": 4,
     "metadata": {},
     "output_type": "execute_result"
    }
   ],
   "source": [
    "image = data.read_images_cat(filenames)\n",
    "np.shape(image)"
   ]
  },
  {
   "cell_type": "markdown",
   "metadata": {},
   "source": [
    "### Load and run model on data for segmentation"
   ]
  },
  {
   "cell_type": "code",
   "execution_count": null,
   "metadata": {},
   "outputs": [],
   "source": [
    "model_path = '/var/tensorflow-logs/p253591/yeast-cell-detection-run-4'\n",
    "predictor = model.load_model(model_path, seg_thresh=0.5, device='cuda:1')"
   ]
  },
  {
   "cell_type": "code",
   "execution_count": null,
   "metadata": {},
   "outputs": [],
   "source": [
    "output = [\n",
    "  {'instances': predictor(frame)['instances'].to('cpu')}\n",
    "  for frame in image\n",
    "]"
   ]
  },
  {
   "cell_type": "markdown",
   "metadata": {},
   "source": [
    "### Run clustering algorithm for tracking"
   ]
  },
  {
   "cell_type": "code",
   "execution_count": null,
   "metadata": {},
   "outputs": [],
   "source": [
    "labels, coordinates = clustering.cluster_cells(output, dmax=5, min_samples=3, eps=0.6, progress=False)"
   ]
  },
  {
   "cell_type": "markdown",
   "metadata": {},
   "source": [
    "### Load ground truth data and reformat prediction outputs into array"
   ]
  },
  {
   "cell_type": "code",
   "execution_count": null,
   "metadata": {},
   "outputs": [],
   "source": [
    "seg_path = '../../slow-data/yeastcells/data/cellstar_benchmark/TestSet1/GroundTruth_Segmentation.csv'\n",
    "track_path = '../../slow-data/yeastcells/data/cellstar_benchmark/TestSet1/GroundTruth_Tracking.csv'\n",
    "gt_s, gt_t = data.get_gt(seg_path, track_path)\n",
    "pred_s, pred_t = data.get_pred(output, labels, coordinates)"
   ]
  },
  {
   "cell_type": "markdown",
   "metadata": {},
   "source": [
    "### Match predictions to ground truth"
   ]
  },
  {
   "cell_type": "code",
   "execution_count": null,
   "metadata": {},
   "outputs": [],
   "source": [
    "pred_s_, results_s = evaluation.get_seg_performance(pred_s, gt_s, output, removed_fp=False, index=None)\n",
    "pred_t_, results_t = evaluation.get_track_performance(pred_t, gt_t, output, removed_fp=False, index=None)"
   ]
  },
  {
   "cell_type": "code",
   "execution_count": null,
   "metadata": {},
   "outputs": [],
   "source": [
    "print(results_s)\n",
    "print(results_t)"
   ]
  },
  {
   "cell_type": "code",
   "execution_count": null,
   "metadata": {},
   "outputs": [],
   "source": [
    "metrics_s = evaluation.calculate_metrics(results_s, pred_s_, gt_s)\n",
    "metrics_t = evaluation.calculate_metrics(results_t, pred_t_, gt_t)"
   ]
  },
  {
   "cell_type": "code",
   "execution_count": null,
   "metadata": {},
   "outputs": [],
   "source": [
    "print(metrics_s)\n",
    "print(metrics_t)"
   ]
  },
  {
   "cell_type": "markdown",
   "metadata": {},
   "source": [
    "## False positive removal"
   ]
  },
  {
   "cell_type": "markdown",
   "metadata": {},
   "source": [
    "### Include features"
   ]
  },
  {
   "cell_type": "code",
   "execution_count": null,
   "metadata": {},
   "outputs": [],
   "source": [
    "# Add std of size and std of position\n",
    "areas, g_rate = features.get_area_and_growth_rate(polygons, labels, pred_s)\n",
    "X = np.vstack((areas, g_rate)).T"
   ]
  },
  {
   "cell_type": "markdown",
   "metadata": {},
   "source": [
    "### Import random forest and run on prediction features to output idx of false positives"
   ]
  },
  {
   "cell_type": "code",
   "execution_count": null,
   "metadata": {},
   "outputs": [],
   "source": [
    "idx = fp.remove_by_rf(rf, X)"
   ]
  },
  {
   "cell_type": "markdown",
   "metadata": {},
   "source": [
    "### Rerun evaluation with removed false positives"
   ]
  },
  {
   "cell_type": "code",
   "execution_count": null,
   "metadata": {},
   "outputs": [],
   "source": [
    "pred_s_, results_s = evaluation.get_seg_performance(pred_s, gt_s, output, removed_fp=True, index=idx)\n",
    "pred_t_, results_t = evaluation.get_track_performance(pred_t, gt_t, output, removed_fp=True, index=idx)"
   ]
  }
 ],
 "metadata": {
  "kernelspec": {
   "display_name": "Yeast Cells",
   "language": "python",
   "name": "yeastcells"
  },
  "language_info": {
   "codemirror_mode": {
    "name": "ipython",
    "version": 3
   },
   "file_extension": ".py",
   "mimetype": "text/x-python",
   "name": "python",
   "nbconvert_exporter": "python",
   "pygments_lexer": "ipython3",
   "version": "3.7.8"
  }
 },
 "nbformat": 4,
 "nbformat_minor": 4
}
