{
 "cells": [
  {
   "cell_type": "markdown",
   "metadata": {},
   "source": [
    "# Yeast cells detection sample notebook"
   ]
  },
  {
   "cell_type": "code",
   "execution_count": 70,
   "metadata": {},
   "outputs": [],
   "source": [
    "import sys\n",
    "sys.path.append('../')\n",
    "#sys.path.append('%HOMEPATH%/detectron2') #insert local path to detecron2\n",
    "import numpy as np\n",
    "import pandas as pd\n",
    "import matplotlib.pyplot as plt\n",
    "import tifffile\n",
    "\n",
    "import yeastcells.clustering as clustering\n",
    "import yeastcells.features as features\n",
    "import yeastcells.data as data\n",
    "import yeastcells.model as model\n",
    "import yeastcells.visualize as visualize\n",
    "\n",
    "%matplotlib notebook"
   ]
  },
  {
   "cell_type": "code",
   "execution_count": 2,
   "metadata": {},
   "outputs": [
    {
     "name": "stdout",
     "output_type": "stream",
     "text": [
      "/home/p301081\n"
     ]
    }
   ],
   "source": [
    "cd ~"
   ]
  },
  {
   "cell_type": "markdown",
   "metadata": {},
   "source": [
    "### Load data"
   ]
  },
  {
   "cell_type": "code",
   "execution_count": 7,
   "metadata": {},
   "outputs": [
    {
     "name": "stdout",
     "output_type": "stream",
     "text": [
      "['../../slow-data/yeastcells/data/DATA_CIT/Test_Images/20190115_wf(fret)_tod6-ph_tdgfp__hta2-mrfp_ysbn6_mm_gl_xy03.nd2.tif'\n",
      " '../../slow-data/yeastcells/data/DATA_CIT/Test_Images/20190115_wf(fret)_tod6-ph_tdgfp__hta2-mrfp_ysbn6_mm_gl_xy05.nd2.tif'\n",
      " '../../slow-data/yeastcells/data/DATA_CIT/Test_Images/Movie_test1.tif']\n"
     ]
    }
   ],
   "source": [
    "path = '../../slow-data/yeastcells/data/DATA_CIT/Test_Images'\n",
    "filenames = data.load_data(path, ff = '.tif')\n",
    "print(filenames)"
   ]
  },
  {
   "cell_type": "code",
   "execution_count": 8,
   "metadata": {},
   "outputs": [
    {
     "data": {
      "text/plain": [
       "(214, 512, 512, 3)"
      ]
     },
     "execution_count": 8,
     "metadata": {},
     "output_type": "execute_result"
    }
   ],
   "source": [
    "fn = filenames[0]\n",
    "image = data.read_image(fn, time_series= True, channel=1, flourescent=False)\n",
    "np.shape(image) #(frames, length, width, channels)"
   ]
  },
  {
   "cell_type": "markdown",
   "metadata": {},
   "source": [
    "### Load and run model on data for segmentation"
   ]
  },
  {
   "cell_type": "code",
   "execution_count": 9,
   "metadata": {},
   "outputs": [],
   "source": [
    "#set path to model_final.pth\n",
    "model_path = '/var/tensorflow-logs/p253591/yeast-cell-detection-run-4'\n",
    "\n",
    "#load model\n",
    "predictor = model.load_model(model_path, seg_thresh=0.955, device='cuda:1') #set GPU if available otherwise use 'cpu'"
   ]
  },
  {
   "cell_type": "code",
   "execution_count": 10,
   "metadata": {},
   "outputs": [
    {
     "name": "stderr",
     "output_type": "stream",
     "text": [
      "/home/p301081/.virtualenvs/yeastcells/lib/python3.7/site-packages/detectron2/layers/wrappers.py:226: UserWarning: This overload of nonzero is deprecated:\n",
      "\tnonzero()\n",
      "Consider using one of the following signatures instead:\n",
      "\tnonzero(*, bool as_tuple) (Triggered internally at  /pytorch/torch/csrc/utils/python_arg_parser.cpp:766.)\n",
      "  return x.nonzero().unbind(1)\n"
     ]
    }
   ],
   "source": [
    "output = [\n",
    "  {'instances': predictor(frame)['instances'].to('cpu')}\n",
    "  for frame in image\n",
    "]"
   ]
  },
  {
   "cell_type": "markdown",
   "metadata": {},
   "source": [
    "### Run clustering algorithm for tracking"
   ]
  },
  {
   "cell_type": "code",
   "execution_count": 11,
   "metadata": {},
   "outputs": [
    {
     "name": "stderr",
     "output_type": "stream",
     "text": [
      "/home/p301081/.virtualenvs/yeastcells/lib/python3.7/site-packages/sklearn/neighbors/_base.py:168: EfficiencyWarning: Precomputed sparse input was not sorted by data.\n",
      "  EfficiencyWarning)\n"
     ]
    }
   ],
   "source": [
    "labels, coordinates = clustering.cluster_cells(output, dmax=5, min_samples=3, eps=0.6, progress=False) #for time-series\n",
    "#labels, coordinates = get_instance_numbers(output) #for single image"
   ]
  },
  {
   "cell_type": "code",
   "execution_count": null,
   "metadata": {},
   "outputs": [],
   "source": [
    "#plot paths\n",
    "ax = visualize.plot_paths(\n",
    "  labels,\n",
    "  coordinates[:, [2,1,0]],\n",
    "  style={'linewidth': 1},\n",
    "  xlim=(0, 512),\n",
    "  ylim=(0, 512),\n",
    "  title='',\n",
    ")"
   ]
  },
  {
   "cell_type": "markdown",
   "metadata": {},
   "source": [
    "### Extract features and visualize tracking and segmentation"
   ]
  },
  {
   "cell_type": "code",
   "execution_count": 13,
   "metadata": {},
   "outputs": [
    {
     "name": "stdout",
     "output_type": "stream",
     "text": [
      "The number of segmentations is 1686\n",
      "The number of tracked cells is 53\n"
     ]
    }
   ],
   "source": [
    "s, t = features.get_seg_track(labels, output) # total"
   ]
  },
  {
   "cell_type": "code",
   "execution_count": 14,
   "metadata": {},
   "outputs": [
    {
     "name": "stdout",
     "output_type": "stream",
     "text": [
      "The number of segmentations in frame 0 is 12\n",
      "The number of tracked cells in frame 0 is 10\n"
     ]
    }
   ],
   "source": [
    "s, t = features.get_seg_track(labels, output, frame = 0) # by frame"
   ]
  },
  {
   "cell_type": "code",
   "execution_count": 37,
   "metadata": {},
   "outputs": [
    {
     "data": {
      "text/plain": [
       "221"
      ]
     },
     "execution_count": 37,
     "metadata": {},
     "output_type": "execute_result"
    }
   ],
   "source": [
    "features.track_len(labels, label=3) #select a label to extract the length of its track"
   ]
  },
  {
   "cell_type": "code",
   "execution_count": 16,
   "metadata": {},
   "outputs": [],
   "source": [
    "contours = features.extract_contours(output) "
   ]
  },
  {
   "cell_type": "code",
   "execution_count": null,
   "metadata": {},
   "outputs": [],
   "source": [
    "scene = visualize.create_scene(image, output, labels, contours, thickness=1, color=[255,0,255], framenum=True, labelnum=True)\n",
    "movie = visualize.show_animation(scene, title='', delay=700) \n",
    "#plt.axis('off')"
   ]
  },
  {
   "cell_type": "code",
   "execution_count": null,
   "metadata": {},
   "outputs": [],
   "source": [
    "scene = visualize.create_scene(image, output, labels, contours, thickness=1, color=None, framenum=False, labelnum=True)\n",
    "cell_scene = visualize.select_cell(scene, coordinates, labels, w=80, l=3) # choose image window (w) and label (l)\n",
    "movie = visualize.show_animation(cell_scene, title='', delay=500)"
   ]
  },
  {
   "cell_type": "code",
   "execution_count": null,
   "metadata": {},
   "outputs": [],
   "source": [
    "_, _, pred_df = data.get_pred(output, labels, coordinates, ti=3, start=start)"
   ]
  },
  {
   "cell_type": "code",
   "execution_count": 30,
   "metadata": {},
   "outputs": [],
   "source": [
    "masks = features.get_masks(output)\n",
    "mask_areas = features.get_areas(masks, labels)\n",
    "pred_df['Mask_Area(pxl)'] = mask_areas\n",
    "pred_df.head(10)"
   ]
  },
  {
   "cell_type": "code",
   "execution_count": null,
   "metadata": {},
   "outputs": [],
   "source": [
    "time_min = np.array(pred_df['Time(min)'])\n",
    "ax = visualize.plot_area_profiles(mask_areas, time_min, label_list=[3,5], ax=None, title=\"Area (pxl) over time\")"
   ]
  },
  {
   "cell_type": "code",
   "execution_count": null,
   "metadata": {},
   "outputs": [],
   "source": [
    "#image_f = data.read_image(fn, time_series = True, channel=5, flourescent=True)\n",
    "#pi = features.get_pixel_intensity(masks, output, image_f)\n",
    "#pred_df['Pixel_intensity'] = pi"
   ]
  },
  {
   "cell_type": "code",
   "execution_count": null,
   "metadata": {},
   "outputs": [],
   "source": [
    "visualize.plot_mask_overlay(\n",
    "    masks, labels, output, image, \n",
    "    label_list=[0,1,2,3,4,5,6,7,9,10], frame=0, ax=None, title=None\n",
    ")"
   ]
  },
  {
   "cell_type": "markdown",
   "metadata": {},
   "source": [
    "#### Output for tracked cells"
   ]
  },
  {
   "cell_type": "code",
   "execution_count": null,
   "metadata": {},
   "outputs": [],
   "source": [
    "agr = get_average_growth_rate(mask_areas, labels, output)\n",
    "area_std = features.get_area_std(labels, pred_df)\n",
    "position_std = features.get_position_std(labels, pred_df)"
   ]
  },
  {
   "cell_type": "code",
   "execution_count": null,
   "metadata": {},
   "outputs": [],
   "source": [
    "label_df = pd.DataFrame(agr, columns=['Cell_label', 'Average Growth Rate'])\n",
    "label_df['Std Area(pxl)'] = area_std[:,1]\n",
    "label_df['Std Position'] = position_std[:,1]"
   ]
  },
  {
   "cell_type": "code",
   "execution_count": null,
   "metadata": {},
   "outputs": [],
   "source": [
    "label_df['Cell_label'] = label_df['Cell_label'].astype(int)\n",
    "label_df.head(5)"
   ]
  },
  {
   "cell_type": "markdown",
   "metadata": {},
   "source": [
    "### Export"
   ]
  },
  {
   "cell_type": "code",
   "execution_count": 31,
   "metadata": {},
   "outputs": [],
   "source": [
    "# pred_df = pred_df[pred_df.Cell_label!=-1] #remove untracked segmented cells\n",
    "# pred_df = pred_df.sort_values(['Cell_label', 'Frame_number']) #sort by tracking label\n",
    "# pred_df = pred_df.reset_index(drop=True)\n",
    "df_out = 'predictions'\n",
    "pred_df.to_csv(f'{df_out}.csv', index=False)"
   ]
  },
  {
   "cell_type": "markdown",
   "metadata": {},
   "source": [
    "#### Export masks as tiff stack file\n"
   ]
  },
  {
   "cell_type": "code",
   "execution_count": null,
   "metadata": {},
   "outputs": [],
   "source": [
    "masks_out = 'masks'\n",
    "with tifffile.TiffWriter(f'{masks_out}.tif') as stack:\n",
    "    for m in masks:\n",
    "        stack.save(m)"
   ]
  }
 ],
 "metadata": {
  "kernelspec": {
   "display_name": "Yeast Cells",
   "language": "python",
   "name": "yeastcells"
  },
  "language_info": {
   "codemirror_mode": {
    "name": "ipython",
    "version": 3
   },
   "file_extension": ".py",
   "mimetype": "text/x-python",
   "name": "python",
   "nbconvert_exporter": "python",
   "pygments_lexer": "ipython3",
   "version": "3.7.8"
  }
 },
 "nbformat": 4,
 "nbformat_minor": 4
}
