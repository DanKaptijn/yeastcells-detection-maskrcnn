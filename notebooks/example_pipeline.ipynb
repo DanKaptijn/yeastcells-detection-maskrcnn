{
 "cells": [
  {
   "cell_type": "markdown",
   "metadata": {},
   "source": [
    "# Yeast cells detection sample notebook"
   ]
  },
  {
   "cell_type": "code",
   "execution_count": null,
   "metadata": {},
   "outputs": [],
   "source": [
    "import sys\n",
    "sys.path.append('../')\n",
    "#sys.path.append('%HOMEPATH%/detectron2') #insert local path to detecron2\n",
    "import numpy as np\n",
    "\n",
    "import yeastcells.clustering as clustering\n",
    "import yeastcells.features as features\n",
    "import yeastcells.data as data\n",
    "import yeastcells.model as model\n",
    "import yeastcells.output as output\n",
    "import yeastcells.visualize as visualize\n",
    "\n",
    "%matplotlib notebook"
   ]
  },
  {
   "cell_type": "code",
   "execution_count": null,
   "metadata": {},
   "outputs": [],
   "source": [
    "cd ~"
   ]
  },
  {
   "cell_type": "markdown",
   "metadata": {},
   "source": [
    "### Load data"
   ]
  },
  {
   "cell_type": "code",
   "execution_count": null,
   "metadata": {},
   "outputs": [],
   "source": [
    "path = '../../slow-data/yeastcells/data/DATA_CIT/Test_Images'\n",
    "filenames = data.load_data(path, ff = '.tif')\n",
    "print(filenames)"
   ]
  },
  {
   "cell_type": "code",
   "execution_count": null,
   "metadata": {},
   "outputs": [],
   "source": [
    "fn = filenames[0]\n",
    "image = data.read_image(fn, single_im = False, shape=2)\n",
    "np.shape(image) #(frames, length, width, channels)"
   ]
  },
  {
   "cell_type": "code",
   "execution_count": null,
   "metadata": {},
   "outputs": [],
   "source": [
    "image = image[39:]\n",
    "len(image)"
   ]
  },
  {
   "cell_type": "markdown",
   "metadata": {},
   "source": [
    "### Load and run model on data for segmentation"
   ]
  },
  {
   "cell_type": "code",
   "execution_count": null,
   "metadata": {},
   "outputs": [],
   "source": [
    "#set path to model_final.pth\n",
    "model_path = '/var/tensorflow-logs/p253591/yeast-cell-detection-run-4'\n",
    "\n",
    "#load model\n",
    "predictor = model.load_model(model_path, seg_thresh=0.94, device='cuda:0') #set GPU if available otherwise use 'cpu'"
   ]
  },
  {
   "cell_type": "code",
   "execution_count": null,
   "metadata": {},
   "outputs": [],
   "source": [
    "output = [\n",
    "  {'instances': predictor(frame)['instances'].to('cpu')}\n",
    "  for frame in image\n",
    "]"
   ]
  },
  {
   "cell_type": "markdown",
   "metadata": {},
   "source": [
    "### Run clustering algorithm for tracking"
   ]
  },
  {
   "cell_type": "code",
   "execution_count": null,
   "metadata": {},
   "outputs": [],
   "source": [
    "labels, coordinates = clustering.cluster_cells(output, dmax=5, min_samples=5, eps=0.6, progress=False) #for time-series\n",
    "#labels, coordinates = get_instance_numbers(output) #for single image"
   ]
  },
  {
   "cell_type": "code",
   "execution_count": null,
   "metadata": {},
   "outputs": [],
   "source": [
    "#plot paths\n",
    "ax = visualize.plot_paths(\n",
    "  labels,\n",
    "  coordinates[:, [2,1,0]],\n",
    "  style={'linewidth': 1},\n",
    "  xlim=(0, 512),\n",
    "  ylim=(0, 512),\n",
    "  title='',\n",
    ")"
   ]
  },
  {
   "cell_type": "markdown",
   "metadata": {},
   "source": [
    "### Extract features and visualize tracking and segmentation"
   ]
  },
  {
   "cell_type": "code",
   "execution_count": null,
   "metadata": {},
   "outputs": [],
   "source": [
    "s, t = features.get_seg_track(labels, output, frame = None) # total"
   ]
  },
  {
   "cell_type": "code",
   "execution_count": null,
   "metadata": {},
   "outputs": [],
   "source": [
    "s, t = features.get_seg_track(labels, output, frame = 0, start=40) # by frame"
   ]
  },
  {
   "cell_type": "code",
   "execution_count": null,
   "metadata": {},
   "outputs": [],
   "source": [
    "features.track_len(labels, label=0) #select a label to extract the length of its track"
   ]
  },
  {
   "cell_type": "code",
   "execution_count": null,
   "metadata": {},
   "outputs": [],
   "source": [
    "contours = features.extract_contours(output) "
   ]
  },
  {
   "cell_type": "code",
   "execution_count": null,
   "metadata": {},
   "outputs": [],
   "source": [
    "scene = visualize.create_scene(image, output, labels, contours, thickness=1, color=[255,0,255], framenum=True, labelnum=True)\n",
    "movie = visualize.show_animation(scene, title='', delay=100) "
   ]
  },
  {
   "cell_type": "code",
   "execution_count": null,
   "metadata": {},
   "outputs": [],
   "source": [
    "scene = visualize.create_scene(image, output, labels, contours, thickness=1, color=None, framenum=True, labelnum=True)\n",
    "cell_scene, label = visualize.select_cell(scene, coordinates, labels, w=60, l=0) # choose image window (w) and label (l)\n",
    "movie = visualize.show_animation(cell_scene, title='', delay=100)"
   ]
  },
  {
   "cell_type": "code",
   "execution_count": null,
   "metadata": {},
   "outputs": [],
   "source": [
    "polygons_clust =  features.polygons_per_cluster(labels, contours, output)"
   ]
  },
  {
   "cell_type": "code",
   "execution_count": null,
   "metadata": {},
   "outputs": [],
   "source": [
    "ax = visualize.plot_area_profiles(polygons_clust, ti=3, label_list=[0], ax=None, title=None)"
   ]
  },
  {
   "cell_type": "code",
   "execution_count": null,
   "metadata": {},
   "outputs": [],
   "source": [
    "_, _, pred_df = data.get_pred(output, labels, coordinates, ti=3, start=40)\n",
    "polygons_inst =  features.polygons_per_instance(labels, contours, output)\n",
    "pred_df = features.add_area_df(polygons_inst, labels, pred_df, start=40)"
   ]
  },
  {
   "cell_type": "code",
   "execution_count": null,
   "metadata": {},
   "outputs": [],
   "source": [
    "masks = features.get_masks(output)"
   ]
  },
  {
   "cell_type": "code",
   "execution_count": null,
   "metadata": {},
   "outputs": [],
   "source": [
    "visualize.plot_polygon_mask(\n",
    "    masks, labels, output, image, polygons_clust, \n",
    "    label=0, frame=0, ax=None, title=None\n",
    ")"
   ]
  },
  {
   "cell_type": "code",
   "execution_count": null,
   "metadata": {},
   "outputs": [],
   "source": [
    "agr = features.get_average_growth_rate(polygons_clust, labels, output)\n",
    "area_std = features.get_area_std(polygons_clust, labels, pred_df)\n",
    "position_std = features.get_position_std(polygons_clust, labels, pred_df)"
   ]
  },
  {
   "cell_type": "markdown",
   "metadata": {},
   "source": [
    "### Output"
   ]
  },
  {
   "cell_type": "code",
   "execution_count": null,
   "metadata": {},
   "outputs": [],
   "source": [
    "pred_df.head(20)"
   ]
  },
  {
   "cell_type": "code",
   "execution_count": null,
   "metadata": {},
   "outputs": [],
   "source": []
  }
 ],
 "metadata": {
  "kernelspec": {
   "display_name": "Yeast Cells",
   "language": "python",
   "name": "yeastcells"
  },
  "language_info": {
   "codemirror_mode": {
    "name": "ipython",
    "version": 3
   },
   "file_extension": ".py",
   "mimetype": "text/x-python",
   "name": "python",
   "nbconvert_exporter": "python",
   "pygments_lexer": "ipython3",
   "version": "3.7.8"
  }
 },
 "nbformat": 4,
 "nbformat_minor": 4
}
