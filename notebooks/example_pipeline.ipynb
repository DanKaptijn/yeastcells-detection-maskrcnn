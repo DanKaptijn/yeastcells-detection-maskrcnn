{
 "cells": [
  {
   "cell_type": "markdown",
   "metadata": {},
   "source": [
    "# Yeast cells detection sample notebook"
   ]
  },
  {
   "cell_type": "code",
   "execution_count": 1,
   "metadata": {},
   "outputs": [],
   "source": [
    "import sys\n",
    "sys.path.append('../')\n",
    "#sys.path.append('%HOMEPATH%/detectron2') #insert local path to detecron2\n",
    "import numpy as np\n",
    "\n",
    "import yeastcells.clustering as clustering\n",
    "import yeastcells.features as features\n",
    "import yeastcells.data as data\n",
    "import yeastcells.model as model\n",
    "import yeastcells.output as output\n",
    "import yeastcells.fp as fp\n",
    "import yeastcells.visualize as visualize"
   ]
  },
  {
   "cell_type": "code",
   "execution_count": 6,
   "metadata": {},
   "outputs": [
    {
     "name": "stdout",
     "output_type": "stream",
     "text": [
      "/home/p301081\n"
     ]
    }
   ],
   "source": [
    "cd ~"
   ]
  },
  {
   "cell_type": "markdown",
   "metadata": {},
   "source": [
    "### Load data"
   ]
  },
  {
   "cell_type": "code",
   "execution_count": 7,
   "metadata": {},
   "outputs": [
    {
     "name": "stdout",
     "output_type": "stream",
     "text": [
      "['../../slow-data/yeastcells/data/DATA_CIT/Movie_1/tiffs/12.4.2017_sfp1_ph-tdgfp_hta2_mcherry_1pc_glu_to_1pc_glu_rap_xy01.nd2.tif'\n",
      " '../../slow-data/yeastcells/data/DATA_CIT/Movie_1/tiffs/12.4.2017_sfp1_ph-tdgfp_hta2_mcherry_1pc_glu_to_1pc_glu_rap_xy02.nd2.tif'\n",
      " '../../slow-data/yeastcells/data/DATA_CIT/Movie_1/tiffs/12.4.2017_sfp1_ph-tdgfp_hta2_mcherry_1pc_glu_to_1pc_glu_rap_xy03.nd2.tif'\n",
      " '../../slow-data/yeastcells/data/DATA_CIT/Movie_1/tiffs/12.4.2017_sfp1_ph-tdgfp_hta2_mcherry_1pc_glu_to_1pc_glu_rap_xy04.nd2.tif'\n",
      " '../../slow-data/yeastcells/data/DATA_CIT/Movie_1/tiffs/12.4.2017_sfp1_ph-tdgfp_hta2_mcherry_1pc_glu_to_1pc_glu_rap_xy05.nd2.tif'\n",
      " '../../slow-data/yeastcells/data/DATA_CIT/Movie_1/tiffs/12.4.2017_sfp1_ph-tdgfp_hta2_mcherry_1pc_glu_to_1pc_glu_rap_xy06.nd2.tif'\n",
      " '../../slow-data/yeastcells/data/DATA_CIT/Movie_1/tiffs/12.4.2017_sfp1_ph-tdgfp_hta2_mcherry_1pc_glu_to_1pc_glu_rap_xy07.nd2.tif'\n",
      " '../../slow-data/yeastcells/data/DATA_CIT/Movie_1/tiffs/12.4.2017_sfp1_ph-tdgfp_hta2_mcherry_1pc_glu_to_1pc_glu_rap_xy08.nd2.tif'\n",
      " '../../slow-data/yeastcells/data/DATA_CIT/Movie_1/tiffs/12.4.2017_sfp1_ph-tdgfp_hta2_mcherry_1pc_glu_to_1pc_glu_rap_xy09.nd2.tif'\n",
      " '../../slow-data/yeastcells/data/DATA_CIT/Movie_1/tiffs/12.4.2017_sfp1_ph-tdgfp_hta2_mcherry_1pc_glu_to_1pc_glu_rap_xy10.nd2.tif'\n",
      " '../../slow-data/yeastcells/data/DATA_CIT/Movie_1/tiffs/12.4.2017_sfp1_ph-tdgfp_hta2_mcherry_1pc_glu_to_1pc_glu_rap_xy11.nd2.tif'\n",
      " '../../slow-data/yeastcells/data/DATA_CIT/Movie_1/tiffs/12.4.2017_sfp1_ph-tdgfp_hta2_mcherry_1pc_glu_to_1pc_glu_rap_xy12.nd2.tif'\n",
      " '../../slow-data/yeastcells/data/DATA_CIT/Movie_1/tiffs/12.4.2017_sfp1_ph-tdgfp_hta2_mcherry_1pc_glu_to_1pc_glu_rap_xy13.nd2.tif'\n",
      " '../../slow-data/yeastcells/data/DATA_CIT/Movie_1/tiffs/12.4.2017_sfp1_ph-tdgfp_hta2_mcherry_1pc_glu_to_1pc_glu_rap_xy14.nd2.tif'\n",
      " '../../slow-data/yeastcells/data/DATA_CIT/Movie_1/tiffs/12.4.2017_sfp1_ph-tdgfp_hta2_mcherry_1pc_glu_to_1pc_glu_rap_xy15.nd2.tif'\n",
      " '../../slow-data/yeastcells/data/DATA_CIT/Movie_1/tiffs/12.4.2017_sfp1_ph-tdgfp_hta2_mcherry_1pc_glu_to_1pc_glu_rap_xy16.nd2.tif'\n",
      " '../../slow-data/yeastcells/data/DATA_CIT/Movie_1/tiffs/12.4.2017_sfp1_ph-tdgfp_hta2_mcherry_1pc_glu_to_1pc_glu_rap_xy17.nd2.tif'\n",
      " '../../slow-data/yeastcells/data/DATA_CIT/Movie_1/tiffs/12.4.2017_sfp1_ph-tdgfp_hta2_mcherry_1pc_glu_to_1pc_glu_rap_xy18.nd2.tif'\n",
      " '../../slow-data/yeastcells/data/DATA_CIT/Movie_1/tiffs/12.4.2017_sfp1_ph-tdgfp_hta2_mcherry_1pc_glu_to_1pc_glu_rap_xy19.nd2.tif'\n",
      " '../../slow-data/yeastcells/data/DATA_CIT/Movie_1/tiffs/12.4.2017_sfp1_ph-tdgfp_hta2_mcherry_1pc_glu_to_1pc_glu_rap_xy20.nd2.tif']\n"
     ]
    }
   ],
   "source": [
    "path = '../../slow-data/yeastcells/data/DATA_CIT/Movie_1/tiffs'\n",
    "filenames = data.load_data(path)\n",
    "print(filenames)"
   ]
  },
  {
   "cell_type": "code",
   "execution_count": 8,
   "metadata": {},
   "outputs": [
    {
     "data": {
      "text/plain": [
       "(217, 512, 512, 3)"
      ]
     },
     "execution_count": 8,
     "metadata": {},
     "output_type": "execute_result"
    }
   ],
   "source": [
    "fn = filenames[0]\n",
    "image = data.read_image(fn)\n",
    "np.shape(image) #(frames, length, width, channels)"
   ]
  },
  {
   "cell_type": "markdown",
   "metadata": {},
   "source": [
    "### Load and run model on data for segmentation"
   ]
  },
  {
   "cell_type": "code",
   "execution_count": null,
   "metadata": {},
   "outputs": [],
   "source": [
    "model_path = '/var/tensorflow-logs/p253591/yeast-cell-detection-run-4'\n",
    "predictor = model.load_model(model_path, seg_thresh=0.5, device='cuda:1')"
   ]
  },
  {
   "cell_type": "code",
   "execution_count": 17,
   "metadata": {},
   "outputs": [],
   "source": [
    "output = [\n",
    "  {'instances': predictor(frame)['instances'].to('cpu')}\n",
    "  for frame in image\n",
    "]"
   ]
  },
  {
   "cell_type": "markdown",
   "metadata": {},
   "source": [
    "### Run clustering algorithm for tracking"
   ]
  },
  {
   "cell_type": "code",
   "execution_count": null,
   "metadata": {},
   "outputs": [],
   "source": [
    "labels, coordinates = clustering.cluster_cells(output, dmax=5, min_samples=3, eps=0.6, progress=False)"
   ]
  },
  {
   "cell_type": "markdown",
   "metadata": {},
   "source": [
    "### Reformat prediction outputs into array"
   ]
  },
  {
   "cell_type": "code",
   "execution_count": null,
   "metadata": {},
   "outputs": [],
   "source": [
    "pred_s, pred_t = data.get_pred(output, labels, coordinates)"
   ]
  },
  {
   "cell_type": "markdown",
   "metadata": {},
   "source": [
    "### Extract features and visualize tracking and segmentation"
   ]
  },
  {
   "cell_type": "code",
   "execution_count": null,
   "metadata": {},
   "outputs": [],
   "source": [
    "n_tracks = features.get_tracks(labels)\n",
    "print(n_tracks)"
   ]
  },
  {
   "cell_type": "code",
   "execution_count": null,
   "metadata": {},
   "outputs": [],
   "source": [
    "contours = features.extract_contours(output) "
   ]
  },
  {
   "cell_type": "code",
   "execution_count": null,
   "metadata": {},
   "outputs": [],
   "source": [
    "polygons =  features.polygons_per_cluster(labels, countours, output, include_noise=False)"
   ]
  },
  {
   "cell_type": "code",
   "execution_count": null,
   "metadata": {},
   "outputs": [],
   "source": [
    "#plot paths\n",
    "ax = visualize.plot_paths(\n",
    "  labels,\n",
    "  coordinates[:, [2,1,0]],\n",
    "  style={'linewidth': 1},\n",
    "  xlim=(0, 512),\n",
    "  ylim=(0, 512),\n",
    "  title='',\n",
    ")"
   ]
  },
  {
   "cell_type": "code",
   "execution_count": null,
   "metadata": {},
   "outputs": [],
   "source": [
    "scene = visualize.create_scene(image, output, labels, contours, thickness=1, color=None, framenum=True, labelnum=False)\n",
    "movie = visualize.show_animation(scene, title='', delay=500) "
   ]
  },
  {
   "cell_type": "code",
   "execution_count": null,
   "metadata": {},
   "outputs": [],
   "source": [
    "scene = visualize.create_scene(image, output, labels, contours, thickness=1, color=None, framenum=True, labelnum=True)\n",
    "cell_scene, label = visualize.select_cell(coordinates, labels, w=40, l=0) # choose image window (w) and label (l)\n",
    "movie = visualize.show_animation(cell_scene, title='', delay=500)"
   ]
  },
  {
   "cell_type": "code",
   "execution_count": null,
   "metadata": {},
   "outputs": [],
   "source": [
    "ax = visualize.plot_area_profile(polygons, label=0, ax=None, title=None)"
   ]
  },
  {
   "cell_type": "code",
   "execution_count": null,
   "metadata": {},
   "outputs": [],
   "source": [
    "poly_area, growth_rate = features.get_area_and_growth_rate(polygons, labels, pred_s)"
   ]
  },
  {
   "cell_type": "code",
   "execution_count": null,
   "metadata": {},
   "outputs": [],
   "source": []
  }
 ],
 "metadata": {
  "kernelspec": {
   "display_name": "Yeast Cells",
   "language": "python",
   "name": "yeastcells"
  },
  "language_info": {
   "codemirror_mode": {
    "name": "ipython",
    "version": 3
   },
   "file_extension": ".py",
   "mimetype": "text/x-python",
   "name": "python",
   "nbconvert_exporter": "python",
   "pygments_lexer": "ipython3",
   "version": "3.7.8"
  }
 },
 "nbformat": 4,
 "nbformat_minor": 4
}
