{
 "cells": [
  {
   "cell_type": "markdown",
   "metadata": {
    "id": "keAuX3B7UNxj"
   },
   "source": [
    "# Yeast cells detection sample notebook"
   ]
  },
  {
   "cell_type": "markdown",
   "metadata": {
    "id": "bNDn1CJXUNxo"
   },
   "source": [
    "This pipeline detects, segments, and tracks yeast cells in time-series microscopy data. It uses a mask-RCNN model trained on synthetic brightfield budding yeast cell data to detect and segment the cells. For tracking, the clustering algorithm DBSCAN is used with input distances based on the intersection-over-union metric. The cell (tracking) label, its centroid position, and area in pixels are extracted."
   ]
  },
  {
   "cell_type": "code",
   "execution_count": null,
   "metadata": {},
   "outputs": [],
   "source": [
    "try:\n",
    "  from yeastcells import data, features, yit, segmentation, tracking, visualize\n",
    "except ImportError:\n",
    "  # Outside of colab, it is necesary to manually install scikit-learn, seaborn, torch and torchvision, e.g.:\n",
    "  # !pip3 install scikit-learn torch torchvision seaborn\n",
    "  !pip3 install -U git+https://github.com/ymzayek/yeastcells-detection-maskrcnn.git\n",
    "  from yeastcells import data, features, yit, segmentation, tracking, visualize"
   ]
  },
  {
   "cell_type": "code",
   "execution_count": null,
   "metadata": {
    "id": "NL__kTeaUNxo"
   },
   "outputs": [],
   "source": [
    "%matplotlib inline\n",
    "\n",
    "import os\n",
    "import seaborn\n",
    "import tifffile\n",
    "import numpy as np\n",
    "import pandas as pd\n",
    "from tqdm.auto import tqdm\n",
    "from skimage.io import imread\n",
    "from download import download\n",
    "import matplotlib.pyplot as plt"
   ]
  },
  {
   "cell_type": "markdown",
   "metadata": {
    "id": "XMf-tVwzUNxp"
   },
   "source": [
    "## Download model and data\n",
    "\n",
    "If downloading the model or data results in a time out, please try again. If the download aborts midway, also try again since downloads will continue.\n",
    "\n",
    "This zip is only re-extracted if the folder doesn't exist or it's content is less than 500MB."
   ]
  },
  {
   "cell_type": "code",
   "execution_count": null,
   "metadata": {
    "colab": {
     "base_uri": "https://localhost:8080/"
    },
    "id": "7XOv9ypDUNxp",
    "outputId": "d3c23d29-5312-4d2b-ae9c-f0cf7bae99d0"
   },
   "outputs": [],
   "source": [
    "# pipeline_path = f'/content/yeastcells-detection-maskrcnn'\n",
    "pipeline_path = f'../'\n",
    "\n",
    "download(\n",
    "    'https://datascience.web.rug.nl/models/yeast-cells/mask-rcnn/v1/model_final.pth',\n",
    "    f'{pipeline_path}/model_final.pth')\n",
    "\n",
    "download(\n",
    "    'https://datascience.web.rug.nl/YIT-Benchmark2.zip', \n",
    "    f'{pipeline_path}/YIT-Benchmark2/YIT-Benchmark2.zip')\n",
    "\n",
    "# Extract the YIT-Benchmark2.zip if the folder doesn't exist or the content is\n",
    "# smaller than 500MB (heuristic).\n",
    "extracted_size = !du -s '{pipeline_path}/YIT-Benchmark2/'\n",
    "if not os.path.exists(f'{pipeline_path}/YIT-Benchmark2/') or \\\n",
    "   int(''.join(extracted_size).split()[0]) < 500*1024: \n",
    "  !cd '{pipeline_path}' && unzip -o 'YIT-Benchmark2/YIT-Benchmark2.zip' -d YIT-Benchmark2\n",
    "else:\n",
    "  print('It seems the YIT-Benchmark2 data set is extracted alread extracted')\n",
    "\n",
    "testset = 'TestSet1'\n",
    "filenames = data.load_data(f'{pipeline_path}/YIT-Benchmark2/{testset}/RawData', ff = '.tif')"
   ]
  },
  {
   "cell_type": "markdown",
   "metadata": {
    "id": "Pl64ud3bUNxq"
   },
   "source": [
    "## Read movie\n",
    "\n",
    "Ensure the image is either shaped $frames \\times height \\times width \\times 3$ or $height \\times width \\times 3$ for a still image. The 3 channels should be the same, and intensities should range `[0, 255]` and be of type `np.uint8`, although alternative representations might also work.\n",
    "\n"
   ]
  },
  {
   "cell_type": "code",
   "execution_count": null,
   "metadata": {
    "colab": {
     "base_uri": "https://localhost:8080/"
    },
    "id": "GA_9v7hl61F3",
    "outputId": "5cd64c56-cc5c-4c91-8ebd-0bb96e1fc3ab"
   },
   "outputs": [],
   "source": [
    "assert len(filenames) > 0, \"No images were found\"\n",
    "\n",
    "image = [imread(filename) for filename in filenames]\n",
    "\n",
    "assert len({im.shape for im in image}) == 1, (\n",
    "    f\"Images have inconsistent shapes: \"\n",
    "    f\"{', '.join({'x'.join(map(str, im.shape)) for im in image})}\")\n",
    "\n",
    "image = np.concatenate([frame[None, ..., None] * [[[1.,1.,1.]]] for frame in image])\n",
    "image = (255 * image / image.max()).astype(np.uint8)\n",
    "image.shape # (frames, length, width, channels)"
   ]
  },
  {
   "cell_type": "markdown",
   "metadata": {
    "id": "EjXNSBuwUNxr"
   },
   "source": [
    "## Apply Mask-RCNN model\n",
    "\n",
    "The Mask-RCNN model segments yeast cells in each frame independently. The output is a structure where every cell is represented as an instance of bounding boxes, masks and probability scores.\n",
    "\n",
    "For example, one can access the 13th bounding box in the 7th time frame like this.\n",
    "\n",
    "    x0, y0, x1, y1 = np.array(output[6]['instances'].pred_boxes.tensor.to('cpu')[12])"
   ]
  },
  {
   "cell_type": "code",
   "execution_count": null,
   "metadata": {},
   "outputs": [],
   "source": [
    "detections, masks = segmentation.get_segmentation(\n",
    "  image, f'{pipeline_path}/model_final.pth', seg_thresh=0.955, device='cuda:0')"
   ]
  },
  {
   "cell_type": "markdown",
   "metadata": {
    "id": "KayhguOsUNxs"
   },
   "source": [
    "## Tracking detections across time frames\n",
    "\n",
    "`tracked_cells` marks the centroids of each detection in a dataframe with columns `frame`, `x` and `y`, and a column `cell` to track the cells. Negative values (-1) mark outliers that were not tracked.\n",
    "\n",
    "These tracks are plot in 3D."
   ]
  },
  {
   "cell_type": "code",
   "execution_count": null,
   "metadata": {},
   "outputs": [],
   "source": [
    "detections = tracking.track_cells(detections, masks, dmax=5, min_samples=3, eps=0.6, device='cuda:0')"
   ]
  },
  {
   "cell_type": "code",
   "execution_count": null,
   "metadata": {
    "colab": {
     "base_uri": "https://localhost:8080/",
     "height": 248
    },
    "id": "F1DuEQ4-UNxs",
    "outputId": "6349e336-a581-41f1-d34b-70d5695e4684"
   },
   "outputs": [],
   "source": [
    "# plot yeast cell positions over time\n",
    "\n",
    "ax = visualize.plot_paths(detections, style={'linewidth': 1}, xlim=(0, 512), ylim=(0, 512), title='',)"
   ]
  },
  {
   "cell_type": "markdown",
   "metadata": {
    "id": "HkNmrysECew4"
   },
   "source": [
    "## Visualize as a movie"
   ]
  },
  {
   "cell_type": "code",
   "execution_count": null,
   "metadata": {
    "colab": {
     "base_uri": "https://localhost:8080/",
     "height": 323
    },
    "id": "Jvq7xd7WUNxu",
    "outputId": "b3797da3-0406-43eb-c109-082468341a2c"
   },
   "outputs": [],
   "source": [
    "# Creates a colorfull stack of images, each cell is drawn as a polygon in\n",
    "# the same color across frames, and can be labeled.\n",
    "scene = visualize.create_scene(image, detections, masks,\n",
    "                               frame_style={}, label_style={})\n",
    "\n",
    "# When interactive plotting is available, this can be animated. Otherwise\n",
    "# a still image of the first frame is shown.\n",
    "\n",
    "movie = visualize.show_animation(scene, title='', delay=700) "
   ]
  },
  {
   "cell_type": "code",
   "execution_count": null,
   "metadata": {
    "colab": {
     "base_uri": "https://localhost:8080/",
     "height": 1000
    },
    "id": "UwoAL3XyJCup",
    "outputId": "0ff91184-14a9-48e9-d7a6-991c04b9c660"
   },
   "outputs": [],
   "source": [
    "# Alternatively, plot every frame independently\n",
    "axes = plt.subplots(8, 8, figsize=(30, 30))[1].ravel()\n",
    "for axis, frame in zip(axes, scene):\n",
    "  axis.imshow(frame)"
   ]
  },
  {
   "cell_type": "code",
   "execution_count": null,
   "metadata": {
    "colab": {
     "base_uri": "https://localhost:8080/",
     "height": 323
    },
    "id": "HhedDWklUNxu",
    "outputId": "5ca02a9f-b81f-4199-aa49-a93c774d1c6d"
   },
   "outputs": [],
   "source": [
    "# One may extract the one particular cell, e.g. 3, in time and spatial dimensions\n",
    "cell_scene = visualize.select_cell(scene, detections, 3, w=80)\n",
    "\n",
    "movie = visualize.show_animation(cell_scene, title='', delay=500)"
   ]
  },
  {
   "cell_type": "markdown",
   "metadata": {
    "id": "Z-9-L-HyDWrb"
   },
   "source": [
    "## Output as a DataFrame (or spreadsheet)\n",
    "\n",
    "This creates a dataframe with columns for time, frame number, cell number, position and the cell area. Of course, other features could be added when needed.\n",
    "\n",
    "This dataframe can be exported to excel or csv spreadsheets."
   ]
  },
  {
   "cell_type": "code",
   "execution_count": null,
   "metadata": {
    "colab": {
     "base_uri": "https://localhost:8080/",
     "height": 419
    },
    "id": "88tAokT2UNxu",
    "outputId": "3f7e144b-c6eb-4a9b-bfd5-4041312e9484"
   },
   "outputs": [],
   "source": [
    "detections['area'] = features.get_areas(masks)\n",
    "detections['pixel intensity'] = features.get_pixel_value_sum(image[..., 0], detections, masks)\n",
    "detections['mean pixel intensity'] = detections['pixel intensity'] / detections['area']\n",
    "detections"
   ]
  },
  {
   "cell_type": "code",
   "execution_count": null,
   "metadata": {
    "colab": {
     "base_uri": "https://localhost:8080/",
     "height": 296
    },
    "id": "FkVFry_PNGmL",
    "outputId": "8c7a545f-006b-4a6f-96b8-6ccc9ecd9639"
   },
   "outputs": [],
   "source": [
    "plt.figure(figsize=(20, 7))\n",
    "seaborn.lineplot(\n",
    "  data = detections[detections['cell'].isin([3, 4, 12, 10])],\n",
    "  x='frame', hue='cell', palette='rainbow',\n",
    "  y='area',\n",
    "  # y='pixel intensity',\n",
    "  # y='mean pixel intensity',\n",
    ")"
   ]
  },
  {
   "cell_type": "code",
   "execution_count": null,
   "metadata": {
    "colab": {
     "base_uri": "https://localhost:8080/",
     "height": 17
    },
    "id": "Po6Kq2fBUNxu",
    "outputId": "53c1d8c1-5f1e-4367-ac64-bedeb474f714"
   },
   "outputs": [],
   "source": [
    "try:\n",
    "  from google.colab.files import download\n",
    "  detections.to_excel('cell detections.xlsx')\n",
    "  download('cell detections.xlsx')\n",
    "except ImportError:\n",
    "  print('Not on Google Colab, won\\'t start download')"
   ]
  },
  {
   "cell_type": "markdown",
   "metadata": {
    "id": "tll75O8sRQA6"
   },
   "source": [
    "## Detection statistics\n",
    "\n",
    "`pandas` allows finding cell statistics, for example\n",
    "\n",
    "    # Number of tracked frames for each cell:\n",
    "    detections['cell'].value_counts()\n",
    "\n",
    "    # Number of detections:\n",
    "    len(detections)\n",
    "\n",
    "    # Detections per frame\n",
    "    detections['frame'].value_counts()\n",
    "\n",
    "Note that cells labeled with a -1 were unable to be tracked"
   ]
  },
  {
   "cell_type": "code",
   "execution_count": null,
   "metadata": {
    "colab": {
     "base_uri": "https://localhost:8080/",
     "height": 537
    },
    "id": "rrryJoZyUNxt",
    "outputId": "2c236237-60d6-4a71-d996-e6c505ef6ed9"
   },
   "outputs": [],
   "source": [
    "_, (ax0, ax1, ax2) = plt.subplots(1, 3, figsize=(21, 8))\n",
    "\n",
    "detections_per_cells = detections['cell'].value_counts()\n",
    "ax0.bar(detections_per_cells.index, detections_per_cells.values)\n",
    "ax0.set_xlabel('cell'); ax0.set_ylabel('occurs in frames')\n",
    "ax0.set_xticks([-1, 0, 5, 10, 15, 20, 25])\n",
    "ax0.set_xticklabels(['no cell', 0, 5, 10, 15, 20, 25],  rotation=90)\n",
    "\n",
    "\n",
    "detections_per_frame = detections[detections['cell'] == -1]['frame'].value_counts()\n",
    "ax1.bar(detections_per_frame.index, detections_per_frame.values)\n",
    "ax1.set_xlabel('frame'); ax1.set_ylabel('untracked detections')\n",
    "\n",
    "detections_per_frame = detections[detections['cell'] >= 0]['frame'].value_counts()\n",
    "ax2.bar(detections_per_frame.index, detections_per_frame.values)\n",
    "ax2.set_xlabel('frame'); ax2.set_ylabel('tracked detections')\n",
    "None"
   ]
  },
  {
   "cell_type": "markdown",
   "metadata": {
    "id": "3m7ePdHmUNxw"
   },
   "source": [
    "## Export masks as tiff stack file\n"
   ]
  },
  {
   "cell_type": "code",
   "execution_count": null,
   "metadata": {
    "colab": {
     "base_uri": "https://localhost:8080/",
     "height": 17
    },
    "id": "y33JYrFOUNxx",
    "outputId": "78e647f9-a20d-4558-ba6e-afc6749f9c87"
   },
   "outputs": [],
   "source": [
    "masks_out = 'masks.tif'\n",
    "with tifffile.TiffWriter(masks_out) as stack:\n",
    "  for m in masks:\n",
    "      stack.save(m)\n",
    "\n",
    "try:\n",
    "  from google.colab.files import download\n",
    "  download('masks.tif')\n",
    "except ImportError:\n",
    "  print('Not on Google Colab, won\\'t start download')"
   ]
  }
 ],
 "metadata": {
  "accelerator": "GPU",
  "colab": {
   "collapsed_sections": [],
   "name": "example_pipeline.ipynb",
   "provenance": []
  },
  "kernelspec": {
   "display_name": "Python 3.7 (Reading Fraktur)",
   "language": "python",
   "name": "fraktur"
  },
  "language_info": {
   "codemirror_mode": {
    "name": "ipython",
    "version": 3
   },
   "file_extension": ".py",
   "mimetype": "text/x-python",
   "name": "python",
   "nbconvert_exporter": "python",
   "pygments_lexer": "ipython3",
   "version": "3.7.9"
  },
  "widgets": {
   "application/vnd.jupyter.widget-state+json": {
    "1c2e9c9d147f49aebddce4d16a75d748": {
     "model_module": "@jupyter-widgets/controls",
     "model_name": "FloatProgressModel",
     "state": {
      "_dom_classes": [],
      "_model_module": "@jupyter-widgets/controls",
      "_model_module_version": "1.5.0",
      "_model_name": "FloatProgressModel",
      "_view_count": null,
      "_view_module": "@jupyter-widgets/controls",
      "_view_module_version": "1.5.0",
      "_view_name": "ProgressView",
      "bar_style": "success",
      "description": "100%",
      "description_tooltip": null,
      "layout": "IPY_MODEL_660de464e2d24e559cf4c2be4bc6331b",
      "max": 60,
      "min": 0,
      "orientation": "horizontal",
      "style": "IPY_MODEL_59610f3b7de24e89b3a6041bb85fc1de",
      "value": 60
     }
    },
    "59610f3b7de24e89b3a6041bb85fc1de": {
     "model_module": "@jupyter-widgets/controls",
     "model_name": "ProgressStyleModel",
     "state": {
      "_model_module": "@jupyter-widgets/controls",
      "_model_module_version": "1.5.0",
      "_model_name": "ProgressStyleModel",
      "_view_count": null,
      "_view_module": "@jupyter-widgets/base",
      "_view_module_version": "1.2.0",
      "_view_name": "StyleView",
      "bar_color": null,
      "description_width": "initial"
     }
    },
    "660de464e2d24e559cf4c2be4bc6331b": {
     "model_module": "@jupyter-widgets/base",
     "model_name": "LayoutModel",
     "state": {
      "_model_module": "@jupyter-widgets/base",
      "_model_module_version": "1.2.0",
      "_model_name": "LayoutModel",
      "_view_count": null,
      "_view_module": "@jupyter-widgets/base",
      "_view_module_version": "1.2.0",
      "_view_name": "LayoutView",
      "align_content": null,
      "align_items": null,
      "align_self": null,
      "border": null,
      "bottom": null,
      "display": null,
      "flex": null,
      "flex_flow": null,
      "grid_area": null,
      "grid_auto_columns": null,
      "grid_auto_flow": null,
      "grid_auto_rows": null,
      "grid_column": null,
      "grid_gap": null,
      "grid_row": null,
      "grid_template_areas": null,
      "grid_template_columns": null,
      "grid_template_rows": null,
      "height": null,
      "justify_content": null,
      "justify_items": null,
      "left": null,
      "margin": null,
      "max_height": null,
      "max_width": null,
      "min_height": null,
      "min_width": null,
      "object_fit": null,
      "object_position": null,
      "order": null,
      "overflow": null,
      "overflow_x": null,
      "overflow_y": null,
      "padding": null,
      "right": null,
      "top": null,
      "visibility": null,
      "width": null
     }
    },
    "6cf60fa6fe3642bdb99d41f06114b5e2": {
     "model_module": "@jupyter-widgets/base",
     "model_name": "LayoutModel",
     "state": {
      "_model_module": "@jupyter-widgets/base",
      "_model_module_version": "1.2.0",
      "_model_name": "LayoutModel",
      "_view_count": null,
      "_view_module": "@jupyter-widgets/base",
      "_view_module_version": "1.2.0",
      "_view_name": "LayoutView",
      "align_content": null,
      "align_items": null,
      "align_self": null,
      "border": null,
      "bottom": null,
      "display": null,
      "flex": null,
      "flex_flow": null,
      "grid_area": null,
      "grid_auto_columns": null,
      "grid_auto_flow": null,
      "grid_auto_rows": null,
      "grid_column": null,
      "grid_gap": null,
      "grid_row": null,
      "grid_template_areas": null,
      "grid_template_columns": null,
      "grid_template_rows": null,
      "height": null,
      "justify_content": null,
      "justify_items": null,
      "left": null,
      "margin": null,
      "max_height": null,
      "max_width": null,
      "min_height": null,
      "min_width": null,
      "object_fit": null,
      "object_position": null,
      "order": null,
      "overflow": null,
      "overflow_x": null,
      "overflow_y": null,
      "padding": null,
      "right": null,
      "top": null,
      "visibility": null,
      "width": null
     }
    },
    "7f0fed6ed7184e38a8e613a2d15ada5b": {
     "model_module": "@jupyter-widgets/base",
     "model_name": "LayoutModel",
     "state": {
      "_model_module": "@jupyter-widgets/base",
      "_model_module_version": "1.2.0",
      "_model_name": "LayoutModel",
      "_view_count": null,
      "_view_module": "@jupyter-widgets/base",
      "_view_module_version": "1.2.0",
      "_view_name": "LayoutView",
      "align_content": null,
      "align_items": null,
      "align_self": null,
      "border": null,
      "bottom": null,
      "display": null,
      "flex": null,
      "flex_flow": null,
      "grid_area": null,
      "grid_auto_columns": null,
      "grid_auto_flow": null,
      "grid_auto_rows": null,
      "grid_column": null,
      "grid_gap": null,
      "grid_row": null,
      "grid_template_areas": null,
      "grid_template_columns": null,
      "grid_template_rows": null,
      "height": null,
      "justify_content": null,
      "justify_items": null,
      "left": null,
      "margin": null,
      "max_height": null,
      "max_width": null,
      "min_height": null,
      "min_width": null,
      "object_fit": null,
      "object_position": null,
      "order": null,
      "overflow": null,
      "overflow_x": null,
      "overflow_y": null,
      "padding": null,
      "right": null,
      "top": null,
      "visibility": null,
      "width": null
     }
    },
    "d29632ec0d2c4d0c892f41d6f4d2c6f1": {
     "model_module": "@jupyter-widgets/controls",
     "model_name": "DescriptionStyleModel",
     "state": {
      "_model_module": "@jupyter-widgets/controls",
      "_model_module_version": "1.5.0",
      "_model_name": "DescriptionStyleModel",
      "_view_count": null,
      "_view_module": "@jupyter-widgets/base",
      "_view_module_version": "1.2.0",
      "_view_name": "StyleView",
      "description_width": ""
     }
    },
    "d2c92a2c345c489f908fd7a9da089aff": {
     "model_module": "@jupyter-widgets/controls",
     "model_name": "HBoxModel",
     "state": {
      "_dom_classes": [],
      "_model_module": "@jupyter-widgets/controls",
      "_model_module_version": "1.5.0",
      "_model_name": "HBoxModel",
      "_view_count": null,
      "_view_module": "@jupyter-widgets/controls",
      "_view_module_version": "1.5.0",
      "_view_name": "HBoxView",
      "box_style": "",
      "children": [
       "IPY_MODEL_1c2e9c9d147f49aebddce4d16a75d748",
       "IPY_MODEL_f1a644515e65422591d7e8a5dcacfdfa"
      ],
      "layout": "IPY_MODEL_6cf60fa6fe3642bdb99d41f06114b5e2"
     }
    },
    "f1a644515e65422591d7e8a5dcacfdfa": {
     "model_module": "@jupyter-widgets/controls",
     "model_name": "HTMLModel",
     "state": {
      "_dom_classes": [],
      "_model_module": "@jupyter-widgets/controls",
      "_model_module_version": "1.5.0",
      "_model_name": "HTMLModel",
      "_view_count": null,
      "_view_module": "@jupyter-widgets/controls",
      "_view_module_version": "1.5.0",
      "_view_name": "HTMLView",
      "description": "",
      "description_tooltip": null,
      "layout": "IPY_MODEL_7f0fed6ed7184e38a8e613a2d15ada5b",
      "placeholder": "​",
      "style": "IPY_MODEL_d29632ec0d2c4d0c892f41d6f4d2c6f1",
      "value": " 60/60 [00:19&lt;00:00,  3.02it/s]"
     }
    }
   }
  }
 },
 "nbformat": 4,
 "nbformat_minor": 1
}
