{
  "nbformat": 4,
  "nbformat_minor": 0,
  "metadata": {
    "colab": {
      "name": "create-synthetic-dataset-for-training.ipynb",
      "provenance": [],
      "collapsed_sections": [
        "reFRAHRnEKLe"
      ]
    },
    "kernelspec": {
      "name": "python3",
      "display_name": "Python 3"
    },
    "widgets": {
      "application/vnd.jupyter.widget-state+json": {
        "c5052219aff940de8f25a321dee00798": {
          "model_module": "@jupyter-widgets/controls",
          "model_name": "HBoxModel",
          "state": {
            "_view_name": "HBoxView",
            "_dom_classes": [],
            "_model_name": "HBoxModel",
            "_view_module": "@jupyter-widgets/controls",
            "_model_module_version": "1.5.0",
            "_view_count": null,
            "_view_module_version": "1.5.0",
            "box_style": "",
            "layout": "IPY_MODEL_9ca09290f1d445d58c606147e02685fd",
            "_model_module": "@jupyter-widgets/controls",
            "children": [
              "IPY_MODEL_ad34dda19eb044f384b9755b9d630ace",
              "IPY_MODEL_7b4d6ed56f6c482c8887c86f7a02d285",
              "IPY_MODEL_a81814f1fb284402809ea569999a502c"
            ]
          }
        },
        "9ca09290f1d445d58c606147e02685fd": {
          "model_module": "@jupyter-widgets/base",
          "model_name": "LayoutModel",
          "state": {
            "_view_name": "LayoutView",
            "grid_template_rows": null,
            "right": null,
            "justify_content": null,
            "_view_module": "@jupyter-widgets/base",
            "overflow": null,
            "_model_module_version": "1.2.0",
            "_view_count": null,
            "flex_flow": null,
            "width": null,
            "min_width": null,
            "border": null,
            "align_items": null,
            "bottom": null,
            "_model_module": "@jupyter-widgets/base",
            "top": null,
            "grid_column": null,
            "overflow_y": null,
            "overflow_x": null,
            "grid_auto_flow": null,
            "grid_area": null,
            "grid_template_columns": null,
            "flex": null,
            "_model_name": "LayoutModel",
            "justify_items": null,
            "grid_row": null,
            "max_height": null,
            "align_content": null,
            "visibility": null,
            "align_self": null,
            "height": null,
            "min_height": null,
            "padding": null,
            "grid_auto_rows": null,
            "grid_gap": null,
            "max_width": null,
            "order": null,
            "_view_module_version": "1.2.0",
            "grid_template_areas": null,
            "object_position": null,
            "object_fit": null,
            "grid_auto_columns": null,
            "margin": null,
            "display": null,
            "left": null
          }
        },
        "ad34dda19eb044f384b9755b9d630ace": {
          "model_module": "@jupyter-widgets/controls",
          "model_name": "HTMLModel",
          "state": {
            "_view_name": "HTMLView",
            "style": "IPY_MODEL_15efcc48153444a2bacccc41c13f1e3e",
            "_dom_classes": [],
            "description": "",
            "_model_name": "HTMLModel",
            "placeholder": "​",
            "_view_module": "@jupyter-widgets/controls",
            "_model_module_version": "1.5.0",
            "value": "100%",
            "_view_count": null,
            "_view_module_version": "1.5.0",
            "description_tooltip": null,
            "_model_module": "@jupyter-widgets/controls",
            "layout": "IPY_MODEL_e7cd3c90b21241649a217a8abb28bbf5"
          }
        },
        "7b4d6ed56f6c482c8887c86f7a02d285": {
          "model_module": "@jupyter-widgets/controls",
          "model_name": "FloatProgressModel",
          "state": {
            "_view_name": "ProgressView",
            "style": "IPY_MODEL_cab77c99b41d4049ac154eb0c15fbedd",
            "_dom_classes": [],
            "description": "",
            "_model_name": "FloatProgressModel",
            "bar_style": "success",
            "max": 4,
            "_view_module": "@jupyter-widgets/controls",
            "_model_module_version": "1.5.0",
            "value": 4,
            "_view_count": null,
            "_view_module_version": "1.5.0",
            "orientation": "horizontal",
            "min": 0,
            "description_tooltip": null,
            "_model_module": "@jupyter-widgets/controls",
            "layout": "IPY_MODEL_e73e3d47446f4170a17349424d3d5f76"
          }
        },
        "a81814f1fb284402809ea569999a502c": {
          "model_module": "@jupyter-widgets/controls",
          "model_name": "HTMLModel",
          "state": {
            "_view_name": "HTMLView",
            "style": "IPY_MODEL_896c8d1daac94a689d746d15509c739a",
            "_dom_classes": [],
            "description": "",
            "_model_name": "HTMLModel",
            "placeholder": "​",
            "_view_module": "@jupyter-widgets/controls",
            "_model_module_version": "1.5.0",
            "value": " 4/4 [00:27&lt;00:00,  5.55s/it]",
            "_view_count": null,
            "_view_module_version": "1.5.0",
            "description_tooltip": null,
            "_model_module": "@jupyter-widgets/controls",
            "layout": "IPY_MODEL_275a2cbb0fb9460cba98e0cd98d5d8b4"
          }
        },
        "15efcc48153444a2bacccc41c13f1e3e": {
          "model_module": "@jupyter-widgets/controls",
          "model_name": "DescriptionStyleModel",
          "state": {
            "_view_name": "StyleView",
            "_model_name": "DescriptionStyleModel",
            "description_width": "",
            "_view_module": "@jupyter-widgets/base",
            "_model_module_version": "1.5.0",
            "_view_count": null,
            "_view_module_version": "1.2.0",
            "_model_module": "@jupyter-widgets/controls"
          }
        },
        "e7cd3c90b21241649a217a8abb28bbf5": {
          "model_module": "@jupyter-widgets/base",
          "model_name": "LayoutModel",
          "state": {
            "_view_name": "LayoutView",
            "grid_template_rows": null,
            "right": null,
            "justify_content": null,
            "_view_module": "@jupyter-widgets/base",
            "overflow": null,
            "_model_module_version": "1.2.0",
            "_view_count": null,
            "flex_flow": null,
            "width": null,
            "min_width": null,
            "border": null,
            "align_items": null,
            "bottom": null,
            "_model_module": "@jupyter-widgets/base",
            "top": null,
            "grid_column": null,
            "overflow_y": null,
            "overflow_x": null,
            "grid_auto_flow": null,
            "grid_area": null,
            "grid_template_columns": null,
            "flex": null,
            "_model_name": "LayoutModel",
            "justify_items": null,
            "grid_row": null,
            "max_height": null,
            "align_content": null,
            "visibility": null,
            "align_self": null,
            "height": null,
            "min_height": null,
            "padding": null,
            "grid_auto_rows": null,
            "grid_gap": null,
            "max_width": null,
            "order": null,
            "_view_module_version": "1.2.0",
            "grid_template_areas": null,
            "object_position": null,
            "object_fit": null,
            "grid_auto_columns": null,
            "margin": null,
            "display": null,
            "left": null
          }
        },
        "cab77c99b41d4049ac154eb0c15fbedd": {
          "model_module": "@jupyter-widgets/controls",
          "model_name": "ProgressStyleModel",
          "state": {
            "_view_name": "StyleView",
            "_model_name": "ProgressStyleModel",
            "description_width": "",
            "_view_module": "@jupyter-widgets/base",
            "_model_module_version": "1.5.0",
            "_view_count": null,
            "_view_module_version": "1.2.0",
            "bar_color": null,
            "_model_module": "@jupyter-widgets/controls"
          }
        },
        "e73e3d47446f4170a17349424d3d5f76": {
          "model_module": "@jupyter-widgets/base",
          "model_name": "LayoutModel",
          "state": {
            "_view_name": "LayoutView",
            "grid_template_rows": null,
            "right": null,
            "justify_content": null,
            "_view_module": "@jupyter-widgets/base",
            "overflow": null,
            "_model_module_version": "1.2.0",
            "_view_count": null,
            "flex_flow": null,
            "width": null,
            "min_width": null,
            "border": null,
            "align_items": null,
            "bottom": null,
            "_model_module": "@jupyter-widgets/base",
            "top": null,
            "grid_column": null,
            "overflow_y": null,
            "overflow_x": null,
            "grid_auto_flow": null,
            "grid_area": null,
            "grid_template_columns": null,
            "flex": null,
            "_model_name": "LayoutModel",
            "justify_items": null,
            "grid_row": null,
            "max_height": null,
            "align_content": null,
            "visibility": null,
            "align_self": null,
            "height": null,
            "min_height": null,
            "padding": null,
            "grid_auto_rows": null,
            "grid_gap": null,
            "max_width": null,
            "order": null,
            "_view_module_version": "1.2.0",
            "grid_template_areas": null,
            "object_position": null,
            "object_fit": null,
            "grid_auto_columns": null,
            "margin": null,
            "display": null,
            "left": null
          }
        },
        "896c8d1daac94a689d746d15509c739a": {
          "model_module": "@jupyter-widgets/controls",
          "model_name": "DescriptionStyleModel",
          "state": {
            "_view_name": "StyleView",
            "_model_name": "DescriptionStyleModel",
            "description_width": "",
            "_view_module": "@jupyter-widgets/base",
            "_model_module_version": "1.5.0",
            "_view_count": null,
            "_view_module_version": "1.2.0",
            "_model_module": "@jupyter-widgets/controls"
          }
        },
        "275a2cbb0fb9460cba98e0cd98d5d8b4": {
          "model_module": "@jupyter-widgets/base",
          "model_name": "LayoutModel",
          "state": {
            "_view_name": "LayoutView",
            "grid_template_rows": null,
            "right": null,
            "justify_content": null,
            "_view_module": "@jupyter-widgets/base",
            "overflow": null,
            "_model_module_version": "1.2.0",
            "_view_count": null,
            "flex_flow": null,
            "width": null,
            "min_width": null,
            "border": null,
            "align_items": null,
            "bottom": null,
            "_model_module": "@jupyter-widgets/base",
            "top": null,
            "grid_column": null,
            "overflow_y": null,
            "overflow_x": null,
            "grid_auto_flow": null,
            "grid_area": null,
            "grid_template_columns": null,
            "flex": null,
            "_model_name": "LayoutModel",
            "justify_items": null,
            "grid_row": null,
            "max_height": null,
            "align_content": null,
            "visibility": null,
            "align_self": null,
            "height": null,
            "min_height": null,
            "padding": null,
            "grid_auto_rows": null,
            "grid_gap": null,
            "max_width": null,
            "order": null,
            "_view_module_version": "1.2.0",
            "grid_template_areas": null,
            "object_position": null,
            "object_fit": null,
            "grid_auto_columns": null,
            "margin": null,
            "display": null,
            "left": null
          }
        }
      }
    }
  },
  "cells": [
    {
      "cell_type": "markdown",
      "metadata": {
        "id": "D2-O2CetHCXp"
      },
      "source": [
        "# Create synthetic dataset for training\n",
        "\n",
        "The `create_dataset` creates a split data set for training, validation (or development) and testing. It's not optimized, and takes about 4-5 hours on Google Colab to finished.\n",
        "\n",
        "Please note that evaluation on synthetic validation or test does not report realistic performance, make sure to use real data instead. However, the two performance gaps between performance measured on\n",
        "\n",
        " * synthetic training data,\n",
        " * synthetic validation or test data, and\n",
        " * real test data,\n",
        "\n",
        "denote error due to \n",
        "\n",
        " * overfitting, respectively\n",
        " * suboptimal realism of the synthetic data. \n",
        "\n",
        "If the synthetic test performance is worse than realistic test performance, this would indicate the synthetic data is tougher than the realistic data, for example due to unrealistic variations allowed by synthetic data.\n",
        "\n",
        "This notebook illustrates creating a random data set.\n",
        "\n",
        "This notebook was tested on Google Colab."
      ]
    },
    {
      "cell_type": "code",
      "metadata": {
        "id": "Wt9M__oOHCXs"
      },
      "source": [
        "import numpy\n",
        "import json\n",
        "from google.colab import files\n",
        "\n",
        "# # Install detectron2 based on the installed version of torch,\n",
        "# # we assume torchvision is already installed as is the case on Google Colab.\n",
        "# try:\n",
        "#   import detectron2\n",
        "# except ImportError:\n",
        "#   torch_version, cuda_version = torch.__version__.split('+cu')\n",
        "#   torch_version = '.'.join(torch_version.split('.')[:2])\n",
        "\n",
        "#   !pip3 install -U pyyaml\n",
        "#   !pip3 install detectron2 -f \"https://dl.fbaipublicfiles.com/detectron2/wheels/cu{cuda_version}/torch{torch_version}/index.html\"\n",
        "#   import detectron2\n",
        "\n",
        "# Install the syntheticyeastcells from github if unavailable.\n",
        "# To clear the Box_Mode warning, install detectron2 by uncommenting the\n",
        "# previous statements. Ignoring the warning will unlikely cause issues.\n",
        "# If training detectron2 on this data fails, and the error seems misaligned\n",
        "# labels, then you might experience an issue related to the warning, as the\n",
        "# coordinate system used for the labels might be wrong.\n",
        "try:\n",
        "  from syntheticyeastcells.detectron2 import create_dataset\n",
        "except ImportError:\n",
        "  !test -e synthetic-yeast-cells || git clone https://github.com/prhbrt/synthetic-yeast-cells.git\n",
        "  !cd synthetic-yeast-cells && git pull origin master\n",
        "  !pip3 install ./synthetic-yeast-cells\n",
        "  from syntheticyeastcells.detectron2 import create_dataset\n",
        "try:\n",
        "  import umsgpack\n",
        "except ImportError:\n",
        "  !pip3 install umsgpack\n",
        "  import umsgpack"
      ],
      "execution_count": 11,
      "outputs": []
    },
    {
      "cell_type": "code",
      "metadata": {
        "id": "l-u4A_W2HCXu"
      },
      "source": [
        "# location to store the result\n",
        "version = 'v1'\n",
        "synthetic_data_path = f'/content/synthetic-yeast-cells-{version}/'"
      ],
      "execution_count": 12,
      "outputs": []
    },
    {
      "cell_type": "code",
      "metadata": {
        "id": "oX5GVn5THCXv",
        "outputId": "c96e761c-a83e-411c-b768-7bfac00485f8",
        "colab": {
          "base_uri": "https://localhost:8080/",
          "height": 49,
          "referenced_widgets": [
            "c5052219aff940de8f25a321dee00798",
            "9ca09290f1d445d58c606147e02685fd",
            "ad34dda19eb044f384b9755b9d630ace",
            "7b4d6ed56f6c482c8887c86f7a02d285",
            "a81814f1fb284402809ea569999a502c",
            "15efcc48153444a2bacccc41c13f1e3e",
            "e7cd3c90b21241649a217a8abb28bbf5",
            "cab77c99b41d4049ac154eb0c15fbedd",
            "e73e3d47446f4170a17349424d3d5f76",
            "896c8d1daac94a689d746d15509c739a",
            "275a2cbb0fb9460cba98e0cd98d5d8b4"
          ]
        }
      },
      "source": [
        "labels = create_dataset(\n",
        "  # Where to store the data set\n",
        "  synthetic_data_path,\n",
        "\n",
        "  # sizesof several subsets\n",
        "  # for a quick proof of concept, use the smaller numbers.\n",
        "  # sets={'test': 1000, 'val': 1000, 'train': 20000},\n",
        "  sets={'test': 10, 'val': 10, 'train': 20},\n",
        "\n",
        "  # same parameters as before\n",
        "  n_cells_per_image=100,\n",
        "  size=(512, 512),\n",
        "  min_distance_boundary=50,\n",
        "  r0_range=(2, 14),\n",
        "  r1_factor_range=(0.7, 1.3),\n",
        "  spatial_blur_std=1.5,\n",
        "  background_intensity=0.4,\n",
        "  background_contrast=0.00188,\n",
        "  core_contrast=0.0752,\n",
        "  p_white_outside=0.5,\n",
        "\n",
        "  # number of processes to run in parallel, number of samples created in one batch\n",
        "  njobs=2, batch_size=10,\n",
        "\n",
        "  # show a progressbar\n",
        "  progressbar=True)\n",
        "\n",
        "# with open(f'{synthetic_data_path}/labels.json', 'w') as f:\n",
        "#   json.dump(labels, f)\n",
        "\n",
        "with open(f'{synthetic_data_path}/labels.umsgpack', 'wb') as f:\n",
        "  umsgpack.pack(labels, f, encoding = \"utf-8\")"
      ],
      "execution_count": 13,
      "outputs": [
        {
          "output_type": "display_data",
          "data": {
            "application/vnd.jupyter.widget-view+json": {
              "model_id": "c5052219aff940de8f25a321dee00798",
              "version_minor": 0,
              "version_major": 2
            },
            "text/plain": [
              "  0%|          | 0/4 [00:00<?, ?it/s]"
            ]
          },
          "metadata": {
            "tags": []
          }
        }
      ]
    },
    {
      "cell_type": "markdown",
      "metadata": {
        "id": "l4YwAuxxHCXv"
      },
      "source": [
        "## Result\n",
        "\n",
        "These cells respectively\n",
        " * list the created files, e.g. images and the json with labels,\n",
        " * show an example synthetic image, and\n",
        " * archive the data set to allow downloading.\n",
        "\n",
        "If you download the data set, this allows you to use it to train a model. Alternatively, you can also combine the training notebook with this one to skip downloading a large file."
      ]
    },
    {
      "cell_type": "code",
      "metadata": {
        "id": "1qbywn1XHCXw",
        "outputId": "d10fdd60-d079-43f7-ea5d-b190d790ed8b",
        "colab": {
          "base_uri": "https://localhost:8080/"
        }
      },
      "source": [
        "!ls '{synthetic_data_path}'*"
      ],
      "execution_count": 14,
      "outputs": [
        {
          "output_type": "stream",
          "text": [
            "/content/synthetic-yeast-cells-v1/labels.umsgpack\n",
            "\n",
            "/content/synthetic-yeast-cells-v1/test:\n",
            "image-0.jpg  image-2.jpg  image-4.jpg  image-6.jpg  image-8.jpg\n",
            "image-1.jpg  image-3.jpg  image-5.jpg  image-7.jpg  image-9.jpg\n",
            "\n",
            "/content/synthetic-yeast-cells-v1/train:\n",
            "image-0.jpg   image-13.jpg  image-17.jpg  image-2.jpg  image-6.jpg\n",
            "image-10.jpg  image-14.jpg  image-18.jpg  image-3.jpg  image-7.jpg\n",
            "image-11.jpg  image-15.jpg  image-19.jpg  image-4.jpg  image-8.jpg\n",
            "image-12.jpg  image-16.jpg  image-1.jpg   image-5.jpg  image-9.jpg\n",
            "\n",
            "/content/synthetic-yeast-cells-v1/val:\n",
            "image-0.jpg  image-2.jpg  image-4.jpg  image-6.jpg  image-8.jpg\n",
            "image-1.jpg  image-3.jpg  image-5.jpg  image-7.jpg  image-9.jpg\n"
          ],
          "name": "stdout"
        }
      ]
    },
    {
      "cell_type": "code",
      "metadata": {
        "id": "nhgCEl0KHCXw",
        "outputId": "e8ae3057-b2c6-4a79-ed07-5742101dc806",
        "colab": {
          "base_uri": "https://localhost:8080/",
          "height": 529
        }
      },
      "source": [
        "from IPython.display import Image\n",
        "\n",
        "Image(f\"{synthetic_data_path}/train/image-11.jpg\")"
      ],
      "execution_count": 15,
      "outputs": [
        {
          "output_type": "execute_result",
          "data": {
            "image/jpeg": "[encoded data removed]",
            "text/plain": [
              "<IPython.core.display.Image object>"
            ]
          },
          "metadata": {
            "tags": []
          },
          "execution_count": 15
        }
      ]
    },
    {
      "cell_type": "markdown",
      "metadata": {
        "id": "0fWI45g3HCXx"
      },
      "source": [
        "## Download\n",
        "\n",
        "The resulting file will be around 1.1-1.2 GB, so downloading takes some time. Consider mounting Google Drive and saving it there if you can affort the space."
      ]
    },
    {
      "cell_type": "code",
      "metadata": {
        "id": "MACot9bXHCXx",
        "outputId": "983c1cbb-c353-4df9-ebda-573663df3421",
        "colab": {
          "base_uri": "https://localhost:8080/",
          "height": 765
        }
      },
      "source": [
        "!cd '{synthetic_data_path}' && zip -r \"/content/synthetic-dataset-{version}.zip\" .\n",
        "\n",
        "try:\n",
        "  from google.colab.files import download\n",
        "  download(f\"/content/synthetic-dataset-{version}.zip\")\n",
        "except ImportError:\n",
        "  print('Not on Google Colab, won\\'t start download')"
      ],
      "execution_count": 16,
      "outputs": [
        {
          "output_type": "stream",
          "text": [
            "updating: labels.umsgpack (deflated 83%)\n",
            "updating: test/ (stored 0%)\n",
            "updating: test/image-8.jpg (deflated 2%)\n",
            "updating: test/image-3.jpg (deflated 3%)\n",
            "updating: test/image-0.jpg (deflated 2%)\n",
            "updating: test/image-1.jpg (deflated 3%)\n",
            "updating: test/image-6.jpg (deflated 2%)\n",
            "updating: test/image-2.jpg (deflated 2%)\n",
            "updating: test/image-4.jpg (deflated 3%)\n",
            "updating: test/image-9.jpg (deflated 2%)\n",
            "updating: test/image-5.jpg (deflated 3%)\n",
            "updating: test/image-7.jpg (deflated 3%)\n",
            "updating: train/ (stored 0%)\n",
            "updating: train/image-8.jpg (deflated 2%)\n",
            "updating: train/image-3.jpg (deflated 2%)\n",
            "updating: train/image-0.jpg (deflated 3%)\n",
            "updating: train/image-1.jpg (deflated 2%)\n",
            "updating: train/image-6.jpg (deflated 2%)\n",
            "updating: train/image-13.jpg (deflated 2%)\n",
            "updating: train/image-2.jpg (deflated 2%)\n",
            "updating: train/image-11.jpg (deflated 2%)\n",
            "updating: train/image-16.jpg (deflated 3%)\n",
            "updating: train/image-17.jpg (deflated 2%)\n",
            "updating: train/image-10.jpg (deflated 2%)\n",
            "updating: train/image-14.jpg (deflated 2%)\n",
            "updating: train/image-18.jpg (deflated 2%)\n",
            "updating: train/image-4.jpg (deflated 2%)\n",
            "updating: train/image-19.jpg (deflated 2%)\n",
            "updating: train/image-9.jpg (deflated 2%)\n",
            "updating: train/image-5.jpg (deflated 2%)\n",
            "updating: train/image-15.jpg (deflated 2%)\n",
            "updating: train/image-12.jpg (deflated 2%)\n",
            "updating: train/image-7.jpg (deflated 2%)\n",
            "updating: val/ (stored 0%)\n",
            "updating: val/image-8.jpg (deflated 2%)\n",
            "updating: val/image-3.jpg (deflated 3%)\n",
            "updating: val/image-0.jpg (deflated 2%)\n",
            "updating: val/image-1.jpg (deflated 2%)\n",
            "updating: val/image-6.jpg (deflated 3%)\n",
            "updating: val/image-2.jpg (deflated 2%)\n",
            "updating: val/image-4.jpg (deflated 3%)\n",
            "updating: val/image-9.jpg (deflated 3%)\n",
            "updating: val/image-5.jpg (deflated 2%)\n",
            "updating: val/image-7.jpg (deflated 3%)\n"
          ],
          "name": "stdout"
        },
        {
          "output_type": "display_data",
          "data": {
            "application/javascript": [
              "\n",
              "    async function download(id, filename, size) {\n",
              "      if (!google.colab.kernel.accessAllowed) {\n",
              "        return;\n",
              "      }\n",
              "      const div = document.createElement('div');\n",
              "      const label = document.createElement('label');\n",
              "      label.textContent = `Downloading \"${filename}\": `;\n",
              "      div.appendChild(label);\n",
              "      const progress = document.createElement('progress');\n",
              "      progress.max = size;\n",
              "      div.appendChild(progress);\n",
              "      document.body.appendChild(div);\n",
              "\n",
              "      const buffers = [];\n",
              "      let downloaded = 0;\n",
              "\n",
              "      const channel = await google.colab.kernel.comms.open(id);\n",
              "      // Send a message to notify the kernel that we're ready.\n",
              "      channel.send({})\n",
              "\n",
              "      for await (const message of channel.messages) {\n",
              "        // Send a message to notify the kernel that we're ready.\n",
              "        channel.send({})\n",
              "        if (message.buffers) {\n",
              "          for (const buffer of message.buffers) {\n",
              "            buffers.push(buffer);\n",
              "            downloaded += buffer.byteLength;\n",
              "            progress.value = downloaded;\n",
              "          }\n",
              "        }\n",
              "      }\n",
              "      const blob = new Blob(buffers, {type: 'application/binary'});\n",
              "      const a = document.createElement('a');\n",
              "      a.href = window.URL.createObjectURL(blob);\n",
              "      a.download = filename;\n",
              "      div.appendChild(a);\n",
              "      a.click();\n",
              "      div.remove();\n",
              "    }\n",
              "  "
            ],
            "text/plain": [
              "<IPython.core.display.Javascript object>"
            ]
          },
          "metadata": {
            "tags": []
          }
        },
        {
          "output_type": "display_data",
          "data": {
            "application/javascript": [
              "download(\"download_3dec5759-ae39-41bb-a4ea-dc296b55ce31\", \"synthetic-dataset-v1.zip\", 2125597)"
            ],
            "text/plain": [
              "<IPython.core.display.Javascript object>"
            ]
          },
          "metadata": {
            "tags": []
          }
        }
      ]
    }
  ]
}