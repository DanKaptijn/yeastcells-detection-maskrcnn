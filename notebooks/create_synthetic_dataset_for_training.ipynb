{
  "nbformat": 4,
  "nbformat_minor": 0,
  "metadata": {
    "colab": {
      "name": "create-synthetic-dataset-for-training.ipynb",
      "provenance": [],
      "collapsed_sections": [
        "reFRAHRnEKLe"
      ]
    },
    "kernelspec": {
      "name": "python3",
      "display_name": "Python 3"
    },
    "widgets": {
      "application/vnd.jupyter.widget-state+json": {
        "3a699cd1d7464b3e8d33a42ccd190d5f": {
          "model_module": "@jupyter-widgets/controls",
          "model_name": "HBoxModel",
          "state": {
            "_view_name": "HBoxView",
            "_dom_classes": [],
            "_model_name": "HBoxModel",
            "_view_module": "@jupyter-widgets/controls",
            "_model_module_version": "1.5.0",
            "_view_count": null,
            "_view_module_version": "1.5.0",
            "box_style": "",
            "layout": "IPY_MODEL_da356069ec0c44e78cfe67194f57727b",
            "_model_module": "@jupyter-widgets/controls",
            "children": [
              "IPY_MODEL_e9504ddcd84a40c1a2e8f99bce1c4faf",
              "IPY_MODEL_c672f749ce024035b1fce1501dd9d113",
              "IPY_MODEL_ac62c97264f24ff6b508b2c36b5053b8"
            ]
          }
        },
        "da356069ec0c44e78cfe67194f57727b": {
          "model_module": "@jupyter-widgets/base",
          "model_name": "LayoutModel",
          "state": {
            "_view_name": "LayoutView",
            "grid_template_rows": null,
            "right": null,
            "justify_content": null,
            "_view_module": "@jupyter-widgets/base",
            "overflow": null,
            "_model_module_version": "1.2.0",
            "_view_count": null,
            "flex_flow": null,
            "width": null,
            "min_width": null,
            "border": null,
            "align_items": null,
            "bottom": null,
            "_model_module": "@jupyter-widgets/base",
            "top": null,
            "grid_column": null,
            "overflow_y": null,
            "overflow_x": null,
            "grid_auto_flow": null,
            "grid_area": null,
            "grid_template_columns": null,
            "flex": null,
            "_model_name": "LayoutModel",
            "justify_items": null,
            "grid_row": null,
            "max_height": null,
            "align_content": null,
            "visibility": null,
            "align_self": null,
            "height": null,
            "min_height": null,
            "padding": null,
            "grid_auto_rows": null,
            "grid_gap": null,
            "max_width": null,
            "order": null,
            "_view_module_version": "1.2.0",
            "grid_template_areas": null,
            "object_position": null,
            "object_fit": null,
            "grid_auto_columns": null,
            "margin": null,
            "display": null,
            "left": null
          }
        },
        "e9504ddcd84a40c1a2e8f99bce1c4faf": {
          "model_module": "@jupyter-widgets/controls",
          "model_name": "HTMLModel",
          "state": {
            "_view_name": "HTMLView",
            "style": "IPY_MODEL_a4ef2d40e9ac48f2b19a083b50842b25",
            "_dom_classes": [],
            "description": "",
            "_model_name": "HTMLModel",
            "placeholder": "​",
            "_view_module": "@jupyter-widgets/controls",
            "_model_module_version": "1.5.0",
            "value": "100%",
            "_view_count": null,
            "_view_module_version": "1.5.0",
            "description_tooltip": null,
            "_model_module": "@jupyter-widgets/controls",
            "layout": "IPY_MODEL_5220b101ad304c02a8052cfcbca30801"
          }
        },
        "c672f749ce024035b1fce1501dd9d113": {
          "model_module": "@jupyter-widgets/controls",
          "model_name": "FloatProgressModel",
          "state": {
            "_view_name": "ProgressView",
            "style": "IPY_MODEL_22f7b502b864431d879be6f2b4d9fae8",
            "_dom_classes": [],
            "description": "",
            "_model_name": "FloatProgressModel",
            "bar_style": "success",
            "max": 2200,
            "_view_module": "@jupyter-widgets/controls",
            "_model_module_version": "1.5.0",
            "value": 2200,
            "_view_count": null,
            "_view_module_version": "1.5.0",
            "orientation": "horizontal",
            "min": 0,
            "description_tooltip": null,
            "_model_module": "@jupyter-widgets/controls",
            "layout": "IPY_MODEL_e11e1068b77b4813806cd3198aa81e0a"
          }
        },
        "ac62c97264f24ff6b508b2c36b5053b8": {
          "model_module": "@jupyter-widgets/controls",
          "model_name": "HTMLModel",
          "state": {
            "_view_name": "HTMLView",
            "style": "IPY_MODEL_13ec5e86f8414d1887db2325324a8b18",
            "_dom_classes": [],
            "description": "",
            "_model_name": "HTMLModel",
            "placeholder": "​",
            "_view_module": "@jupyter-widgets/controls",
            "_model_module_version": "1.5.0",
            "value": " 2200/2200 [4:25:53&lt;00:00,  7.41s/it]",
            "_view_count": null,
            "_view_module_version": "1.5.0",
            "description_tooltip": null,
            "_model_module": "@jupyter-widgets/controls",
            "layout": "IPY_MODEL_a3c666b1c4f64b43bdafbd91a2ccfdea"
          }
        },
        "a4ef2d40e9ac48f2b19a083b50842b25": {
          "model_module": "@jupyter-widgets/controls",
          "model_name": "DescriptionStyleModel",
          "state": {
            "_view_name": "StyleView",
            "_model_name": "DescriptionStyleModel",
            "description_width": "",
            "_view_module": "@jupyter-widgets/base",
            "_model_module_version": "1.5.0",
            "_view_count": null,
            "_view_module_version": "1.2.0",
            "_model_module": "@jupyter-widgets/controls"
          }
        },
        "5220b101ad304c02a8052cfcbca30801": {
          "model_module": "@jupyter-widgets/base",
          "model_name": "LayoutModel",
          "state": {
            "_view_name": "LayoutView",
            "grid_template_rows": null,
            "right": null,
            "justify_content": null,
            "_view_module": "@jupyter-widgets/base",
            "overflow": null,
            "_model_module_version": "1.2.0",
            "_view_count": null,
            "flex_flow": null,
            "width": null,
            "min_width": null,
            "border": null,
            "align_items": null,
            "bottom": null,
            "_model_module": "@jupyter-widgets/base",
            "top": null,
            "grid_column": null,
            "overflow_y": null,
            "overflow_x": null,
            "grid_auto_flow": null,
            "grid_area": null,
            "grid_template_columns": null,
            "flex": null,
            "_model_name": "LayoutModel",
            "justify_items": null,
            "grid_row": null,
            "max_height": null,
            "align_content": null,
            "visibility": null,
            "align_self": null,
            "height": null,
            "min_height": null,
            "padding": null,
            "grid_auto_rows": null,
            "grid_gap": null,
            "max_width": null,
            "order": null,
            "_view_module_version": "1.2.0",
            "grid_template_areas": null,
            "object_position": null,
            "object_fit": null,
            "grid_auto_columns": null,
            "margin": null,
            "display": null,
            "left": null
          }
        },
        "22f7b502b864431d879be6f2b4d9fae8": {
          "model_module": "@jupyter-widgets/controls",
          "model_name": "ProgressStyleModel",
          "state": {
            "_view_name": "StyleView",
            "_model_name": "ProgressStyleModel",
            "description_width": "",
            "_view_module": "@jupyter-widgets/base",
            "_model_module_version": "1.5.0",
            "_view_count": null,
            "_view_module_version": "1.2.0",
            "bar_color": null,
            "_model_module": "@jupyter-widgets/controls"
          }
        },
        "e11e1068b77b4813806cd3198aa81e0a": {
          "model_module": "@jupyter-widgets/base",
          "model_name": "LayoutModel",
          "state": {
            "_view_name": "LayoutView",
            "grid_template_rows": null,
            "right": null,
            "justify_content": null,
            "_view_module": "@jupyter-widgets/base",
            "overflow": null,
            "_model_module_version": "1.2.0",
            "_view_count": null,
            "flex_flow": null,
            "width": null,
            "min_width": null,
            "border": null,
            "align_items": null,
            "bottom": null,
            "_model_module": "@jupyter-widgets/base",
            "top": null,
            "grid_column": null,
            "overflow_y": null,
            "overflow_x": null,
            "grid_auto_flow": null,
            "grid_area": null,
            "grid_template_columns": null,
            "flex": null,
            "_model_name": "LayoutModel",
            "justify_items": null,
            "grid_row": null,
            "max_height": null,
            "align_content": null,
            "visibility": null,
            "align_self": null,
            "height": null,
            "min_height": null,
            "padding": null,
            "grid_auto_rows": null,
            "grid_gap": null,
            "max_width": null,
            "order": null,
            "_view_module_version": "1.2.0",
            "grid_template_areas": null,
            "object_position": null,
            "object_fit": null,
            "grid_auto_columns": null,
            "margin": null,
            "display": null,
            "left": null
          }
        },
        "13ec5e86f8414d1887db2325324a8b18": {
          "model_module": "@jupyter-widgets/controls",
          "model_name": "DescriptionStyleModel",
          "state": {
            "_view_name": "StyleView",
            "_model_name": "DescriptionStyleModel",
            "description_width": "",
            "_view_module": "@jupyter-widgets/base",
            "_model_module_version": "1.5.0",
            "_view_count": null,
            "_view_module_version": "1.2.0",
            "_model_module": "@jupyter-widgets/controls"
          }
        },
        "a3c666b1c4f64b43bdafbd91a2ccfdea": {
          "model_module": "@jupyter-widgets/base",
          "model_name": "LayoutModel",
          "state": {
            "_view_name": "LayoutView",
            "grid_template_rows": null,
            "right": null,
            "justify_content": null,
            "_view_module": "@jupyter-widgets/base",
            "overflow": null,
            "_model_module_version": "1.2.0",
            "_view_count": null,
            "flex_flow": null,
            "width": null,
            "min_width": null,
            "border": null,
            "align_items": null,
            "bottom": null,
            "_model_module": "@jupyter-widgets/base",
            "top": null,
            "grid_column": null,
            "overflow_y": null,
            "overflow_x": null,
            "grid_auto_flow": null,
            "grid_area": null,
            "grid_template_columns": null,
            "flex": null,
            "_model_name": "LayoutModel",
            "justify_items": null,
            "grid_row": null,
            "max_height": null,
            "align_content": null,
            "visibility": null,
            "align_self": null,
            "height": null,
            "min_height": null,
            "padding": null,
            "grid_auto_rows": null,
            "grid_gap": null,
            "max_width": null,
            "order": null,
            "_view_module_version": "1.2.0",
            "grid_template_areas": null,
            "object_position": null,
            "object_fit": null,
            "grid_auto_columns": null,
            "margin": null,
            "display": null,
            "left": null
          }
        }
      }
    }
  },
  "cells": [
    {
      "cell_type": "markdown",
      "metadata": {
      },
      "source": [
        "# Create synthetic dataset for training\n",
        "\n",
        "The `create_dataset` creates a split data set for training, validation (or development) and testing. It's not optimized, and takes about 4-5 hours on Google Colab to finished.\n",
        "\n",
        "Please note that evaluation on synthetic validation or test does not report realistic performance, make sure to use real data instead. However, the two performance gaps between performance measured on\n",
        "\n",
        " * synthetic training data,\n",
        " * synthetic validation or test data, and\n",
        " * real test data,\n",
        "\n",
        "denote error due to \n",
        "\n",
        " * overfitting, respectively\n",
        " * suboptimal realism of the synthetic data. \n",
        "\n",
        "If the synthetic test performance is worse than realistic test performance, this would indicate the synthetic data is tougher than the realistic data, for example due to unrealistic variations allowed by synthetic data.\n",
        "\n",
        "This notebook illustrates creating a random data set.\n",
        "\n",
        "This notebook was tested on Google Colab."
      ]
    },
    {
      "cell_type": "code",
      "metadata": {
      },
      "source": [
        "import numpy\n",
        "import json\n",
        "from google.colab import files\n",
        "\n",
        "# # Install detectron2 based on the installed version of torch,\n",
        "# # we assume torchvision is already installed as is the case on Google Colab.\n",
        "# try:\n",
        "#   import detectron2\n",
        "# except ImportError:\n",
        "#   torch_version, cuda_version = torch.__version__.split('+cu')\n",
        "#   torch_version = '.'.join(torch_version.split('.')[:2])\n",
        "\n",
        "#   !pip3 install -U pyyaml\n",
        "#   !pip3 install detectron2 -f \"https://dl.fbaipublicfiles.com/detectron2/wheels/cu{cuda_version}/torch{torch_version}/index.html\"\n",
        "#   import detectron2\n",
        "\n",
        "# Install the syntheticyeastcells from github if unavailable.\n",
        "# To clear the Box_Mode warning, install detectron2 by uncommenting the\n",
        "# previous statements. Ignoring the warning will unlikely cause issues.\n",
        "# If training detectron2 on this data fails, and the error seems misaligned\n",
        "# labels, then you might experience an issue related to the warning, as the\n",
        "# coordinate system used for the labels might be wrong.\n",
        "try:\n",
        "  from syntheticyeastcells.detectron2 import create_dataset\n",
        "except ImportError:\n",
        "  !test -e synthetic-yeast-cells || git clone https://4ac6820a34a48a257418332f2261890b1218b9d3@github.com/prhbrt/synthetic-yeast-cells.git\n",
        "  !cd synthetic-yeast-cells && git pull origin master\n",
        "  !pip3 install ./synthetic-yeast-cells\n",
        "  from syntheticyeastcells.detectron2 import create_dataset\n",
        "try:\n",
        "  import umsgpack\n",
        "except ImportError:\n",
        "  !pip3 install umsgpack\n",
        "  import umsgpack"
      ],
      "execution_count": 17,
      "outputs": [
        {
          "output_type": "stream",
          "text": [
            "Collecting umsgpack\n",
            "  Downloading https://files.pythonhosted.org/packages/df/7a/04f2c64ea124bd290e9d9867853a215ca8f7773b6b8e15332b2f563c1408/umsgpack-0.1.0-py2.py3-none-any.whl\n",
            "Collecting msgpack-python\n",
            "\u001b[?25l  Downloading https://files.pythonhosted.org/packages/8a/20/6eca772d1a5830336f84aca1d8198e5a3f4715cd1c7fc36d3cc7f7185091/msgpack-python-0.5.6.tar.gz (138kB)\n",
            "\u001b[K     |████████████████████████████████| 143kB 4.2MB/s \n",
            "\u001b[?25hBuilding wheels for collected packages: msgpack-python\n",
            "  Building wheel for msgpack-python (setup.py) ... \u001b[?25l\u001b[?25hdone\n",
            "  Created wheel for msgpack-python: filename=msgpack_python-0.5.6-cp37-cp37m-linux_x86_64.whl size=305475 sha256=7413868c0dbabeb1fd126550b77616c1973f18679ffe78ae7d11b2a3562a843f\n",
            "  Stored in directory: /root/.cache/pip/wheels/d5/de/86/7fa56fda12511be47ea0808f3502bc879df4e63ab168ec0406\n",
            "Successfully built msgpack-python\n",
            "Installing collected packages: msgpack-python, umsgpack\n",
            "Successfully installed msgpack-python-0.5.6 umsgpack-0.1.0\n"
          ],
          "name": "stdout"
        }
      ]
    },
    {
      "cell_type": "code",
      "metadata": {
      },
      "source": [
        "# location to store the result\n",
        "version = 'v1'\n",
        "synthetic_data_path = f'/content/synthetic-yeast-cells-{version}/'"
      ],
      "execution_count": 2,
      "outputs": []
    },
    {
      "cell_type": "code",
      "metadata": {
      },
      "source": [
        "labels = create_dataset(\n",
        "  # Where to store the data set\n",
        "  synthetic_data_path,\n",
        "\n",
        "  # sizesof several subsets\n",
        "  # for a quick proof of concept, use the smaller numbers.\n",
        "  sets={'test': 1000, 'val': 1000, 'train': 20000},\n",
        "  # sets={'test': 10, 'val': 10, 'train': 20},\n",
        "\n",
        "  # same parameters as before\n",
        "  n_cells_per_image=100,\n",
        "  size=(512, 512),\n",
        "  min_distance_boundary=50,\n",
        "  r0_range=(2, 14),\n",
        "  r1_factor_range=(0.7, 1.3),\n",
        "  spatial_blur_std=1.5,\n",
        "  background_intensity=0.4,\n",
        "  background_contrast=0.00188,\n",
        "  core_contrast=0.0752,\n",
        "  p_white_outside=0.5,\n",
        "\n",
        "  # number of processes to run in parallel, number of samples created in one batch\n",
        "  njobs=2, batch_size=10,\n",
        "\n",
        "  # show a progressbar\n",
        "  progressbar=True)\n",
        "\n",
        "# with open(f'{synthetic_data_path}/labels.json', 'w') as f:\n",
        "#   json.dump(labels, f)\n",
        "\n",
        "with open(f'{synthetic_data_path}/labels.umsgpack', 'wb') as f:\n",
        "  umsgpack.pack(labels, f, encoding = \"utf-8\")"
      ],
      "execution_count": 3,
      "outputs": [
        {
          "output_type": "display_data",
          "data": {
            "application/vnd.jupyter.widget-view+json": {
              "model_id": "3a699cd1d7464b3e8d33a42ccd190d5f",
              "version_major": 2,
              "version_minor": 0
            },
            "text/plain": [
              "  0%|          | 0/2200 [00:00<?, ?it/s]"
            ]
          },
          "metadata": {
            "tags": []
          }
        }
      ]
    },
    {
      "cell_type": "markdown",
      "metadata": {
        "id": "reFRAHRnEKLe"
      },
      "source": [
        "## Result\n",
        "\n",
        "These cells respectively\n",
        " * list the created files, e.g. images and the json with labels,\n",
        " * show an example synthetic image, and\n",
        " * archive the data set to allow downloading.\n",
        "\n",
        "If you download the data set, this allows you to use it to train a model. Alternatively, you can also combine the training notebook with this one to skip downloading a large file."
      ]
    },
    {
      "cell_type": "code",
      "metadata": {
        "id": "d-R0uNNbv8dg",
        "colab": {
          "base_uri": "https://localhost:8080/"
        },
        "outputId": "aad3ff1d-f28b-41de-cad8-3440be51e386"
      },
      "source": [
        "!ls '{synthetic_data_path}'*"
      ],
      "execution_count": 19,
      "outputs": [
        {
          "output_type": "stream",
          "text": [
            ".. Manually removed lines ...\n",
            "\n",
            "/content/synthetic-yeast-cells-v1/val:\n",
            "image-0.jpg    image-280.jpg  image-460.jpg  image-640.jpg  image-820.jpg\n",
            "image-100.jpg  image-281.jpg  image-461.jpg  image-641.jpg  image-821.jpg\n",
            ".. Manually removed lines ...\n",
            "image-27.jpg   image-45.jpg   image-63.jpg   image-81.jpg   image-9.jpg\n"
          ],
          "name": "stdout"
        }
      ]
    },
    {
      "cell_type": "code",
      "metadata": {
      },
      "source": [
        "from IPython.display import Image\n",
        "\n",
        "Image(f\"{synthetic_data_path}/train/image-11.jpg\")"
      ],
      "execution_count": 20,
      "outputs": [
        {
          "output_type": "execute_result",
          "data": {
            "image/jpeg": "[encoded data removed]",
            "text/plain": [
              "<IPython.core.display.Image object>"
            ]
          },
          "metadata": {
            "tags": []
          },
          "execution_count": 20
        }
      ]
    },
    {
      "cell_type": "code",
      "metadata": {
      },
      "source": [
        "!ls '{synthetic_data_path}'"
      ],
      "execution_count": 23,
      "outputs": [
        {
          "output_type": "stream",
          "text": [
            "labels.umsgpack  test  train  val\n"
          ],
          "name": "stdout"
        }
      ]
    },
    {
      "cell_type": "markdown",
      "metadata": {
      },
      "source": [
        "## Download\n",
        "\n",
        "The resulting file will be around 1.1-1.2 GB, so downloading takes some time. Consider mounting Google Drive and saving it there if you can affort the space."
      ]
    },
    {
      "cell_type": "code",
      "metadata": {
      },
      "source": [
        "!cd '{synthetic_data_path}' && zip -r \"/content/synthetic-dataset-{version}.zip\" ."
      ],
      "execution_count": null,
      "outputs": []
    },
    {
      "cell_type": "code",
      "metadata": {
      },
      "source": [
        "files.download(f\"/content/synthetic-dataset-{version}.zip\")"
      ],
      "execution_count": 26,
      "outputs": [
        {
          "output_type": "display_data",
          "data": {
            "application/javascript": [
              "\n",
              "    async function download(id, filename, size) {\n",
              "      if (!google.colab.kernel.accessAllowed) {\n",
              "        return;\n",
              "      }\n",
              "      const div = document.createElement('div');\n",
              "      const label = document.createElement('label');\n",
              "      label.textContent = `Downloading \"${filename}\": `;\n",
              "      div.appendChild(label);\n",
              "      const progress = document.createElement('progress');\n",
              "      progress.max = size;\n",
              "      div.appendChild(progress);\n",
              "      document.body.appendChild(div);\n",
              "\n",
              "      const buffers = [];\n",
              "      let downloaded = 0;\n",
              "\n",
              "      const channel = await google.colab.kernel.comms.open(id);\n",
              "      // Send a message to notify the kernel that we're ready.\n",
              "      channel.send({})\n",
              "\n",
              "      for await (const message of channel.messages) {\n",
              "        // Send a message to notify the kernel that we're ready.\n",
              "        channel.send({})\n",
              "        if (message.buffers) {\n",
              "          for (const buffer of message.buffers) {\n",
              "            buffers.push(buffer);\n",
              "            downloaded += buffer.byteLength;\n",
              "            progress.value = downloaded;\n",
              "          }\n",
              "        }\n",
              "      }\n",
              "      const blob = new Blob(buffers, {type: 'application/binary'});\n",
              "      const a = document.createElement('a');\n",
              "      a.href = window.URL.createObjectURL(blob);\n",
              "      a.download = filename;\n",
              "      div.appendChild(a);\n",
              "      a.click();\n",
              "      div.remove();\n",
              "    }\n",
              "  "
            ],
            "text/plain": [
              "<IPython.core.display.Javascript object>"
            ]
          },
          "metadata": {
            "tags": []
          }
        },
        {
          "output_type": "display_data",
          "data": {
            "application/javascript": [
              "download(\"download_cb419ae1-9ff0-44ae-a682-6ed819f9d8f6\", \"synthetic-dataset-v1.zip\", 1156952058)"
            ],
            "text/plain": [
              "<IPython.core.display.Javascript object>"
            ]
          },
          "metadata": {
            "tags": []
          }
        }
      ]
    }
  ]
}
