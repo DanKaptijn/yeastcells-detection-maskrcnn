{
 "cells": [
  {
   "cell_type": "markdown",
   "metadata": {
    "id": "D2-O2CetHCXp"
   },
   "source": [
    "# Create synthetic dataset for training\n",
    "\n",
    "The `create_dataset` creates a split data set for training, validation (or development) and testing. It's not optimized, and takes about 4-5 hours on Google Colab to finished.\n",
    "\n",
    "Please note that evaluation on synthetic validation or test does not report realistic performance, make sure to use real data instead. However, the two performance gaps between performance measured on\n",
    "\n",
    " * synthetic training data,\n",
    " * synthetic validation or test data, and\n",
    " * real test data,\n",
    "\n",
    "denote error due to \n",
    "\n",
    " * overfitting, respectively\n",
    " * suboptimal realism of the synthetic data. \n",
    "\n",
    "If the synthetic test performance is worse than realistic test performance, this would indicate the synthetic data is tougher than the realistic data, for example due to unrealistic variations allowed by synthetic data.\n",
    "\n",
    "This notebook illustrates creating a random data set.\n",
    "\n",
    "This notebook was tested on Google Colab."
   ]
  },
  {
   "cell_type": "code",
   "execution_count": 1,
   "metadata": {
    "id": "Wt9M__oOHCXs"
   },
   "outputs": [],
   "source": [
    "import numpy\n",
    "import json\n",
    "\n",
    "# # Install detectron2 based on the installed version of torch,\n",
    "# # we assume torchvision is already installed as is the case on Google Colab.\n",
    "# try:\n",
    "#   import detectron2\n",
    "# except ImportError:\n",
    "#   torch_version, cuda_version = torch.__version__.split('+cu')\n",
    "#   torch_version = '.'.join(torch_version.split('.')[:2])\n",
    "\n",
    "#   !pip3 install -U pyyaml\n",
    "#   !pip3 install detectron2 -f \"https://dl.fbaipublicfiles.com/detectron2/wheels/cu{cuda_version}/torch{torch_version}/index.html\"\n",
    "#   import detectron2\n",
    "\n",
    "# Install the syntheticyeastcells from github if unavailable.\n",
    "# To clear the Box_Mode warning, install detectron2 by uncommenting the\n",
    "# previous statements. Ignoring the warning will unlikely cause issues.\n",
    "# If training detectron2 on this data fails, and the error seems misaligned\n",
    "# labels, then you might experience an issue related to the warning, as the\n",
    "# coordinate system used for the labels might be wrong.\n",
    "try:\n",
    "  from syntheticyeastcells.detectron2 import create_dataset\n",
    "except ImportError:\n",
    "  !pip3 install git+https://github.com/prhbrt/synthetic-yeast-cells.git\n",
    "  from syntheticyeastcells.detectron2 import create_dataset\n",
    "\n",
    "try:\n",
    "  import umsgpack\n",
    "except ImportError:\n",
    "  !pip3 install umsgpack\n",
    "  import umsgpack"
   ]
  },
  {
   "cell_type": "code",
   "execution_count": 10,
   "metadata": {
    "id": "l-u4A_W2HCXu"
   },
   "outputs": [],
   "source": [
    "# location to store the result\n",
    "version = 'v1'\n",
    "synthetic_data_path = f'/content/synthetic-yeast-cells-{version}/'"
   ]
  },
  {
   "cell_type": "code",
   "execution_count": 15,
   "metadata": {
    "colab": {
     "base_uri": "https://localhost:8080/",
     "height": 49,
     "referenced_widgets": [
      "c5052219aff940de8f25a321dee00798",
      "9ca09290f1d445d58c606147e02685fd",
      "ad34dda19eb044f384b9755b9d630ace",
      "7b4d6ed56f6c482c8887c86f7a02d285",
      "a81814f1fb284402809ea569999a502c",
      "15efcc48153444a2bacccc41c13f1e3e",
      "e7cd3c90b21241649a217a8abb28bbf5",
      "cab77c99b41d4049ac154eb0c15fbedd",
      "e73e3d47446f4170a17349424d3d5f76",
      "896c8d1daac94a689d746d15509c739a",
      "275a2cbb0fb9460cba98e0cd98d5d8b4"
     ]
    },
    "id": "oX5GVn5THCXv",
    "outputId": "c96e761c-a83e-411c-b768-7bfac00485f8"
   },
   "outputs": [
    {
     "data": {
      "application/vnd.jupyter.widget-view+json": {
       "model_id": "1101b5dcc1314199b0646645a573145f",
       "version_major": 2,
       "version_minor": 0
      },
      "text/plain": [
       "  0%|          | 0/4 [00:00<?, ?it/s]"
      ]
     },
     "metadata": {},
     "output_type": "display_data"
    }
   ],
   "source": [
    "labels = create_dataset(\n",
    "  # Where to store the data set\n",
    "  synthetic_data_path,\n",
    "\n",
    "  # sizesof several subsets\n",
    "  # for a quick proof of concept, use the smaller numbers.\n",
    "#   sets={'test': 1000, 'val': 1000, 'train': 20000},\n",
    "  sets={'test': 10, 'val': 10, 'train': 20},\n",
    "\n",
    "  # same parameters as before\n",
    "  n_cells_per_image=300,\n",
    "  size=(512, 512),\n",
    "  min_distance_boundary=50,\n",
    "  r0_range=(2, 14),\n",
    "  r1_factor_range=(0.7, 1.3),\n",
    "  spatial_blur_std=1.5,\n",
    "  background_intensity=0.4,\n",
    "  background_contrast=0.00188,\n",
    "  core_contrast=0.0752,\n",
    "  p_white_outside=0.5,\n",
    "\n",
    "  # number of processes to run in parallel, number of samples created in one batch\n",
    "  njobs=40, batch_size=10,\n",
    "\n",
    "  # show a progressbar\n",
    "  progressbar=True)\n",
    "\n",
    "# with open(f'{synthetic_data_path}/labels.json', 'w') as f:\n",
    "#   json.dump(labels, f)\n",
    "\n",
    "with open(f'{synthetic_data_path}/labels.umsgpack', 'wb') as f:\n",
    "  umsgpack.pack(labels, f, encoding = \"utf-8\")"
   ]
  },
  {
   "cell_type": "markdown",
   "metadata": {
    "id": "l4YwAuxxHCXv"
   },
   "source": [
    "## Result\n",
    "\n",
    "These cells respectively\n",
    " * list the created files, e.g. images and the json with labels,\n",
    " * show an example synthetic image, and\n",
    " * archive the data set to allow downloading.\n",
    "\n",
    "If you download the data set, this allows you to use it to train a model. Alternatively, you can also combine the training notebook with this one to skip downloading a large file."
   ]
  },
  {
   "cell_type": "code",
   "execution_count": 16,
   "metadata": {
    "colab": {
     "base_uri": "https://localhost:8080/"
    },
    "id": "1qbywn1XHCXw",
    "outputId": "d10fdd60-d079-43f7-ea5d-b190d790ed8b"
   },
   "outputs": [
    {
     "name": "stdout",
     "output_type": "stream",
     "text": [
      "/slow-data/yeastcells/data/synthetic/v11/labels.umsgpack\r\n",
      "\r\n",
      "/slow-data/yeastcells/data/synthetic/v11/test:\r\n",
      "image-0.jpg  image-2.jpg  image-4.jpg  image-6.jpg  image-8.jpg\r\n",
      "image-1.jpg  image-3.jpg  image-5.jpg  image-7.jpg  image-9.jpg\r\n",
      "\r\n",
      "/slow-data/yeastcells/data/synthetic/v11/train:\r\n",
      "image-0.jpg   image-13.jpg  image-17.jpg  image-2.jpg  image-6.jpg\r\n",
      "image-10.jpg  image-14.jpg  image-18.jpg  image-3.jpg  image-7.jpg\r\n",
      "image-11.jpg  image-15.jpg  image-19.jpg  image-4.jpg  image-8.jpg\r\n",
      "image-12.jpg  image-16.jpg  image-1.jpg   image-5.jpg  image-9.jpg\r\n",
      "\r\n",
      "/slow-data/yeastcells/data/synthetic/v11/val:\r\n",
      "image-0.jpg  image-2.jpg  image-4.jpg  image-6.jpg  image-8.jpg\r\n",
      "image-1.jpg  image-3.jpg  image-5.jpg  image-7.jpg  image-9.jpg\r\n"
     ]
    }
   ],
   "source": [
    "!ls '{synthetic_data_path}'*"
   ]
  },
  {
   "cell_type": "code",
   "execution_count": 17,
   "metadata": {
    "colab": {
     "base_uri": "https://localhost:8080/",
     "height": 529
    },
    "id": "nhgCEl0KHCXw",
    "outputId": "e8ae3057-b2c6-4a79-ed07-5742101dc806"
   },
   "outputs": [
    {
     "data": {
      "image/jpeg": "[encoded data removed]",
      "text/plain": [
       "<IPython.core.display.Image object>"
      ]
     },
     "execution_count": 17,
     "metadata": {},
     "output_type": "execute_result"
    }
   ],
   "source": [
    "from IPython.display import Image\n",
    "\n",
    "Image(f\"{synthetic_data_path}/train/image-11.jpg\")"
   ]
  },
  {
   "cell_type": "markdown",
   "metadata": {
    "id": "0fWI45g3HCXx"
   },
   "source": [
    "## Download\n",
    "\n",
    "The resulting file will be around 1.1-1.2 GB, so downloading takes some time. Consider mounting Google Drive and saving it there if you can affort the space."
   ]
  },
  {
   "cell_type": "code",
   "execution_count": 18,
   "metadata": {
    "colab": {
     "base_uri": "https://localhost:8080/",
     "height": 765
    },
    "id": "MACot9bXHCXx",
    "outputId": "983c1cbb-c353-4df9-ebda-573663df3421"
   },
   "outputs": [
    {
     "name": "stdout",
     "output_type": "stream",
     "text": [
      "Not on Google Colab, won't start download\n"
     ]
    }
   ],
   "source": [
    "try:\n",
    "  from google.colab.files import download\n",
    "  !cd '{synthetic_data_path}' && zip -r \"/content/synthetic-dataset-{version}.zip\" .\n",
    "  download(f\"/content/synthetic-dataset-{version}.zip\")\n",
    "except ImportError:\n",
    "  print('Not on Google Colab, won\\'t start download')"
   ]
  }
 ],
 "metadata": {
  "colab": {
   "collapsed_sections": [
    "reFRAHRnEKLe"
   ],
   "name": "create-synthetic-dataset-for-training.ipynb",
   "provenance": []
  },
  "kernelspec": {
   "display_name": "Python 3.8 (Empty 001)",
   "language": "python",
   "name": "empty001"
  },
  "language_info": {
   "codemirror_mode": {
    "name": "ipython",
    "version": 3
   },
   "file_extension": ".py",
   "mimetype": "text/x-python",
   "name": "python",
   "nbconvert_exporter": "python",
   "pygments_lexer": "ipython3",
   "version": "3.7.10"
  },
  "widgets": {
   "application/vnd.jupyter.widget-state+json": {
    "15efcc48153444a2bacccc41c13f1e3e": {
     "model_module": "@jupyter-widgets/controls",
     "model_name": "DescriptionStyleModel",
     "state": {
      "_model_module": "@jupyter-widgets/controls",
      "_model_module_version": "1.5.0",
      "_model_name": "DescriptionStyleModel",
      "_view_count": null,
      "_view_module": "@jupyter-widgets/base",
      "_view_module_version": "1.2.0",
      "_view_name": "StyleView",
      "description_width": ""
     }
    },
    "275a2cbb0fb9460cba98e0cd98d5d8b4": {
     "model_module": "@jupyter-widgets/base",
     "model_name": "LayoutModel",
     "state": {
      "_model_module": "@jupyter-widgets/base",
      "_model_module_version": "1.2.0",
      "_model_name": "LayoutModel",
      "_view_count": null,
      "_view_module": "@jupyter-widgets/base",
      "_view_module_version": "1.2.0",
      "_view_name": "LayoutView",
      "align_content": null,
      "align_items": null,
      "align_self": null,
      "border": null,
      "bottom": null,
      "display": null,
      "flex": null,
      "flex_flow": null,
      "grid_area": null,
      "grid_auto_columns": null,
      "grid_auto_flow": null,
      "grid_auto_rows": null,
      "grid_column": null,
      "grid_gap": null,
      "grid_row": null,
      "grid_template_areas": null,
      "grid_template_columns": null,
      "grid_template_rows": null,
      "height": null,
      "justify_content": null,
      "justify_items": null,
      "left": null,
      "margin": null,
      "max_height": null,
      "max_width": null,
      "min_height": null,
      "min_width": null,
      "object_fit": null,
      "object_position": null,
      "order": null,
      "overflow": null,
      "overflow_x": null,
      "overflow_y": null,
      "padding": null,
      "right": null,
      "top": null,
      "visibility": null,
      "width": null
     }
    },
    "7b4d6ed56f6c482c8887c86f7a02d285": {
     "model_module": "@jupyter-widgets/controls",
     "model_name": "FloatProgressModel",
     "state": {
      "_dom_classes": [],
      "_model_module": "@jupyter-widgets/controls",
      "_model_module_version": "1.5.0",
      "_model_name": "FloatProgressModel",
      "_view_count": null,
      "_view_module": "@jupyter-widgets/controls",
      "_view_module_version": "1.5.0",
      "_view_name": "ProgressView",
      "bar_style": "success",
      "description": "",
      "description_tooltip": null,
      "layout": "IPY_MODEL_e73e3d47446f4170a17349424d3d5f76",
      "max": 4,
      "min": 0,
      "orientation": "horizontal",
      "style": "IPY_MODEL_cab77c99b41d4049ac154eb0c15fbedd",
      "value": 4
     }
    },
    "896c8d1daac94a689d746d15509c739a": {
     "model_module": "@jupyter-widgets/controls",
     "model_name": "DescriptionStyleModel",
     "state": {
      "_model_module": "@jupyter-widgets/controls",
      "_model_module_version": "1.5.0",
      "_model_name": "DescriptionStyleModel",
      "_view_count": null,
      "_view_module": "@jupyter-widgets/base",
      "_view_module_version": "1.2.0",
      "_view_name": "StyleView",
      "description_width": ""
     }
    },
    "9ca09290f1d445d58c606147e02685fd": {
     "model_module": "@jupyter-widgets/base",
     "model_name": "LayoutModel",
     "state": {
      "_model_module": "@jupyter-widgets/base",
      "_model_module_version": "1.2.0",
      "_model_name": "LayoutModel",
      "_view_count": null,
      "_view_module": "@jupyter-widgets/base",
      "_view_module_version": "1.2.0",
      "_view_name": "LayoutView",
      "align_content": null,
      "align_items": null,
      "align_self": null,
      "border": null,
      "bottom": null,
      "display": null,
      "flex": null,
      "flex_flow": null,
      "grid_area": null,
      "grid_auto_columns": null,
      "grid_auto_flow": null,
      "grid_auto_rows": null,
      "grid_column": null,
      "grid_gap": null,
      "grid_row": null,
      "grid_template_areas": null,
      "grid_template_columns": null,
      "grid_template_rows": null,
      "height": null,
      "justify_content": null,
      "justify_items": null,
      "left": null,
      "margin": null,
      "max_height": null,
      "max_width": null,
      "min_height": null,
      "min_width": null,
      "object_fit": null,
      "object_position": null,
      "order": null,
      "overflow": null,
      "overflow_x": null,
      "overflow_y": null,
      "padding": null,
      "right": null,
      "top": null,
      "visibility": null,
      "width": null
     }
    },
    "a81814f1fb284402809ea569999a502c": {
     "model_module": "@jupyter-widgets/controls",
     "model_name": "HTMLModel",
     "state": {
      "_dom_classes": [],
      "_model_module": "@jupyter-widgets/controls",
      "_model_module_version": "1.5.0",
      "_model_name": "HTMLModel",
      "_view_count": null,
      "_view_module": "@jupyter-widgets/controls",
      "_view_module_version": "1.5.0",
      "_view_name": "HTMLView",
      "description": "",
      "description_tooltip": null,
      "layout": "IPY_MODEL_275a2cbb0fb9460cba98e0cd98d5d8b4",
      "placeholder": "​",
      "style": "IPY_MODEL_896c8d1daac94a689d746d15509c739a",
      "value": " 4/4 [00:27&lt;00:00,  5.55s/it]"
     }
    },
    "ad34dda19eb044f384b9755b9d630ace": {
     "model_module": "@jupyter-widgets/controls",
     "model_name": "HTMLModel",
     "state": {
      "_dom_classes": [],
      "_model_module": "@jupyter-widgets/controls",
      "_model_module_version": "1.5.0",
      "_model_name": "HTMLModel",
      "_view_count": null,
      "_view_module": "@jupyter-widgets/controls",
      "_view_module_version": "1.5.0",
      "_view_name": "HTMLView",
      "description": "",
      "description_tooltip": null,
      "layout": "IPY_MODEL_e7cd3c90b21241649a217a8abb28bbf5",
      "placeholder": "​",
      "style": "IPY_MODEL_15efcc48153444a2bacccc41c13f1e3e",
      "value": "100%"
     }
    },
    "c5052219aff940de8f25a321dee00798": {
     "model_module": "@jupyter-widgets/controls",
     "model_name": "HBoxModel",
     "state": {
      "_dom_classes": [],
      "_model_module": "@jupyter-widgets/controls",
      "_model_module_version": "1.5.0",
      "_model_name": "HBoxModel",
      "_view_count": null,
      "_view_module": "@jupyter-widgets/controls",
      "_view_module_version": "1.5.0",
      "_view_name": "HBoxView",
      "box_style": "",
      "children": [
       "IPY_MODEL_ad34dda19eb044f384b9755b9d630ace",
       "IPY_MODEL_7b4d6ed56f6c482c8887c86f7a02d285",
       "IPY_MODEL_a81814f1fb284402809ea569999a502c"
      ],
      "layout": "IPY_MODEL_9ca09290f1d445d58c606147e02685fd"
     }
    },
    "cab77c99b41d4049ac154eb0c15fbedd": {
     "model_module": "@jupyter-widgets/controls",
     "model_name": "ProgressStyleModel",
     "state": {
      "_model_module": "@jupyter-widgets/controls",
      "_model_module_version": "1.5.0",
      "_model_name": "ProgressStyleModel",
      "_view_count": null,
      "_view_module": "@jupyter-widgets/base",
      "_view_module_version": "1.2.0",
      "_view_name": "StyleView",
      "bar_color": null,
      "description_width": ""
     }
    },
    "e73e3d47446f4170a17349424d3d5f76": {
     "model_module": "@jupyter-widgets/base",
     "model_name": "LayoutModel",
     "state": {
      "_model_module": "@jupyter-widgets/base",
      "_model_module_version": "1.2.0",
      "_model_name": "LayoutModel",
      "_view_count": null,
      "_view_module": "@jupyter-widgets/base",
      "_view_module_version": "1.2.0",
      "_view_name": "LayoutView",
      "align_content": null,
      "align_items": null,
      "align_self": null,
      "border": null,
      "bottom": null,
      "display": null,
      "flex": null,
      "flex_flow": null,
      "grid_area": null,
      "grid_auto_columns": null,
      "grid_auto_flow": null,
      "grid_auto_rows": null,
      "grid_column": null,
      "grid_gap": null,
      "grid_row": null,
      "grid_template_areas": null,
      "grid_template_columns": null,
      "grid_template_rows": null,
      "height": null,
      "justify_content": null,
      "justify_items": null,
      "left": null,
      "margin": null,
      "max_height": null,
      "max_width": null,
      "min_height": null,
      "min_width": null,
      "object_fit": null,
      "object_position": null,
      "order": null,
      "overflow": null,
      "overflow_x": null,
      "overflow_y": null,
      "padding": null,
      "right": null,
      "top": null,
      "visibility": null,
      "width": null
     }
    },
    "e7cd3c90b21241649a217a8abb28bbf5": {
     "model_module": "@jupyter-widgets/base",
     "model_name": "LayoutModel",
     "state": {
      "_model_module": "@jupyter-widgets/base",
      "_model_module_version": "1.2.0",
      "_model_name": "LayoutModel",
      "_view_count": null,
      "_view_module": "@jupyter-widgets/base",
      "_view_module_version": "1.2.0",
      "_view_name": "LayoutView",
      "align_content": null,
      "align_items": null,
      "align_self": null,
      "border": null,
      "bottom": null,
      "display": null,
      "flex": null,
      "flex_flow": null,
      "grid_area": null,
      "grid_auto_columns": null,
      "grid_auto_flow": null,
      "grid_auto_rows": null,
      "grid_column": null,
      "grid_gap": null,
      "grid_row": null,
      "grid_template_areas": null,
      "grid_template_columns": null,
      "grid_template_rows": null,
      "height": null,
      "justify_content": null,
      "justify_items": null,
      "left": null,
      "margin": null,
      "max_height": null,
      "max_width": null,
      "min_height": null,
      "min_width": null,
      "object_fit": null,
      "object_position": null,
      "order": null,
      "overflow": null,
      "overflow_x": null,
      "overflow_y": null,
      "padding": null,
      "right": null,
      "top": null,
      "visibility": null,
      "width": null
     }
    }
   }
  }
 },
 "nbformat": 4,
 "nbformat_minor": 1
}
