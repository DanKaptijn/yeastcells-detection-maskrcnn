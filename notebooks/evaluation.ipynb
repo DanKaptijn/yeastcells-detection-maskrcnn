{
 "cells": [
  {
   "cell_type": "markdown",
   "metadata": {},
   "source": [
    "# Yeast cells detection evaluation notebook"
   ]
  },
  {
   "cell_type": "code",
   "execution_count": 16,
   "metadata": {},
   "outputs": [],
   "source": [
    "import sys\n",
    "sys.path.append('../')\n",
    "#sys.path.append('%HOMEPATH%/detectron2') #insert local path to detectron2\n",
    "import numpy as np\n",
    "\n",
    "import yeastcells.clustering as clustering\n",
    "import yeastcells.features as features\n",
    "import yeastcells.data as data\n",
    "import yeastcells.model as model\n",
    "import yeastcells.visualize as visualize\n",
    "import yeastcells.evaluation as evaluation\n",
    "%matplotlib notebook"
   ]
  },
  {
   "cell_type": "code",
   "execution_count": 17,
   "metadata": {},
   "outputs": [
    {
     "name": "stdout",
     "output_type": "stream",
     "text": [
      "/home/p301081\n"
     ]
    }
   ],
   "source": [
    "cd ~"
   ]
  },
  {
   "cell_type": "markdown",
   "metadata": {},
   "source": [
    "### Load data"
   ]
  },
  {
   "cell_type": "code",
   "execution_count": 18,
   "metadata": {},
   "outputs": [],
   "source": [
    "path = '../../slow-data/yeastcells/data/cellstar_benchmark/TestSet1'\n",
    "filenames = data.load_data(path)"
   ]
  },
  {
   "cell_type": "code",
   "execution_count": 19,
   "metadata": {},
   "outputs": [
    {
     "data": {
      "text/plain": [
       "(60, 512, 512, 3)"
      ]
     },
     "execution_count": 19,
     "metadata": {},
     "output_type": "execute_result"
    }
   ],
   "source": [
    "image = data.read_images_cat(filenames)\n",
    "np.shape(image)"
   ]
  },
  {
   "cell_type": "markdown",
   "metadata": {},
   "source": [
    "### Load and run model on data for segmentation"
   ]
  },
  {
   "cell_type": "code",
   "execution_count": 20,
   "metadata": {},
   "outputs": [],
   "source": [
    "#set path to model_final.pth\n",
    "model_path = '/var/tensorflow-logs/p253591/yeast-cell-detection-run-4'\n",
    "\n",
    "#load model\n",
    "predictor = model.load_model(model_path, seg_thresh=0.955, device='cuda:0') #set GPU if available otherwise use 'cpu'"
   ]
  },
  {
   "cell_type": "code",
   "execution_count": 21,
   "metadata": {},
   "outputs": [],
   "source": [
    "output = [\n",
    "  {'instances': predictor(frame)['instances'].to('cpu')}\n",
    "  for frame in image\n",
    "]"
   ]
  },
  {
   "cell_type": "markdown",
   "metadata": {},
   "source": [
    "### Run clustering algorithm for tracking"
   ]
  },
  {
   "cell_type": "code",
   "execution_count": 22,
   "metadata": {},
   "outputs": [
    {
     "name": "stderr",
     "output_type": "stream",
     "text": [
      "/home/p301081/.virtualenvs/yeastcells/lib/python3.7/site-packages/sklearn/neighbors/_base.py:168: EfficiencyWarning: Precomputed sparse input was not sorted by data.\n",
      "  EfficiencyWarning)\n"
     ]
    }
   ],
   "source": [
    "labels, coordinates = clustering.cluster_cells(output, dmax=5, min_samples=3, eps=0.6, progress=False)"
   ]
  },
  {
   "cell_type": "markdown",
   "metadata": {},
   "source": [
    "### Load ground truth data and reformat prediction outputs into array"
   ]
  },
  {
   "cell_type": "code",
   "execution_count": 23,
   "metadata": {},
   "outputs": [],
   "source": [
    "seg_path = f'{path}/GroundTruth_Segmentation.csv'\n",
    "track_path = f'{path}/GroundTruth_Tracking.csv'\n",
    "gt_s, gt_t = data.get_gt_yit(seg_path, track_path)\n",
    "pred_s, pred_t, pred_df = data.get_pred(output, labels, coordinates)"
   ]
  },
  {
   "cell_type": "markdown",
   "metadata": {},
   "source": [
    "### Match predictions to ground truth"
   ]
  },
  {
   "cell_type": "code",
   "execution_count": 25,
   "metadata": {},
   "outputs": [],
   "source": [
    "results_s = evaluation.get_seg_performance(pred_s, gt_s, output, pipeline='maskrcnn')\n",
    "results_t = evaluation.get_track_performance(pred_t, gt_t, output, pipeline='maskrcnn')"
   ]
  },
  {
   "cell_type": "code",
   "execution_count": 26,
   "metadata": {},
   "outputs": [
    {
     "name": "stdout",
     "output_type": "stream",
     "text": [
      "{'tp': 1069, 'fp': 101, 'fn': 97, 'join': 0, 'split': 0}\n",
      "{'tp': 1046, 'fp': 96, 'fn': 93, 'join': 0, 'split': 0}\n"
     ]
    }
   ],
   "source": [
    "print(results_s)\n",
    "print(results_t)"
   ]
  },
  {
   "cell_type": "code",
   "execution_count": 27,
   "metadata": {},
   "outputs": [],
   "source": [
    "metrics_s = evaluation.calculate_metrics(results_s, pred_s, gt_s)\n",
    "metrics_t = evaluation.calculate_metrics(results_t, pred_t, gt_t)"
   ]
  },
  {
   "cell_type": "code",
   "execution_count": 28,
   "metadata": {},
   "outputs": [
    {
     "name": "stdout",
     "output_type": "stream",
     "text": [
      "{'F1-score': 0.9152397260273973, 'Accuracy': 0.8437253354380426, 'Precision': 0.9136752136752136, 'Recall': 0.9168096054888508}\n",
      "{'F1-score': 0.9171416045594037, 'Accuracy': 0.8469635627530364, 'Precision': 0.9159369527145359, 'Recall': 0.9183494293239683}\n"
     ]
    }
   ],
   "source": [
    "print(metrics_s)\n",
    "print(metrics_t)"
   ]
  }
 ],
 "metadata": {
  "kernelspec": {
   "display_name": "Yeast Cells",
   "language": "python",
   "name": "yeastcells"
  },
  "language_info": {
   "codemirror_mode": {
    "name": "ipython",
    "version": 3
   },
   "file_extension": ".py",
   "mimetype": "text/x-python",
   "name": "python",
   "nbconvert_exporter": "python",
   "pygments_lexer": "ipython3",
   "version": "3.7.8"
  }
 },
 "nbformat": 4,
 "nbformat_minor": 4
}
