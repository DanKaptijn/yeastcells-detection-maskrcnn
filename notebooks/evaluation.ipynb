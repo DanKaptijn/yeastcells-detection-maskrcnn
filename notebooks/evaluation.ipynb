{
 "cells": [
  {
   "cell_type": "markdown",
   "metadata": {},
   "source": [
    "# Yeast cells detection evaluation notebook"
   ]
  },
  {
   "cell_type": "code",
   "execution_count": null,
   "metadata": {},
   "outputs": [],
   "source": [
    "import sys\n",
    "sys.path.append('../')\n",
    "#sys.path.append('%HOMEPATH%/detectron2') #insert local path to detecron2\n",
    "import numpy as np\n",
    "\n",
    "import yeastcells.clustering as clustering\n",
    "import yeastcells.features as features\n",
    "import yeastcells.data as data\n",
    "import yeastcells.model as model\n",
    "import yeastcells.output as output\n",
    "import yeastcells.fp as fp\n",
    "import yeastcells.visualize as visualize"
   ]
  },
  {
   "cell_type": "code",
   "execution_count": null,
   "metadata": {},
   "outputs": [],
   "source": [
    "cd ~"
   ]
  },
  {
   "cell_type": "markdown",
   "metadata": {},
   "source": [
    "### Load data"
   ]
  },
  {
   "cell_type": "code",
   "execution_count": null,
   "metadata": {},
   "outputs": [],
   "source": [
    "path = '../../slow-data/yeastcells/data/cellstar_benchmark/TestSet1'\n",
    "filenames = data.load_data(path)"
   ]
  },
  {
   "cell_type": "code",
   "execution_count": null,
   "metadata": {},
   "outputs": [],
   "source": [
    "image = data.read_images_cat(filenames)\n",
    "np.shape(image)"
   ]
  },
  {
   "cell_type": "markdown",
   "metadata": {},
   "source": [
    "### Load and run model on data for segmentation"
   ]
  },
  {
   "cell_type": "code",
   "execution_count": null,
   "metadata": {},
   "outputs": [],
   "source": [
    "#set path to model_final.pth\n",
    "model_path = '/var/tensorflow-logs/p253591/yeast-cell-detection-run-4'\n",
    "\n",
    "#load model\n",
    "predictor = model.load_model(model_path, seg_thresh=0.94, device='cuda:0') #set GPU if available otherwise use 'cpu'"
   ]
  },
  {
   "cell_type": "code",
   "execution_count": null,
   "metadata": {},
   "outputs": [],
   "source": [
    "output = [\n",
    "  {'instances': predictor(frame)['instances'].to('cpu')}\n",
    "  for frame in image\n",
    "]"
   ]
  },
  {
   "cell_type": "markdown",
   "metadata": {},
   "source": [
    "### Run clustering algorithm for tracking"
   ]
  },
  {
   "cell_type": "code",
   "execution_count": null,
   "metadata": {},
   "outputs": [],
   "source": [
    "labels, coordinates = clustering.cluster_cells(output, dmax=5, min_samples=3, eps=0.6, progress=False)"
   ]
  },
  {
   "cell_type": "markdown",
   "metadata": {},
   "source": [
    "### Load ground truth data and reformat prediction outputs into array"
   ]
  },
  {
   "cell_type": "code",
   "execution_count": null,
   "metadata": {},
   "outputs": [],
   "source": [
    "seg_path = '../../slow-data/yeastcells/data/cellstar_benchmark/TestSet1/GroundTruth_Segmentation.csv'\n",
    "track_path = '../../slow-data/yeastcells/data/cellstar_benchmark/TestSet1/GroundTruth_Tracking.csv'\n",
    "gt_s, gt_t = data.get_gt(seg_path, track_path)\n",
    "pred_s, pred_t = data.get_pred(output, labels, coordinates)"
   ]
  },
  {
   "cell_type": "markdown",
   "metadata": {},
   "source": [
    "### Match predictions to ground truth"
   ]
  },
  {
   "cell_type": "code",
   "execution_count": null,
   "metadata": {},
   "outputs": [],
   "source": [
    "pred_s_, results_s = evaluation.get_seg_performance(pred_s, gt_s, output, removed_fp=False, index=None)\n",
    "pred_t_, results_t = evaluation.get_track_performance(pred_t, gt_t, output, removed_fp=False, index=None)"
   ]
  },
  {
   "cell_type": "code",
   "execution_count": null,
   "metadata": {},
   "outputs": [],
   "source": [
    "print(results_s)\n",
    "print(results_t)"
   ]
  },
  {
   "cell_type": "code",
   "execution_count": null,
   "metadata": {},
   "outputs": [],
   "source": [
    "metrics_s = evaluation.calculate_metrics(results_s, pred_s_, gt_s)\n",
    "metrics_t = evaluation.calculate_metrics(results_t, pred_t_, gt_t)"
   ]
  },
  {
   "cell_type": "code",
   "execution_count": null,
   "metadata": {},
   "outputs": [],
   "source": [
    "print(metrics_s)\n",
    "print(metrics_t)"
   ]
  },
  {
   "cell_type": "code",
   "execution_count": null,
   "metadata": {},
   "outputs": [],
   "source": [
    "# ## False positive removal\n",
    "\n",
    "# ### Include features\n",
    "\n",
    "# # Add std of size and std of position\n",
    "# areas, g_rate = features.get_area_and_growth_rate(polygons, labels, pred_s)\n",
    "# X = np.vstack((areas, g_rate)).T\n",
    "\n",
    "# ### Import random forest and run on prediction features to output idx of false positives\n",
    "\n",
    "# idx = fp.remove_by_rf(rf, X)\n",
    "\n",
    "# ### Rerun evaluation with removed false positives\n",
    "\n",
    "# pred_s_, results_s = evaluation.get_seg_performance(pred_s, gt_s, output, removed_fp=True, index=idx)\n",
    "# pred_t_, results_t = evaluation.get_track_performance(pred_t, gt_t, output, removed_fp=True, index=idx)"
   ]
  }
 ],
 "metadata": {
  "kernelspec": {
   "display_name": "Yeast Cells",
   "language": "python",
   "name": "yeastcells"
  },
  "language_info": {
   "codemirror_mode": {
    "name": "ipython",
    "version": 3
   },
   "file_extension": ".py",
   "mimetype": "text/x-python",
   "name": "python",
   "nbconvert_exporter": "python",
   "pygments_lexer": "ipython3",
   "version": "3.7.8"
  }
 },
 "nbformat": 4,
 "nbformat_minor": 4
}
