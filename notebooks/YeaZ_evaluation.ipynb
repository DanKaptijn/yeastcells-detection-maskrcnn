{
 "cells": [
  {
   "cell_type": "markdown",
   "metadata": {},
   "source": [
    "# YeaZ output evaluation"
   ]
  },
  {
   "cell_type": "code",
   "execution_count": 12,
   "metadata": {},
   "outputs": [],
   "source": [
    "import sys\n",
    "sys.path.append('/home/p301081/yeastcells-detection-maskrcnn') # add repository path\n",
    "#sys.path.append('') #insert local path to detecron2\n",
    "\n",
    "import numpy as np\n",
    "\n",
    "import yeastcells.clustering as clustering\n",
    "import yeastcells.features as features\n",
    "import yeastcells.data as data\n",
    "import yeastcells.model as model\n",
    "import yeastcells.visualize as visualize\n",
    "import yeastcells.evaluation as evaluation"
   ]
  },
  {
   "cell_type": "code",
   "execution_count": 13,
   "metadata": {},
   "outputs": [
    {
     "name": "stdout",
     "output_type": "stream",
     "text": [
      "/home/p301081\n"
     ]
    }
   ],
   "source": [
    "cd ~"
   ]
  },
  {
   "cell_type": "markdown",
   "metadata": {},
   "source": [
    "### Load YeaZ segmented masks"
   ]
  },
  {
   "cell_type": "code",
   "execution_count": 14,
   "metadata": {},
   "outputs": [
    {
     "data": {
      "text/plain": [
       "(60, 512, 512)"
      ]
     },
     "execution_count": 14,
     "metadata": {},
     "output_type": "execute_result"
    }
   ],
   "source": [
    "fp = f'../../slow-data/yeastcells/data/cellstar_benchmark/TestSet1/'\n",
    "fn_mask = f'YeaZ_results_mask_YIT_TS1.tiff'\n",
    "masks = data.read_tiff_mask(f'{fp}/{fn_mask}')\n",
    "np.shape(masks)"
   ]
  },
  {
   "cell_type": "markdown",
   "metadata": {},
   "source": [
    "### Extract labels from masks"
   ]
  },
  {
   "cell_type": "code",
   "execution_count": 15,
   "metadata": {},
   "outputs": [],
   "source": [
    "labels, labels_grouped, coordinates, instances = features.extract_labels(masks)"
   ]
  },
  {
   "cell_type": "markdown",
   "metadata": {},
   "source": [
    "### Load ground truth data and reformat prediction outputs into array"
   ]
  },
  {
   "cell_type": "code",
   "execution_count": 16,
   "metadata": {},
   "outputs": [],
   "source": [
    "seg_path = f'{fp}/GroundTruth_Segmentation.csv'\n",
    "track_path = f'{fp}/GroundTruth_Tracking.csv'\n",
    "gt_s, gt_t = data.get_gt_yit(seg_path, track_path)\n",
    "pred_s, pred_t = data.get_pred_yeaz(labels, labels_grouped, coordinates)"
   ]
  },
  {
   "cell_type": "markdown",
   "metadata": {},
   "source": [
    "### Match predictions to ground truth"
   ]
  },
  {
   "cell_type": "code",
   "execution_count": 17,
   "metadata": {},
   "outputs": [],
   "source": [
    "results_s = evaluation.get_seg_performance(pred_s, gt_s, instances, pipeline='YeaZ')\n",
    "results_t = evaluation.get_track_performance(pred_t, gt_t, instances, pipeline='YeaZ')"
   ]
  },
  {
   "cell_type": "code",
   "execution_count": 18,
   "metadata": {},
   "outputs": [
    {
     "name": "stdout",
     "output_type": "stream",
     "text": [
      "{'tp': 1115, 'fp': 553, 'fn': 51, 'join': 7, 'split': 0}\n",
      "{'tp': 1102, 'fp': 517, 'fn': 37, 'join': 2, 'split': 2}\n"
     ]
    }
   ],
   "source": [
    "print(results_s)\n",
    "print(results_t)"
   ]
  },
  {
   "cell_type": "code",
   "execution_count": 19,
   "metadata": {},
   "outputs": [],
   "source": [
    "metrics_s = evaluation.calculate_metrics(results_s, pred_s, gt_s)\n",
    "metrics_t = evaluation.calculate_metrics(results_t, pred_t, gt_t)"
   ]
  },
  {
   "cell_type": "code",
   "execution_count": 20,
   "metadata": {},
   "outputs": [
    {
     "name": "stdout",
     "output_type": "stream",
     "text": [
      "{'F1-score': 0.7868736767819337, 'Accuracy': 0.6486329261198371, 'Precision': 0.6684652278177458, 'Recall': 0.9562607204116638}\n",
      "{'F1-score': 0.7991298042059464, 'Accuracy': 0.6654589371980676, 'Precision': 0.6806670784434836, 'Recall': 0.9675153643546971}\n"
     ]
    }
   ],
   "source": [
    "print(metrics_s)\n",
    "print(metrics_t)"
   ]
  }
 ],
 "metadata": {
  "kernelspec": {
   "display_name": "Yeast Cells",
   "language": "python",
   "name": "yeastcells"
  },
  "language_info": {
   "codemirror_mode": {
    "name": "ipython",
    "version": 3
   },
   "file_extension": ".py",
   "mimetype": "text/x-python",
   "name": "python",
   "nbconvert_exporter": "python",
   "pygments_lexer": "ipython3",
   "version": "3.7.8"
  }
 },
 "nbformat": 4,
 "nbformat_minor": 4
}
