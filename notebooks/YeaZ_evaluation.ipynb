{
 "cells": [
  {
   "cell_type": "markdown",
   "metadata": {},
   "source": [
    "# YeaZ output evaluation"
   ]
  },
  {
   "cell_type": "code",
   "execution_count": 1,
   "metadata": {},
   "outputs": [],
   "source": [
    "import sys\n",
    "sys.path.append('../')\n",
    "#sys.path.append('%HOMEPATH%/detectron2') #insert local path to detecron2\n",
    "import numpy as np\n",
    "\n",
    "import yeastcells.clustering as clustering\n",
    "import yeastcells.features as features\n",
    "import yeastcells.data as data\n",
    "import yeastcells.model as model\n",
    "import yeastcells.output as output\n",
    "import yeastcells.visualize as visualize\n",
    "import yeastcells.evaluation as evaluation\n",
    "# import yeastcells.fp as fp"
   ]
  },
  {
   "cell_type": "code",
   "execution_count": 2,
   "metadata": {},
   "outputs": [
    {
     "name": "stdout",
     "output_type": "stream",
     "text": [
      "/home/p301081\n"
     ]
    }
   ],
   "source": [
    "cd ~"
   ]
  },
  {
   "cell_type": "markdown",
   "metadata": {},
   "source": [
    "### Load YeaZ segmented masks"
   ]
  },
  {
   "cell_type": "code",
   "execution_count": 20,
   "metadata": {},
   "outputs": [
    {
     "data": {
      "text/plain": [
       "(10, 512, 512)"
      ]
     },
     "execution_count": 20,
     "metadata": {},
     "output_type": "execute_result"
    }
   ],
   "source": [
    "ts = 7\n",
    "fp = f'../../slow-data/yeastcells/data/cellstar_benchmark/TestSet{ts}/'\n",
    "fn_mask = f'YeaZ_results_mask_YIT_TS{ts}.tiff'\n",
    "masks = data.read_tiff_mask(f'{fp}/{fn_mask}')\n",
    "np.shape(masks)"
   ]
  },
  {
   "cell_type": "markdown",
   "metadata": {},
   "source": [
    "### Extract labels from masks"
   ]
  },
  {
   "cell_type": "code",
   "execution_count": 21,
   "metadata": {},
   "outputs": [],
   "source": [
    "labels_grouped, labels, coordinates, instances = data.extract_labels(masks)"
   ]
  },
  {
   "cell_type": "markdown",
   "metadata": {},
   "source": [
    "### Load ground truth data and reformat prediction outputs into array"
   ]
  },
  {
   "cell_type": "code",
   "execution_count": 22,
   "metadata": {},
   "outputs": [],
   "source": [
    "seg_path = f'{fp}/GroundTruth_Segmentation.csv'\n",
    "track_path = f'{fp}/GroundTruth_Tracking.csv'\n",
    "gt_s, gt_t = data.get_gt_yit(seg_path, track_path)\n",
    "pred_s, pred_t = data.get_pred_yeaz(labels_grouped, labels, coordinates)"
   ]
  },
  {
   "cell_type": "markdown",
   "metadata": {},
   "source": [
    "### Match predictions to ground truth"
   ]
  },
  {
   "cell_type": "code",
   "execution_count": 23,
   "metadata": {},
   "outputs": [],
   "source": [
    "pred_s_, results_s = evaluation.get_seg_performance(pred_s, gt_s, instances, pipeline='YeaZ')\n",
    "pred_t_, results_t = evaluation.get_track_performance(pred_t, gt_t, instances, pipeline='YeaZ')"
   ]
  },
  {
   "cell_type": "code",
   "execution_count": 24,
   "metadata": {},
   "outputs": [
    {
     "name": "stdout",
     "output_type": "stream",
     "text": [
      "{'tp': 1464, 'fp': 26, 'fn': 77, 'join': 11, 'split': 0}\n",
      "{'tp': 1287, 'fp': 32, 'fn': 67, 'join': 19, 'split': 16}\n"
     ]
    }
   ],
   "source": [
    "print(results_s)\n",
    "print(results_t)"
   ]
  },
  {
   "cell_type": "code",
   "execution_count": 25,
   "metadata": {},
   "outputs": [],
   "source": [
    "metrics_s = evaluation.calculate_metrics(results_s, pred_s_, gt_s)\n",
    "metrics_t = evaluation.calculate_metrics(results_t, pred_t_, gt_t)"
   ]
  },
  {
   "cell_type": "code",
   "execution_count": 27,
   "metadata": {},
   "outputs": [
    {
     "name": "stdout",
     "output_type": "stream",
     "text": [
      "{'F1-score': 0.9660178159023425, 'Accuracy': 0.9342693044033185, 'Precision': 0.9825503355704698, 'Recall': 0.9500324464633355}\n",
      "{'F1-score': 0.9629629629629629, 'Accuracy': 0.9285714285714286, 'Precision': 0.9757391963608795, 'Recall': 0.9505169867060561}\n"
     ]
    }
   ],
   "source": [
    "print(metrics_s)\n",
    "print(metrics_t)"
   ]
  },
  {
   "cell_type": "code",
   "execution_count": null,
   "metadata": {},
   "outputs": [],
   "source": []
  }
 ],
 "metadata": {
  "kernelspec": {
   "display_name": "Yeast Cells",
   "language": "python",
   "name": "yeastcells"
  },
  "language_info": {
   "codemirror_mode": {
    "name": "ipython",
    "version": 3
   },
   "file_extension": ".py",
   "mimetype": "text/x-python",
   "name": "python",
   "nbconvert_exporter": "python",
   "pygments_lexer": "ipython3",
   "version": "3.7.8"
  }
 },
 "nbformat": 4,
 "nbformat_minor": 4
}
