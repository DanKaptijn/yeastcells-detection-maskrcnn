{
  "nbformat": 4,
  "nbformat_minor": 0,
  "metadata": {
    "kernelspec": {
      "display_name": "Yeast Cells",
      "language": "python",
      "name": "python3"
    },
    "language_info": {
      "codemirror_mode": {
        "name": "ipython",
        "version": 3
      },
      "file_extension": ".py",
      "mimetype": "text/x-python",
      "name": "python",
      "nbconvert_exporter": "python",
      "pygments_lexer": "ipython3",
      "version": "3.7.8"
    },
    "colab": {
      "name": "YeaZ_evaluation.ipynb",
      "provenance": [],
      "collapsed_sections": [],
      "toc_visible": true
    }
  },
  "cells": [
    {
      "cell_type": "markdown",
      "metadata": {
        "id": "p6rsU6I9mWO6"
      },
      "source": [
        "# YeaZ evaluation\n",
        "\n",
        "Evaluates the YeaZ algorithm in a similar manor as the Mask-RCNN pipeline.\n",
        "\n",
        "We've precomputed the output of YeaZ for the YIT data and it's downloaded as `YeaZ_results.zip`."
      ]
    },
    {
      "cell_type": "code",
      "metadata": {
        "id": "rzxbyTG8mWO_",
        "colab": {
          "base_uri": "https://localhost:8080/"
        },
        "outputId": "81a9d5ab-f292-4bd3-b7e0-2d80951740f5"
      },
      "source": [
        "import numpy as np\n",
        "import pandas as pd\n",
        "from google.colab import files \n",
        "import matplotlib.pyplot as plt\n",
        "%matplotlib notebook\n",
        "\n",
        "try:\n",
        "  from download import download\n",
        "except ImportError:\n",
        "  !pip3 install download\n",
        "  from download import download\n",
        "\n",
        "try:\n",
        "    # raise ImportError()\n",
        "    from yeastcells import data, clustering, features, visualize, evaluation\n",
        "except ImportError:\n",
        "    !test -e yeastcells-detection-maskrcnn || git clone https://github.com/ymzayek/yeastcells-detection-maskrcnn.git\n",
        "    !cd yeastcells-detection-maskrcnn; git pull origin main\n",
        "    !pip3 install ./yeastcells-detection-maskrcnn\n",
        "    from yeastcells import data, clustering, features, visualize, evaluation"
      ],
      "execution_count": 1,
      "outputs": [
        {
          "output_type": "stream",
          "text": [
            "/usr/local/lib/python3.7/dist-packages/skimage/io/manage_plugins.py:23: UserWarning: Your installed pillow version is < 7.1.0. Several security issues (CVE-2020-11538, CVE-2020-10379, CVE-2020-10994, CVE-2020-10177) have been fixed in pillow 7.1.0 or higher. We recommend to upgrade this library.\n",
            "  from .collection import imread_collection_wrapper\n"
          ],
          "name": "stderr"
        }
      ]
    },
    {
      "cell_type": "markdown",
      "metadata": {
        "id": "4LUZHpLemWPB"
      },
      "source": [
        "## Downloads\n",
        "\n",
        "Downloads ground truth and YeaZ results"
      ]
    },
    {
      "cell_type": "code",
      "metadata": {
        "id": "0ks2Okmamnk-"
      },
      "source": [
        "pipeline_path = f'/content/yeastcells-detection-maskrcnn'\n",
        "\n",
        "download(\n",
        "    'https://datascience.web.rug.nl/YeaZ_results.zip',\n",
        "    f'{pipeline_path}/YeaZ_results/YeaZ_results.zip'\n",
        ")\n",
        "\n",
        "download(\n",
        "    'https://datascience.web.rug.nl/YIT-Benchmark2.zip', \n",
        "    f'{pipeline_path}/YIT-Benchmark2/YIT-Benchmark2.zip'\n",
        ")\n",
        "\n",
        "!cd '{pipeline_path}' && unzip -o 'YIT-Benchmark2/YIT-Benchmark2.zip' -d YIT-Benchmark2\n",
        "!cd '{pipeline_path}' && unzip -o 'YeaZ_results/YeaZ_results.zip' -d YeaZ_results"
      ],
      "execution_count": null,
      "outputs": []
    },
    {
      "cell_type": "markdown",
      "metadata": {
        "id": "KqrE_9-XEhNn"
      },
      "source": [
        "## YeaZ results\n",
        "\n",
        "Prepares the YeaZ results for evaluation"
      ]
    },
    {
      "cell_type": "code",
      "metadata": {
        "id": "ZaUhPHnLmWPB"
      },
      "source": [
        "testset = 'TestSet1' \n",
        "# one mask per frame, with integer encoded segmentation.\n",
        "masks = data.read_tiff_mask(f'{pipeline_path}/YeaZ_results/YeaZ_masks_{testset}.tiff')\n",
        "\n",
        "# a dataframe with every detection per frame seperately\n",
        "yeaz_detections = pd.DataFrame([\n",
        "  {'frame': frame, 'cell': cell}\n",
        "  for frame, mask in enumerate(masks)\n",
        "  for cell in np.unique(mask)\n",
        "  if cell > 0\n",
        "])\n",
        "\n",
        "# create one-hot encoded masks, like we get from the Mask-RCNN, such that they\n",
        "# fit our evaluation pipeline.\n",
        "masks = (\n",
        "    masks[yeaz_detections['frame']] # repeat frames per detection of a frame\n",
        "    == yeaz_detections['cell'].values[:, None, None] # one-hot encode\n",
        ")\n",
        "# we could use the dataframe's index, but a seperate column is safer to mutations\n",
        "yeaz_detections['mask'] = np.arange(len(masks))"
      ],
      "execution_count": 3,
      "outputs": []
    },
    {
      "cell_type": "markdown",
      "metadata": {
        "id": "uca7Spw2hMiX"
      },
      "source": [
        "## Ground truth\n",
        "\n",
        "The ground truth consists of annotations of\n",
        " * `frame`: frame number starting at 1,\n",
        " * `cell`: tracks cells over frames, and\n",
        " * `x`, `y`: cell position."
      ]
    },
    {
      "cell_type": "code",
      "metadata": {
        "id": "Q5Dd5CHzhMiX",
        "colab": {
          "base_uri": "https://localhost:8080/"
        },
        "outputId": "616630bd-645b-4701-e439-ea128b014d61"
      },
      "source": [
        "ground_truth = pd.read_csv(\n",
        "    f'{pipeline_path}/YIT-Benchmark2/{testset}/GroundTruth/GroundTruth_Segmentation.csv',\n",
        "    sep=', ' # there's an awkward space next to the commas\n",
        ").drop('Cell_colour', axis=1).rename(\n",
        "    {'Frame_number': 'frame',\t'Cell_number': 'cell',\n",
        "     'Position_X' :'x', 'Position_Y': 'y'}, axis=1).reindex()\n",
        "\n",
        "# detections start counting at 0, ground truths at 1. rectify:\n",
        "ground_truth['frame'] = ground_truth['frame'] - 1"
      ],
      "execution_count": 4,
      "outputs": [
        {
          "output_type": "stream",
          "text": [
            "/usr/local/lib/python3.7/dist-packages/ipykernel_launcher.py:3: ParserWarning: Falling back to the 'python' engine because the 'c' engine does not support regex separators (separators > 1 char and different from '\\s+' are interpreted as regex); you can avoid this warning by specifying engine='python'.\n",
            "  This is separate from the ipykernel package so we can avoid doing imports until\n"
          ],
          "name": "stderr"
        }
      ]
    },
    {
      "cell_type": "markdown",
      "metadata": {
        "id": "LJ2zluI0mWPD"
      },
      "source": [
        "## Evaluation\n",
        "\n",
        "Evaluates the YeaZ output similar to the Mask-RCNN"
      ]
    },
    {
      "cell_type": "markdown",
      "metadata": {
        "id": "lJMcJAsjFbkt"
      },
      "source": [
        "### Results"
      ]
    },
    {
      "cell_type": "code",
      "metadata": {
        "colab": {
          "base_uri": "https://localhost:8080/",
          "height": 142
        },
        "id": "AgLOq7oHDem4",
        "outputId": "9ec68feb-1d23-43db-8525-fef2f85e06ac"
      },
      "source": [
        "segmentation_metrics = evaluation.calculate_metrics(\n",
        "    evaluation.get_segmention_metrics(ground_truth, yeaz_detections, masks))\n",
        "tracking_metrics = evaluation.calculate_metrics(\n",
        "    evaluation.get_tracking_metrics(ground_truth, yeaz_detections, masks))\n",
        "\n",
        "metrics = [\n",
        "    {'task': task, 'metric': metric, 'value': value}\n",
        "    for task, result in {\n",
        "        'tracking': tracking_metrics,\n",
        "        'segmentation': segmentation_metrics}.items()\n",
        "    for metric, value in result.items()\n",
        "]\n",
        "results = pd.DataFrame(metrics)\n",
        "\n",
        "results.pivot('task', columns=['metric'], values='value')"
      ],
      "execution_count": 9,
      "outputs": [
        {
          "output_type": "execute_result",
          "data": {
            "text/html": [
              "<div>\n",
              "<style scoped>\n",
              "    .dataframe tbody tr th:only-of-type {\n",
              "        vertical-align: middle;\n",
              "    }\n",
              "\n",
              "    .dataframe tbody tr th {\n",
              "        vertical-align: top;\n",
              "    }\n",
              "\n",
              "    .dataframe thead th {\n",
              "        text-align: right;\n",
              "    }\n",
              "</style>\n",
              "<table border=\"1\" class=\"dataframe\">\n",
              "  <thead>\n",
              "    <tr style=\"text-align: right;\">\n",
              "      <th>metric</th>\n",
              "      <th>Accuracy</th>\n",
              "      <th>F1-score</th>\n",
              "      <th>Precision</th>\n",
              "      <th>Recall</th>\n",
              "    </tr>\n",
              "    <tr>\n",
              "      <th>task</th>\n",
              "      <th></th>\n",
              "      <th></th>\n",
              "      <th></th>\n",
              "      <th></th>\n",
              "    </tr>\n",
              "  </thead>\n",
              "  <tbody>\n",
              "    <tr>\n",
              "      <th>segmentation</th>\n",
              "      <td>0.655374</td>\n",
              "      <td>0.791814</td>\n",
              "      <td>0.669851</td>\n",
              "      <td>0.968076</td>\n",
              "    </tr>\n",
              "    <tr>\n",
              "      <th>tracking</th>\n",
              "      <td>0.666061</td>\n",
              "      <td>0.799563</td>\n",
              "      <td>0.682609</td>\n",
              "      <td>0.964881</td>\n",
              "    </tr>\n",
              "  </tbody>\n",
              "</table>\n",
              "</div>"
            ],
            "text/plain": [
              "metric        Accuracy  F1-score  Precision    Recall\n",
              "task                                                 \n",
              "segmentation  0.655374  0.791814   0.669851  0.968076\n",
              "tracking      0.666061  0.799563   0.682609  0.964881"
            ]
          },
          "metadata": {
            "tags": []
          },
          "execution_count": 9
        }
      ]
    },
    {
      "cell_type": "markdown",
      "metadata": {
        "id": "mU7bfHBwFPk8"
      },
      "source": [
        "### Download"
      ]
    },
    {
      "cell_type": "code",
      "metadata": {
        "colab": {
          "base_uri": "https://localhost:8080/",
          "height": 17
        },
        "id": "cTvt4SCKFJCF",
        "outputId": "1d0ec125-840e-4968-e4a2-1b07f9599b31"
      },
      "source": [
        "results.pivot('task', columns=['metric'], values='value').to_excel('yeaz-performance.xlsx')\n",
        "\n",
        "try:\n",
        "  from google.colab.files import download\n",
        "  download('yeaz-performance.xlsx')\n",
        "except ImportError:\n",
        "  print('Not on Google Colab, won\\'t start download')"
      ],
      "execution_count": 10,
      "outputs": [
        {
          "output_type": "display_data",
          "data": {
            "application/javascript": [
              "\n",
              "    async function download(id, filename, size) {\n",
              "      if (!google.colab.kernel.accessAllowed) {\n",
              "        return;\n",
              "      }\n",
              "      const div = document.createElement('div');\n",
              "      const label = document.createElement('label');\n",
              "      label.textContent = `Downloading \"${filename}\": `;\n",
              "      div.appendChild(label);\n",
              "      const progress = document.createElement('progress');\n",
              "      progress.max = size;\n",
              "      div.appendChild(progress);\n",
              "      document.body.appendChild(div);\n",
              "\n",
              "      const buffers = [];\n",
              "      let downloaded = 0;\n",
              "\n",
              "      const channel = await google.colab.kernel.comms.open(id);\n",
              "      // Send a message to notify the kernel that we're ready.\n",
              "      channel.send({})\n",
              "\n",
              "      for await (const message of channel.messages) {\n",
              "        // Send a message to notify the kernel that we're ready.\n",
              "        channel.send({})\n",
              "        if (message.buffers) {\n",
              "          for (const buffer of message.buffers) {\n",
              "            buffers.push(buffer);\n",
              "            downloaded += buffer.byteLength;\n",
              "            progress.value = downloaded;\n",
              "          }\n",
              "        }\n",
              "      }\n",
              "      const blob = new Blob(buffers, {type: 'application/binary'});\n",
              "      const a = document.createElement('a');\n",
              "      a.href = window.URL.createObjectURL(blob);\n",
              "      a.download = filename;\n",
              "      div.appendChild(a);\n",
              "      a.click();\n",
              "      div.remove();\n",
              "    }\n",
              "  "
            ],
            "text/plain": [
              "<IPython.core.display.Javascript object>"
            ]
          },
          "metadata": {
            "tags": []
          }
        },
        {
          "output_type": "display_data",
          "data": {
            "application/javascript": [
              "download(\"download_9d555564-f7ee-4f81-911e-f9fbc19a5542\", \"yeaz-performance.xlsx\", 5131)"
            ],
            "text/plain": [
              "<IPython.core.display.Javascript object>"
            ]
          },
          "metadata": {
            "tags": []
          }
        }
      ]
    }
  ]
}