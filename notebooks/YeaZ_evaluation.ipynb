{
 "cells": [
  {
   "cell_type": "markdown",
   "metadata": {},
   "source": [
    "# YeaZ output evaluation"
   ]
  },
  {
   "cell_type": "code",
   "execution_count": null,
   "metadata": {},
   "outputs": [],
   "source": [
    "import sys\n",
    "sys.path.append('../')\n",
    "#sys.path.append('%HOMEPATH%/detectron2') #insert local path to detecron2\n",
    "import numpy as np\n",
    "\n",
    "import yeastcells.clustering as clustering\n",
    "import yeastcells.features as features\n",
    "import yeastcells.data as data\n",
    "import yeastcells.model as model\n",
    "import yeastcells.output as output\n",
    "import yeastcells.visualize as visualize\n",
    "import yeastcells.evaluation as evaluation\n",
    "# import yeastcells.fp as fp"
   ]
  },
  {
   "cell_type": "code",
   "execution_count": null,
   "metadata": {},
   "outputs": [],
   "source": [
    "cd ~"
   ]
  },
  {
   "cell_type": "markdown",
   "metadata": {},
   "source": [
    "### Load YeaZ segmented masks"
   ]
  },
  {
   "cell_type": "code",
   "execution_count": null,
   "metadata": {},
   "outputs": [],
   "source": [
    "ts = 1\n",
    "fp = f'../../slow-data/yeastcells/data/cellstar_benchmark/TestSet{ts}/'\n",
    "fn_mask = f'YeaZ_results_mask_YIT_TS{ts}.tiff'\n",
    "masks = data.read_tiff_mask(f'{fp}/{fn_mask}')\n",
    "np.shape(masks)"
   ]
  },
  {
   "cell_type": "markdown",
   "metadata": {},
   "source": [
    "### Extract labels from masks"
   ]
  },
  {
   "cell_type": "code",
   "execution_count": null,
   "metadata": {},
   "outputs": [],
   "source": [
    "labels_grouped, labels, coordinates, instances = extract_labels(masks)"
   ]
  },
  {
   "cell_type": "markdown",
   "metadata": {},
   "source": [
    "### Load ground truth data and reformat prediction outputs into array"
   ]
  },
  {
   "cell_type": "code",
   "execution_count": null,
   "metadata": {},
   "outputs": [],
   "source": [
    "seg_path = f'{path}/GroundTruth_Segmentation.csv'\n",
    "track_path = f'{path}/GroundTruth_Tracking.csv'\n",
    "gt_s, gt_t = data.get_gt(seg_path, track_path)\n",
    "pred_s, pred_s_df, pred_t, pred_t_df = data.get_pred(labels_grouped, labels, coordinates)"
   ]
  },
  {
   "cell_type": "markdown",
   "metadata": {},
   "source": [
    "### Match predictions to ground truth"
   ]
  },
  {
   "cell_type": "code",
   "execution_count": null,
   "metadata": {},
   "outputs": [],
   "source": [
    "pred_s_, results_s = evaluation.get_seg_performance(pred_s, gt_s, instances, pipeline='YeaZ')\n",
    "pred_t_, results_t = evaluation.get_track_performance(pred_t, gt_t, instances, pipeline='YeaZ')"
   ]
  },
  {
   "cell_type": "code",
   "execution_count": null,
   "metadata": {},
   "outputs": [],
   "source": [
    "print(results_s)\n",
    "print(results_t)"
   ]
  },
  {
   "cell_type": "code",
   "execution_count": null,
   "metadata": {},
   "outputs": [],
   "source": [
    "metrics_s = evaluation.calculate_metrics(results_s, pred_s_, gt_s)\n",
    "metrics_t = evaluation.calculate_metrics(results_t, pred_t_, gt_t)"
   ]
  },
  {
   "cell_type": "code",
   "execution_count": null,
   "metadata": {},
   "outputs": [],
   "source": [
    "print(metrics_s)\n",
    "print(metrics_t)"
   ]
  }
 ],
 "metadata": {
  "kernelspec": {
   "display_name": "Yeast Cells",
   "language": "python",
   "name": "yeastcells"
  },
  "language_info": {
   "codemirror_mode": {
    "name": "ipython",
    "version": 3
   },
   "file_extension": ".py",
   "mimetype": "text/x-python",
   "name": "python",
   "nbconvert_exporter": "python",
   "pygments_lexer": "ipython3",
   "version": "3.7.8"
  }
 },
 "nbformat": 4,
 "nbformat_minor": 4
}
